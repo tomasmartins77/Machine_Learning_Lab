{
 "cells": [
  {
   "cell_type": "markdown",
   "metadata": {},
   "source": [
    "# AAut lab question 1 part 2\n",
    "## The ARX model"
   ]
  },
  {
   "cell_type": "markdown",
   "metadata": {},
   "source": [
    "# Initial Steps"
   ]
  },
  {
   "cell_type": "markdown",
   "metadata": {},
   "source": [
    "Import Libraries"
   ]
  },
  {
   "cell_type": "code",
   "execution_count": 1,
   "metadata": {},
   "outputs": [],
   "source": [
    "import numpy as np\n",
    "import matplotlib.pyplot as plt\n",
    "import warnings\n",
    "warnings.filterwarnings('ignore')\n",
    "\n",
    "from sklearn.linear_model import LinearRegression, LassoCV, RidgeCV\n",
    "from sklearn.model_selection import cross_validate\n",
    "from sklearn.metrics import make_scorer\n",
    "\n",
    "from sklearn.metrics import mean_squared_error\n",
    "from sklearn.metrics import r2_score"
   ]
  },
  {
   "cell_type": "markdown",
   "metadata": {},
   "source": [
    "Load the data"
   ]
  },
  {
   "cell_type": "code",
   "execution_count": 2,
   "metadata": {},
   "outputs": [],
   "source": [
    "u_train = np.load('u_train.npy')\n",
    "u_test = np.load('u_test.npy')\n",
    "output_train = np.load('output_train.npy')"
   ]
  },
  {
   "cell_type": "markdown",
   "metadata": {},
   "source": [
    "Time variables"
   ]
  },
  {
   "cell_type": "code",
   "execution_count": 3,
   "metadata": {},
   "outputs": [],
   "source": [
    "N = len(u_train)\n",
    "time = np.arange(0, 2550, 1)"
   ]
  },
  {
   "cell_type": "markdown",
   "metadata": {},
   "source": [
    "### Create important functions"
   ]
  },
  {
   "cell_type": "markdown",
   "metadata": {},
   "source": [
    "Function to calculate SSE"
   ]
  },
  {
   "cell_type": "code",
   "execution_count": 4,
   "metadata": {},
   "outputs": [],
   "source": [
    "def calculate_SSE(MSE, N):\n",
    "  # Calculate the sum of squared errors\n",
    "  SSE = MSE * N \n",
    "  return SSE"
   ]
  },
  {
   "cell_type": "markdown",
   "metadata": {},
   "source": [
    "Create the training matrix"
   ]
  },
  {
   "cell_type": "code",
   "execution_count": 5,
   "metadata": {},
   "outputs": [],
   "source": [
    "def create_regressor_matrix(n, m, d, N, output, u):\n",
    "    X = []\n",
    "    Y = []\n",
    "    for k in range(max(n, d + m), N):\n",
    "        # Construct the regressor vector Omega(k)\n",
    "        y_part = [-output[k-i] for i in range(1, n+1)]  # past y values\n",
    "        u_part = [u[k-d-i] for i in range(m+1)]  # past u values\n",
    "        X.append(y_part + u_part)\n",
    "        Y.append(output[k])\n",
    "\n",
    "    X = np.array(X)\n",
    "    Y = np.array(Y)\n",
    "    return X, Y"
   ]
  },
  {
   "cell_type": "markdown",
   "metadata": {},
   "source": [
    "Validation of the performance of the model"
   ]
  },
  {
   "cell_type": "code",
   "execution_count": 6,
   "metadata": {},
   "outputs": [],
   "source": [
    "def validate_model(model, X, Y):\n",
    "    mse_scorer = make_scorer(mean_squared_error, greater_is_better=False)\n",
    "    r2_scorer = make_scorer(r2_score)\n",
    "    cv_results = cross_validate(model, X, Y, cv=7, scoring={'mse': mse_scorer, 'r2': r2_scorer}, return_estimator=True, return_train_score=True)\n",
    "    train_mse = -cv_results['train_mse'].mean()\n",
    "    test_mse = -cv_results['test_mse'].mean()\n",
    "    train_r2 = cv_results['train_r2'].mean()\n",
    "    test_r2 = cv_results['test_r2'].mean()\n",
    "    return train_mse, test_mse, train_r2, test_r2"
   ]
  },
  {
   "cell_type": "markdown",
   "metadata": {},
   "source": [
    "Test best n, m, d"
   ]
  },
  {
   "cell_type": "code",
   "execution_count": 7,
   "metadata": {},
   "outputs": [],
   "source": [
    "def find_best_parameters(max_params, output_train, u_train):\n",
    "    best_params = {'n': None, 'm': None, 'd': None}\n",
    "    best_error = float('inf')\n",
    "    best_results = None\n",
    "\n",
    "    for n in range(1, max_params + 1):\n",
    "        for m in range(1, max_params + 1):\n",
    "            for d in range(1, max_params + 1):\n",
    "                X, Y = create_regressor_matrix(n, m, d, len(output_train), output_train, u_train)\n",
    "                train_mse, test_mse, train_r2, test_r2 = validate_model(LinearRegression(), X, Y)\n",
    "                model = LinearRegression().fit(X, Y)\n",
    "                poles = np.roots(np.insert(model.coef_[0:n], 0, 1))\n",
    "                if np.all(np.abs(poles) < 1):\n",
    "                    if test_mse < best_error:\n",
    "                        best_error = test_mse\n",
    "                        best_params = {'n': n, 'm': m, 'd': d}\n",
    "                        best_results = (train_mse, test_mse, train_r2, test_r2)\n",
    "\n",
    "    return best_params, best_results"
   ]
  },
  {
   "cell_type": "code",
   "execution_count": 41,
   "metadata": {},
   "outputs": [],
   "source": [
    "def find_best_parameters1(max_params, output_train, u_train):\n",
    "    best_params = {'n': None, 'm': None, 'd': None}\n",
    "    best_error = float('inf')\n",
    "    best_results = None\n",
    "    n=9\n",
    "    m=9\n",
    "    d=6\n",
    "    test_mse_values = []\n",
    "    d_values = []\n",
    "    plt.figure()\n",
    "    for d in range(1, max_params + 1):\n",
    "        X, Y = create_regressor_matrix(9, d, 6, len(output_train), output_train, u_train)\n",
    "        train_mse, test_mse, train_r2, test_r2 = validate_model(LinearRegression(), X, Y)\n",
    "        model = LinearRegression().fit(X, Y)\n",
    "        poles = np.roots(np.insert(model.coef_[0:n], 0, 1))\n",
    "        if np.all(np.abs(poles) < 1):\n",
    "            test_mse_values.append(test_mse)\n",
    "            d_values.append(d)\n",
    "            if test_mse < best_error:\n",
    "                best_error = test_mse\n",
    "                best_params = {'n': 9, 'm': 9, 'd': d}\n",
    "                best_results = (train_mse, test_mse, train_r2, test_r2)\n",
    "\n",
    "    plt.plot(d_values, test_mse_values)\n",
    "    plt.xlabel('m')\n",
    "    plt.ylabel('MSE')\n",
    "    plt.title('Evolution of MSE with m')\n",
    "    plt.grid(True)\n",
    "    plt.show() \n",
    "    return best_params, best_results"
   ]
  },
  {
   "cell_type": "markdown",
   "metadata": {},
   "source": [
    "## Test best parameters"
   ]
  },
  {
   "cell_type": "code",
   "execution_count": 42,
   "metadata": {},
   "outputs": [
    {
     "name": "stdout",
     "output_type": "stream",
     "text": [
      "n = 1, train_mse = 0.023909789833323345, test_mse = 0.02421581087272381, train_r2 = 0.9994466954675677, test_r2 = 0.999361767804287\n",
      "n = 2, train_mse = 0.02294374219737157, test_mse = 0.023278474095945308, train_r2 = 0.9994690319419524, test_r2 = 0.9993844365947476\n",
      "n = 3, train_mse = 0.02279284875134444, test_mse = 0.023125077830869804, train_r2 = 0.999472525380603, test_r2 = 0.9993888619270777\n",
      "n = 4, train_mse = 0.02215867106232886, test_mse = 0.022459928281440195, train_r2 = 0.9994873530967233, test_r2 = 0.9994073433370012\n",
      "n = 5, train_mse = 0.021378853323750616, test_mse = 0.021664502138401164, train_r2 = 0.9995055187800549, test_r2 = 0.9994292161815851\n",
      "n = 6, train_mse = 0.01790056103980659, test_mse = 0.018143038297219062, train_r2 = 0.999586059480264, test_r2 = 0.9995243147693749\n",
      "n = 7, train_mse = 0.01573740560257296, test_mse = 0.015978810740477113, train_r2 = 0.9996361794868338, test_r2 = 0.9995800662043951\n",
      "n = 8, train_mse = 0.015452499150899593, test_mse = 0.015716987546770367, train_r2 = 0.9996428545876445, test_r2 = 0.9995868835662025\n",
      "n = 9, train_mse = 0.014748779236049487, test_mse = 0.015011113971460198, train_r2 = 0.9996591705042371, test_r2 = 0.9996055612722842\n",
      "n = 10, train_mse = 0.013994300453902958, test_mse = 0.014254904277044653, train_r2 = 0.9996766148227031, test_r2 = 0.9996258517830144\n",
      "n = 11, train_mse = 0.013450060390804769, test_mse = 0.013717423188529611, train_r2 = 0.9996891831136169, test_r2 = 0.9996398664554026\n",
      "n = 12, train_mse = 0.012844219105721297, test_mse = 0.013108145836430453, train_r2 = 0.999703121976615, test_r2 = 0.9996553190126799\n",
      "n = 13, train_mse = 0.012229935737829859, test_mse = 0.012500012805310486, train_r2 = 0.9997172666843968, test_r2 = 0.9996711809819464\n",
      "n = 14, train_mse = 0.011916173404948905, test_mse = 0.012191237893807053, train_r2 = 0.9997244977721034, test_r2 = 0.9996803482116505\n",
      "n = 15, train_mse = 0.011724108297507679, test_mse = 0.012018520363145995, train_r2 = 0.9997289057642413, test_r2 = 0.9996845091588475\n",
      "n = 16, train_mse = 0.011590950089647566, test_mse = 0.011901721848406115, train_r2 = 0.9997319368517621, test_r2 = 0.9996874626223208\n",
      "n = 17, train_mse = 0.011458649703735923, test_mse = 0.011782369128335501, train_r2 = 0.999734923726117, test_r2 = 0.9996907812458465\n",
      "n = 18, train_mse = 0.011233354979800995, test_mse = 0.011558999495867849, train_r2 = 0.9997400624564822, test_r2 = 0.9996971842968464\n",
      "n = 19, train_mse = 0.011234513851569119, test_mse = 0.011556312182653483, train_r2 = 0.999739923742875, test_r2 = 0.9996973894000517\n",
      "n = 20, train_mse = 0.011233053031492846, test_mse = 0.011576332866660528, train_r2 = 0.9997398172813629, test_r2 = 0.9996965794374872\n",
      "n = 21, train_mse = 0.011235526880093546, test_mse = 0.01160198306016465, train_r2 = 0.9997396154039582, test_r2 = 0.999695777532693\n",
      "n = 22, train_mse = 0.011225804199101224, test_mse = 0.01160670387882524, train_r2 = 0.9997396969984383, test_r2 = 0.9996953559960201\n",
      "n = 23, train_mse = 0.011224099597425605, test_mse = 0.011609049255370476, train_r2 = 0.9997396078560307, test_r2 = 0.9996952615258551\n",
      "n = 24, train_mse = 0.011220215680018604, test_mse = 0.011624705580706746, train_r2 = 0.9997395585478556, test_r2 = 0.999694700821896\n",
      "n = 25, train_mse = 0.011215276031786871, test_mse = 0.011638095056048342, train_r2 = 0.9997395379351717, test_r2 = 0.9996943449161801\n",
      "n = 26, train_mse = 0.011190232066373184, test_mse = 0.01162874732089558, train_r2 = 0.9997399712975448, test_r2 = 0.9996949114028242\n",
      "n = 27, train_mse = 0.011175880600375694, test_mse = 0.011628628415577689, train_r2 = 0.9997401391870623, test_r2 = 0.999695074432697\n",
      "n = 28, train_mse = 0.011164883350689377, test_mse = 0.01163287992414058, train_r2 = 0.9997402142625008, test_r2 = 0.9996949045956091\n",
      "n = 29, train_mse = 0.011164829568735083, test_mse = 0.011639496664279738, train_r2 = 0.9997400261834696, test_r2 = 0.9996945723594421\n",
      "n = 30, train_mse = 0.011162828709420843, test_mse = 0.011646016982799715, train_r2 = 0.9997398791872635, test_r2 = 0.9996939546642271\n",
      "n = 31, train_mse = 0.011148830134030419, test_mse = 0.011647735811874121, train_r2 = 0.9997400264972427, test_r2 = 0.9996939996369656\n",
      "n = 32, train_mse = 0.01112812739799928, test_mse = 0.011628564702706973, train_r2 = 0.9997403227864667, test_r2 = 0.9996943976675668\n",
      "n = 33, train_mse = 0.011082167473550673, test_mse = 0.01160828726877638, train_r2 = 0.9997412115093196, test_r2 = 0.9996947485354513\n",
      "n = 34, train_mse = 0.011068956925563311, test_mse = 0.011615395473411122, train_r2 = 0.9997413104807357, test_r2 = 0.9996943099273246\n",
      "n = 35, train_mse = 0.011062103325364978, test_mse = 0.01162773010383285, train_r2 = 0.9997412553195006, test_r2 = 0.9996930757074215\n",
      "n = 36, train_mse = 0.011061995321285078, test_mse = 0.011654253063242248, train_r2 = 0.9997410294200976, test_r2 = 0.9996920148286313\n",
      "n = 37, train_mse = 0.011053605902065276, test_mse = 0.011672352254093169, train_r2 = 0.9997410070651795, test_r2 = 0.9996917727731499\n",
      "n = 38, train_mse = 0.011053972853261892, test_mse = 0.011680488688066962, train_r2 = 0.9997407815975682, test_r2 = 0.9996917539913251\n",
      "n = 39, train_mse = 0.011046958261757615, test_mse = 0.011684608164578317, train_r2 = 0.9997407296502211, test_r2 = 0.9996915886019595\n",
      "n = 40, train_mse = 0.011048187965693639, test_mse = 0.011706142814498924, train_r2 = 0.999740470817955, test_r2 = 0.999690759632557\n",
      "n = 41, train_mse = 0.011050670051826169, test_mse = 0.011690327635982085, train_r2 = 0.9997401670160853, test_r2 = 0.9996903892695137\n",
      "n = 42, train_mse = 0.011044855477228279, test_mse = 0.011712445826560672, train_r2 = 0.9997400657772154, test_r2 = 0.999689601774394\n",
      "n = 43, train_mse = 0.011046300088575411, test_mse = 0.011716008176276993, train_r2 = 0.9997397730285653, test_r2 = 0.999688887414302\n",
      "n = 44, train_mse = 0.011027602217207602, test_mse = 0.011697609449477809, train_r2 = 0.9997399509703496, test_r2 = 0.9996896969353574\n",
      "n = 45, train_mse = 0.010972884085843918, test_mse = 0.011673791811474436, train_r2 = 0.9997409824925366, test_r2 = 0.9996900968049113\n",
      "n = 46, train_mse = 0.010952194425339902, test_mse = 0.011667460352023401, train_r2 = 0.9997412186850728, test_r2 = 0.9996902653296392\n",
      "n = 47, train_mse = 0.010947849208085225, test_mse = 0.011673099503401705, train_r2 = 0.9997410608887444, test_r2 = 0.9996893423964481\n",
      "n = 48, train_mse = 0.01091042470537675, test_mse = 0.01163859177240022, train_r2 = 0.9997416792361571, test_r2 = 0.9996896001560055\n",
      "n = 49, train_mse = 0.010863252647162128, test_mse = 0.011599590709078912, train_r2 = 0.9997425230272114, test_r2 = 0.9996896358856643\n",
      "n = 50, train_mse = 0.010747936069224227, test_mse = 0.011502938709414517, train_r2 = 0.9997449860614461, test_r2 = 0.9996906755902769\n"
     ]
    },
    {
     "data": {
      "image/png": "[encoded data removed]",
      "text/plain": [
       "<Figure size 640x480 with 1 Axes>"
      ]
     },
     "metadata": {},
     "output_type": "display_data"
    },
    {
     "name": "stdout",
     "output_type": "stream",
     "text": [
      "Best Parameters: n=9, m=9, d=50\n",
      "Train MSE: 0.010747936069224227\n",
      "Test MSE: 0.011502938709414517\n",
      "Train R2: 0.9997449860614461\n",
      "Test R2: 0.9996906755902769\n"
     ]
    }
   ],
   "source": [
    "# Find the best parameters\n",
    "max_params = 50\n",
    "best_params, best_results = find_best_parameters1(max_params, output_train, u_train)\n",
    "\n",
    "print(f\"Best Parameters: n={best_params['n']}, m={best_params['m']}, d={best_params['d']}\")\n",
    "print(f\"Train MSE: {best_results[0]}\")\n",
    "print(f\"Test MSE: {best_results[1]}\")\n",
    "print(f\"Train R2: {best_results[2]}\")\n",
    "print(f\"Test R2: {best_results[3]}\")"
   ]
  },
  {
   "cell_type": "markdown",
   "metadata": {},
   "source": [
    "## Test best model\n",
    "Use best parameters from before"
   ]
  },
  {
   "cell_type": "code",
   "execution_count": 85,
   "metadata": {},
   "outputs": [],
   "source": [
    "n = 50  # order for y (output)\n",
    "m = 50  # order for u (input)\n",
    "d = 6  # delay"
   ]
  },
  {
   "cell_type": "code",
   "execution_count": null,
   "metadata": {},
   "outputs": [],
   "source": [
    "X, Y = create_regressor_matrix(n, m, d, N, output_train, u_train)\n",
    "len(X), len(Y)"
   ]
  },
  {
   "cell_type": "code",
   "execution_count": null,
   "metadata": {},
   "outputs": [],
   "source": [
    "train_mse_LR, test_mse_LR, train_r2_LR, test_r2_LR = validate_model(LinearRegression(), X, Y)\n",
    "\n",
    "train_mse_L, test_mse_L, train_r2_L, test_r2_L = validate_model(LassoCV(max_iter=10000),X, Y)\n",
    "\n",
    "train_mse_R, test_mse_R, train_r2_R, test_r2_R = validate_model(RidgeCV(), X, Y)\n",
    "\n",
    "# Combine all MSE and R2 results\n",
    "results = {\n",
    "    'LinearRegression': (train_mse_LR, test_mse_LR, train_r2_LR, test_r2_LR),\n",
    "    'LassoCV': (train_mse_L, test_mse_L, train_r2_L, test_r2_L),\n",
    "    'RidgeCV': (train_mse_R, test_mse_R, train_r2_R, test_r2_R),\n",
    "}\n",
    "\n",
    "# Find the best model based on test MSE\n",
    "best_model = min(results, key=lambda k: results[k][1])\n",
    "best_train_mse, best_test_mse, best_train_r2, best_test_r2 = results[best_model]\n",
    "\n",
    "print(f\"Best Model: {best_model}\")\n",
    "print(f\"Train MSE: {best_train_mse}\")\n",
    "print(f\"Test MSE: {best_test_mse}\")\n",
    "print(f\"Train R2: {best_train_r2}\")\n",
    "print(f\"Test R2: {best_test_r2}\")"
   ]
  },
  {
   "cell_type": "markdown",
   "metadata": {},
   "source": [
    "## Final output prediction"
   ]
  },
  {
   "cell_type": "code",
   "execution_count": null,
   "metadata": {},
   "outputs": [],
   "source": [
    "# Fit the ARX model using linear regression\n",
    "model = RidgeCV() # Change to the best model from before\n",
    "model.fit(X, Y)"
   ]
  },
  {
   "cell_type": "code",
   "execution_count": null,
   "metadata": {},
   "outputs": [],
   "source": [
    "# Predict the values for the first 500 points\n",
    "predicted_y_train = []\n",
    "y_prev = list(output_train[:n])  # Initialize with the first n values of y from training set\n",
    "\n",
    "for k in range(500):\n",
    "    # Create the regressor for the training set\n",
    "    y_part = [-y_prev[i] for i in range(n)]  # Use predicted y values iteratively\n",
    "    u_part = [u_train[k-d-i] if k-d-i >= 0 else 0 for i in range(m+1)]  # Past u values from u_train\n",
    "    Omega_train = np.array(y_part + u_part)\n",
    "    # Predict y(k)\n",
    "    y_pred = model.predict(Omega_train.reshape(1, -1))[0]\n",
    "    \n",
    "    # Append the prediction and update y_prev for the next iteration\n",
    "    predicted_y_train.append(y_pred)\n",
    "    y_prev = [y_pred] + y_prev[:-1]  # Update with the new prediction\n",
    "# Convert to numpy array\n",
    "predicted_y_train = np.array(predicted_y_train)\n",
    "# Plot the original and predicted data\n",
    "plt.figure(figsize=(10, 6))\n",
    "plt.plot(time[100:500], output_train[100:500], label='Original Data')\n",
    "plt.plot(time[100:500], predicted_y_train[100:], label='Predicted Data')\n",
    "plt.legend()\n",
    "plt.xlabel('Discrete time')\n",
    "plt.ylabel('Output')\n",
    "plt.title('Comparison of Original and Predicted Data from time stamp 100 to 500')\n",
    "plt.show()"
   ]
  },
  {
   "cell_type": "code",
   "execution_count": 90,
   "metadata": {},
   "outputs": [],
   "source": [
    "# Now make predictions on the test set (u_test)\n",
    "predicted_y_test = []\n",
    "y_prev = list(output_train[-n:])  # Initialize with the last n values of y from training set\n",
    "\n",
    "for k in range(len(u_test)):\n",
    "    # Create the regressor for the test set\n",
    "    y_part = [-y_prev[i] for i in range(n)]  # Use predicted y values iteratively\n",
    "    u_part = [u_test[k-d-i] if k-d-i >= 0 else 0 for i in range(m+1)]  # Past u values from u_test\n",
    "    Omega_test = np.array(y_part + u_part)\n",
    "    # Predict y(k)\n",
    "    y_pred = model.predict(Omega_test.reshape(1, -1))[0]\n",
    "    \n",
    "    # Append the prediction and update y_prev for the next iteration\n",
    "    predicted_y_test.append(y_pred)\n",
    "    y_prev = [y_pred] + y_prev[:-1]  # Update with the new prediction\n",
    "\n",
    "# Convert to numpy array\n",
    "predicted_y_test = np.array(predicted_y_test)"
   ]
  },
  {
   "cell_type": "code",
   "execution_count": 94,
   "metadata": {},
   "outputs": [
    {
     "name": "stdout",
     "output_type": "stream",
     "text": [
      "400\n"
     ]
    }
   ],
   "source": [
    "# Save only the last 400 samples for submission (indexes 110 to 509 of test data)\n",
    "final_predictions = predicted_y_test[-400:]\n",
    "np.save('predicted_y_test.npy', final_predictions)"
   ]
  },
  {
   "cell_type": "code",
   "execution_count": null,
   "metadata": {},
   "outputs": [],
   "source": [
    "plt.plot(time[:N], output_train)\n",
    "plt.plot(time[-510:], predicted_y_test)\n",
    "plt.legend(['Training data', 'Predicted test data'])\n",
    "plt.xlabel('Discrete time')\n",
    "plt.ylabel('Output')"
   ]
  }
 ],
 "metadata": {
  "kernelspec": {
   "display_name": "Python 3",
   "language": "python",
   "name": "python3"
  },
  "language_info": {
   "codemirror_mode": {
    "name": "ipython",
    "version": 3
   },
   "file_extension": ".py",
   "mimetype": "text/x-python",
   "name": "python",
   "nbconvert_exporter": "python",
   "pygments_lexer": "ipython3",
   "version": "3.12.6"
  }
 },
 "nbformat": 4,
 "nbformat_minor": 2
}
