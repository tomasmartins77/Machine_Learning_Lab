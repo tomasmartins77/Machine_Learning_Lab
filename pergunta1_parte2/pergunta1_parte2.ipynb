{
 "cells": [
  {
   "cell_type": "markdown",
   "metadata": {},
   "source": [
    "# AAut lab question 1 part 2\n",
    "## The ARX model"
   ]
  },
  {
   "cell_type": "markdown",
   "metadata": {},
   "source": [
    "# Initial Steps"
   ]
  },
  {
   "cell_type": "markdown",
   "metadata": {},
   "source": [
    "Import Libraries"
   ]
  },
  {
   "cell_type": "code",
   "execution_count": 51,
   "metadata": {},
   "outputs": [],
   "source": [
    "import numpy as np\n",
    "import matplotlib.pyplot as plt\n",
    "import warnings\n",
    "warnings.filterwarnings('ignore')\n",
    "\n",
    "from sklearn.linear_model import LinearRegression, LassoCV, RidgeCV\n",
    "from sklearn.model_selection import cross_validate\n",
    "from sklearn.metrics import make_scorer\n",
    "\n",
    "from sklearn.metrics import mean_squared_error\n",
    "from sklearn.metrics import r2_score"
   ]
  },
  {
   "cell_type": "markdown",
   "metadata": {},
   "source": [
    "Load the data"
   ]
  },
  {
   "cell_type": "code",
   "execution_count": 52,
   "metadata": {},
   "outputs": [],
   "source": [
    "u_train = np.load('u_train.npy')\n",
    "u_test = np.load('u_test.npy')\n",
    "output_train = np.load('output_train.npy')"
   ]
  },
  {
   "cell_type": "markdown",
   "metadata": {},
   "source": [
    "Time variables"
   ]
  },
  {
   "cell_type": "code",
   "execution_count": 53,
   "metadata": {},
   "outputs": [],
   "source": [
    "N = len(u_train)\n",
    "time = np.arange(0, 2550, 1)"
   ]
  },
  {
   "cell_type": "markdown",
   "metadata": {},
   "source": [
    "### Create important functions"
   ]
  },
  {
   "cell_type": "markdown",
   "metadata": {},
   "source": [
    "Function to calculate SSE"
   ]
  },
  {
   "cell_type": "code",
   "execution_count": 54,
   "metadata": {},
   "outputs": [],
   "source": [
    "def calculate_SSE(MSE, N):\n",
    "  # Calculate the sum of squared errors\n",
    "  SSE = MSE * N \n",
    "  return SSE"
   ]
  },
  {
   "cell_type": "markdown",
   "metadata": {},
   "source": [
    "Create the training matrix"
   ]
  },
  {
   "cell_type": "code",
   "execution_count": 55,
   "metadata": {},
   "outputs": [],
   "source": [
    "def create_regressor_matrix(n, m, d, N, output, u):\n",
    "    X = []\n",
    "    Y = []\n",
    "    for k in range(max(n, d + m), N):\n",
    "        # Construct the regressor vector Omega(k)\n",
    "        y_part = [-output[k-i] for i in range(1, n+1)]  # past y values\n",
    "        u_part = [u[k-d-i] for i in range(m+1)]  # past u values\n",
    "        X.append(y_part + u_part)\n",
    "        Y.append(output[k])\n",
    "\n",
    "    X = np.array(X)\n",
    "    Y = np.array(Y)\n",
    "    return X, Y"
   ]
  },
  {
   "cell_type": "markdown",
   "metadata": {},
   "source": [
    "Validation of the performance of the model"
   ]
  },
  {
   "cell_type": "code",
   "execution_count": 56,
   "metadata": {},
   "outputs": [],
   "source": [
    "def validate_model(model, X, Y):\n",
    "    mse_scorer = make_scorer(mean_squared_error, greater_is_better=False)\n",
    "    r2_scorer = make_scorer(r2_score)\n",
    "    cv_results = cross_validate(model, X, Y, cv=7, scoring={'mse': mse_scorer, 'r2': r2_scorer}, return_estimator=True, return_train_score=True)\n",
    "    train_mse = -cv_results['train_mse'].mean()\n",
    "    test_mse = -cv_results['test_mse'].mean()\n",
    "    train_r2 = cv_results['train_r2'].mean()\n",
    "    test_r2 = cv_results['test_r2'].mean()\n",
    "    return train_mse, test_mse, train_r2, test_r2"
   ]
  },
  {
   "cell_type": "markdown",
   "metadata": {},
   "source": [
    "Test best n, m, d"
   ]
  },
  {
   "cell_type": "code",
   "execution_count": 57,
   "metadata": {},
   "outputs": [],
   "source": [
    "def find_best_parameters(max_params, output_train, u_train):\n",
    "    best_params = {'n': None, 'm': None, 'd': None}\n",
    "    best_error = float('inf')\n",
    "    best_results = None\n",
    "\n",
    "    for n in range(1, max_params + 1):\n",
    "        for m in range(1, max_params + 1):\n",
    "            for d in range(1, max_params + 1):\n",
    "                X, Y = create_regressor_matrix(n, m, d, len(output_train), output_train, u_train)\n",
    "                train_mse, test_mse, train_r2, test_r2 = validate_model(LinearRegression(), X, Y)\n",
    "                model = LinearRegression().fit(X, Y)\n",
    "                poles = np.roots(np.insert(model.coef_[0:n], 0, 1))\n",
    "                if np.all(np.abs(poles) < 1):\n",
    "                    if test_mse < best_error:\n",
    "                        best_error = test_mse\n",
    "                        best_params = {'n': n, 'm': m, 'd': d}\n",
    "                        best_results = (train_mse, test_mse, train_r2, test_r2)\n",
    "\n",
    "    return best_params, best_results"
   ]
  },
  {
   "cell_type": "code",
   "execution_count": 80,
   "metadata": {},
   "outputs": [],
   "source": [
    "def find_best_parameters1(max_params, output_train, u_train):\n",
    "    best_params = {'n': None, 'm': None, 'd': None}\n",
    "    best_error = float('inf')\n",
    "    best_results = None\n",
    "\n",
    "    for d in range(1, max_params + 1):\n",
    "        X, Y = create_regressor_matrix(9, 9, d, len(output_train), output_train, u_train)\n",
    "        train_mse, test_mse, train_r2, test_r2 = validate_model(LinearRegression(), X, Y)\n",
    "        model = LinearRegression().fit(X, Y)\n",
    "        poles = np.roots(np.insert(model.coef_[0:n], 0, 1))\n",
    "        if np.all(np.abs(poles) < 1):\n",
    "            print(f\"d = {d}, train_mse = {train_mse}, test_mse = {test_mse}, train_r2 = {train_r2}, test_r2 = {test_r2}\")\n",
    "            if test_mse < best_error:\n",
    "                best_error = test_mse\n",
    "                best_params = {'n': 9, 'm': 9, 'd': d}\n",
    "                best_results = (train_mse, test_mse, train_r2, test_r2)\n",
    "\n",
    "    return best_params, best_results"
   ]
  },
  {
   "cell_type": "markdown",
   "metadata": {},
   "source": [
    "## Test best parameters"
   ]
  },
  {
   "cell_type": "code",
   "execution_count": null,
   "metadata": {},
   "outputs": [],
   "source": [
    "# Find the best parameters\n",
    "max_params = 9\n",
    "best_params, best_results = find_best_parameters(max_params, output_train, u_train)\n",
    "\n",
    "print(f\"Best Parameters: n={best_params['n']}, m={best_params['m']}, d={best_params['d']}\")\n",
    "print(f\"Train MSE: {best_results[0]}\")\n",
    "print(f\"Test MSE: {best_results[1]}\")\n",
    "print(f\"Train R2: {best_results[2]}\")\n",
    "print(f\"Test R2: {best_results[3]}\")"
   ]
  },
  {
   "cell_type": "markdown",
   "metadata": {},
   "source": [
    "## Test best model\n",
    "Use best parameters from before"
   ]
  },
  {
   "cell_type": "code",
   "execution_count": 85,
   "metadata": {},
   "outputs": [],
   "source": [
    "n = 50  # order for y (output)\n",
    "m = 50  # order for u (input)\n",
    "d = 6  # delay"
   ]
  },
  {
   "cell_type": "code",
   "execution_count": null,
   "metadata": {},
   "outputs": [],
   "source": [
    "X, Y = create_regressor_matrix(n, m, d, N, output_train, u_train)\n",
    "len(X), len(Y)"
   ]
  },
  {
   "cell_type": "code",
   "execution_count": null,
   "metadata": {},
   "outputs": [],
   "source": [
    "train_mse_LR, test_mse_LR, train_r2_LR, test_r2_LR = validate_model(LinearRegression(), X, Y)\n",
    "\n",
    "train_mse_L, test_mse_L, train_r2_L, test_r2_L = validate_model(LassoCV(max_iter=10000),X, Y)\n",
    "\n",
    "train_mse_R, test_mse_R, train_r2_R, test_r2_R = validate_model(RidgeCV(), X, Y)\n",
    "\n",
    "# Combine all MSE and R2 results\n",
    "results = {\n",
    "    'LinearRegression': (train_mse_LR, test_mse_LR, train_r2_LR, test_r2_LR),\n",
    "    'LassoCV': (train_mse_L, test_mse_L, train_r2_L, test_r2_L),\n",
    "    'RidgeCV': (train_mse_R, test_mse_R, train_r2_R, test_r2_R),\n",
    "}\n",
    "\n",
    "# Find the best model based on test MSE\n",
    "best_model = min(results, key=lambda k: results[k][1])\n",
    "best_train_mse, best_test_mse, best_train_r2, best_test_r2 = results[best_model]\n",
    "\n",
    "print(f\"Best Model: {best_model}\")\n",
    "print(f\"Train MSE: {best_train_mse}\")\n",
    "print(f\"Test MSE: {best_test_mse}\")\n",
    "print(f\"Train R2: {best_train_r2}\")\n",
    "print(f\"Test R2: {best_test_r2}\")"
   ]
  },
  {
   "cell_type": "markdown",
   "metadata": {},
   "source": [
    "## Final output prediction"
   ]
  },
  {
   "cell_type": "code",
   "execution_count": null,
   "metadata": {},
   "outputs": [],
   "source": [
    "# Fit the ARX model using linear regression\n",
    "model = RidgeCV() # Change to the best model from before\n",
    "model.fit(X, Y)"
   ]
  },
  {
   "cell_type": "code",
   "execution_count": null,
   "metadata": {},
   "outputs": [],
   "source": [
    "# Predict the values for the first 500 points\n",
    "predicted_y_train = []\n",
    "y_prev = list(output_train[:n])  # Initialize with the first n values of y from training set\n",
    "\n",
    "for k in range(500):\n",
    "    # Create the regressor for the training set\n",
    "    y_part = [-y_prev[i] for i in range(n)]  # Use predicted y values iteratively\n",
    "    u_part = [u_train[k-d-i] if k-d-i >= 0 else 0 for i in range(m+1)]  # Past u values from u_train\n",
    "    Omega_train = np.array(y_part + u_part)\n",
    "    # Predict y(k)\n",
    "    y_pred = model.predict(Omega_train.reshape(1, -1))[0]\n",
    "    \n",
    "    # Append the prediction and update y_prev for the next iteration\n",
    "    predicted_y_train.append(y_pred)\n",
    "    y_prev = [y_pred] + y_prev[:-1]  # Update with the new prediction\n",
    "# Convert to numpy array\n",
    "predicted_y_train = np.array(predicted_y_train)\n",
    "# Plot the original and predicted data\n",
    "plt.figure(figsize=(10, 6))\n",
    "plt.plot(time[100:500], output_train[100:500], label='Original Data')\n",
    "plt.plot(time[100:500], predicted_y_train[100:], label='Predicted Data')\n",
    "plt.legend()\n",
    "plt.xlabel('Discrete time')\n",
    "plt.ylabel('Output')\n",
    "plt.title('Comparison of Original and Predicted Data from time stamp 100 to 500')\n",
    "plt.show()"
   ]
  },
  {
   "cell_type": "code",
   "execution_count": 90,
   "metadata": {},
   "outputs": [],
   "source": [
    "# Now make predictions on the test set (u_test)\n",
    "predicted_y_test = []\n",
    "y_prev = list(output_train[-n:])  # Initialize with the last n values of y from training set\n",
    "\n",
    "for k in range(len(u_test)):\n",
    "    # Create the regressor for the test set\n",
    "    y_part = [-y_prev[i] for i in range(n)]  # Use predicted y values iteratively\n",
    "    u_part = [u_test[k-d-i] if k-d-i >= 0 else 0 for i in range(m+1)]  # Past u values from u_test\n",
    "    Omega_test = np.array(y_part + u_part)\n",
    "    # Predict y(k)\n",
    "    y_pred = model.predict(Omega_test.reshape(1, -1))[0]\n",
    "    \n",
    "    # Append the prediction and update y_prev for the next iteration\n",
    "    predicted_y_test.append(y_pred)\n",
    "    y_prev = [y_pred] + y_prev[:-1]  # Update with the new prediction\n",
    "\n",
    "# Convert to numpy array\n",
    "predicted_y_test = np.array(predicted_y_test)"
   ]
  },
  {
   "cell_type": "code",
   "execution_count": 94,
   "metadata": {},
   "outputs": [
    {
     "name": "stdout",
     "output_type": "stream",
     "text": [
      "400\n"
     ]
    }
   ],
   "source": [
    "# Save only the last 400 samples for submission (indexes 110 to 509 of test data)\n",
    "final_predictions = predicted_y_test[-400:]\n",
    "np.save('predicted_y_test.npy', final_predictions)"
   ]
  },
  {
   "cell_type": "code",
   "execution_count": null,
   "metadata": {},
   "outputs": [],
   "source": [
    "plt.plot(time[:N], output_train)\n",
    "plt.plot(time[-510:], predicted_y_test)\n",
    "plt.legend(['Training data', 'Predicted test data'])\n",
    "plt.xlabel('Discrete time')\n",
    "plt.ylabel('Output')"
   ]
  }
 ],
 "metadata": {
  "kernelspec": {
   "display_name": "Python 3",
   "language": "python",
   "name": "python3"
  },
  "language_info": {
   "codemirror_mode": {
    "name": "ipython",
    "version": 3
   },
   "file_extension": ".py",
   "mimetype": "text/x-python",
   "name": "python",
   "nbconvert_exporter": "python",
   "pygments_lexer": "ipython3",
   "version": "3.12.6"
  }
 },
 "nbformat": 4,
 "nbformat_minor": 2
}
