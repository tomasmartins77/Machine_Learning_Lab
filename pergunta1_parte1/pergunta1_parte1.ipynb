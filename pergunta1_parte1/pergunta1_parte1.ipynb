{
 "cells": [
  {
   "cell_type": "markdown",
   "metadata": {},
   "source": [
    "# AAut lab question 1 part 1\n",
    "### Linear regression with outliers\n",
    "\n",
    " Import libraries"
   ]
  },
  {
   "cell_type": "markdown",
   "metadata": {},
   "source": [
    "# Initial steps\n",
    "Load libraries, load data, visual representations"
   ]
  },
  {
   "cell_type": "code",
   "execution_count": 80,
   "metadata": {},
   "outputs": [],
   "source": [
    "import numpy as np\n",
    "import matplotlib.pyplot as plt\n",
    "import warnings\n",
    "warnings.filterwarnings('ignore')\n",
    "\n",
    "from sklearn.linear_model import LinearRegression, LassoCV, RidgeCV, RANSACRegressor\n",
    "from sklearn.model_selection import cross_validate\n",
    "from sklearn.metrics import make_scorer\n",
    "\n",
    "from sklearn.metrics import mean_squared_error\n",
    "from sklearn.metrics import r2_score"
   ]
  },
  {
   "cell_type": "markdown",
   "metadata": {},
   "source": [
    "Load training data"
   ]
  },
  {
   "cell_type": "code",
   "execution_count": 81,
   "metadata": {},
   "outputs": [],
   "source": [
    "# Importing the datasets\n",
    "dataX = np.load('X_train.npy')\n",
    "dataY = np.load('Y_train.npy')\n",
    "testX = np.load('X_test.npy')\n",
    "parameters = np.array([\"air temperature\", \"water temperature\", \"wind speed\", \"wind direction\", \"illumination\"])"
   ]
  },
  {
   "cell_type": "markdown",
   "metadata": {},
   "source": [
    "# Important functions"
   ]
  },
  {
   "cell_type": "markdown",
   "metadata": {},
   "source": [
    "Calculate SSE"
   ]
  },
  {
   "cell_type": "code",
   "execution_count": 82,
   "metadata": {},
   "outputs": [],
   "source": [
    "def calculate_SSE(MSE, N):\n",
    "  # Calculate the sum of squared errors\n",
    "  SSE = MSE * N \n",
    "  return SSE"
   ]
  },
  {
   "cell_type": "markdown",
   "metadata": {},
   "source": [
    "## Removal of outliers"
   ]
  },
  {
   "cell_type": "markdown",
   "metadata": {},
   "source": [
    "#### Predict a linear regression and remove the point with the highest mse\n",
    "Comment Break and uncomment remove_outliers_x_axis to also remove outliers from x"
   ]
  },
  {
   "cell_type": "code",
   "execution_count": 83,
   "metadata": {},
   "outputs": [],
   "source": [
    "def remove_outliers(X, Y):\n",
    "    num_points_to_remove = int(0.25 * len(Y))  # Remove 25% of the data because of human error\n",
    "    mse_scorer = make_scorer(mean_squared_error, greater_is_better=False)\n",
    "    \n",
    "    for _ in range(num_points_to_remove):\n",
    "        model = LinearRegression()\n",
    "        cv_results = cross_validate(model, X, Y, cv=5, scoring=mse_scorer, return_estimator=True)\n",
    "        \n",
    "        # Get the model with the lowest MSE\n",
    "        best_model_index = np.argmax(cv_results['test_score'])\n",
    "        best_model = cv_results['estimator'][best_model_index]\n",
    "        \n",
    "        predictions = best_model.predict(X)\n",
    "        mse = (Y - predictions) ** 2\n",
    "        \n",
    "        # Remove the point with the highest MSE\n",
    "        max_mse_index = np.argmax(mse)\n",
    "        if mse[max_mse_index] < 1:\n",
    "            break\n",
    "        \n",
    "        X = np.delete(X, max_mse_index, axis=0)\n",
    "        Y = np.delete(Y, max_mse_index, axis=0)\n",
    "    \n",
    "    return X, Y"
   ]
  },
  {
   "cell_type": "markdown",
   "metadata": {},
   "source": [
    "Validation of the model with cross validation"
   ]
  },
  {
   "cell_type": "code",
   "execution_count": 84,
   "metadata": {},
   "outputs": [],
   "source": [
    "def validate_model(model, X, Y):\n",
    "    mse_scorer = make_scorer(mean_squared_error, greater_is_better=False)\n",
    "    r2_scorer = make_scorer(r2_score)\n",
    "    cv_results = cross_validate(model, X, Y, cv=5, scoring={'mse': mse_scorer, 'r2': r2_scorer}, return_estimator=True, return_train_score=True)\n",
    "    train_mse = -cv_results['train_mse'].mean()\n",
    "    test_mse = -cv_results['test_mse'].mean()\n",
    "    train_r2 = cv_results['train_r2'].mean()\n",
    "    test_r2 = cv_results['test_r2'].mean()\n",
    "    return train_mse, test_mse, train_r2, test_r2"
   ]
  },
  {
   "cell_type": "markdown",
   "metadata": {},
   "source": [
    "# Experiment the models"
   ]
  },
  {
   "cell_type": "markdown",
   "metadata": {},
   "source": [
    "## Remove outliers from y and x axis"
   ]
  },
  {
   "cell_type": "code",
   "execution_count": null,
   "metadata": {},
   "outputs": [],
   "source": [
    "dataX_no_outliers, dataY_no_outliers = remove_outliers(dataX, dataY)\n",
    "print(\"Number of data points after removing outliers:\", len(dataY_no_outliers))"
   ]
  },
  {
   "cell_type": "code",
   "execution_count": null,
   "metadata": {},
   "outputs": [],
   "source": [
    "for i in range(dataX_no_outliers.shape[1]):\n",
    "    plot = plt.figure(i)\n",
    "    plt.plot(dataX[:,i], dataY, 'o')\n",
    "    plt.plot(dataX_no_outliers[:,i], dataY_no_outliers, 'o', markersize=2)\n",
    "    plt.xlabel(parameters[i])\n",
    "    plt.ylabel(\"Concentration of toxic algae\")\n",
    "    plt.legend([\"Original data\", \"Altered data\"])"
   ]
  },
  {
   "cell_type": "markdown",
   "metadata": {},
   "source": [
    "### Create models"
   ]
  },
  {
   "cell_type": "markdown",
   "metadata": {},
   "source": [
    "Test to see the best model"
   ]
  },
  {
   "cell_type": "code",
   "execution_count": null,
   "metadata": {},
   "outputs": [],
   "source": [
    "train_mse_LR, test_mse_LR, train_r2_LR, test_r2_LR = validate_model(LinearRegression(), dataX_no_outliers, dataY_no_outliers)\n",
    "\n",
    "train_mse_L, test_mse_L, train_r2_L, test_r2_L = validate_model(LassoCV(max_iter=10000), dataX_no_outliers, dataY_no_outliers)\n",
    "\n",
    "train_mse_R, test_mse_R, train_r2_R, test_r2_R = validate_model(RidgeCV(), dataX_no_outliers, dataY_no_outliers)\n",
    "\n",
    "train_mse_RR, test_mse_RR, train_r2_RR, test_r2_RR = validate_model(RANSACRegressor(), dataX, dataY)\n",
    "\n",
    "# Combine all MSE and R2 results\n",
    "results = {\n",
    "    'LinearRegression': (train_mse_LR, test_mse_LR, train_r2_LR, test_r2_LR),\n",
    "    'LassoCV': (train_mse_L, test_mse_L, train_r2_L, test_r2_L),\n",
    "    'RidgeCV': (train_mse_R, test_mse_R, train_r2_R, test_r2_R),\n",
    "    'RANSACRegressor': (train_mse_RR, test_mse_RR, train_r2_RR, test_r2_RR)\n",
    "}\n",
    "\n",
    "# Find the best model based on test MSE\n",
    "best_model = min(results, key=lambda k: results[k][1])\n",
    "best_train_mse, best_test_mse, best_train_r2, best_test_r2 = results[best_model]\n",
    "\n",
    "print(f\"Best Model: {best_model}\")\n",
    "print(f\"Train SSE: {calculate_SSE(best_train_mse, len(dataY_no_outliers))}\")\n",
    "print(f\"Test SSE: {calculate_SSE(best_test_mse, len(dataY_no_outliers))}\")\n",
    "print(f\"Train R2: {best_train_r2}\")\n",
    "print(f\"Test R2: {best_test_r2}\")"
   ]
  },
  {
   "cell_type": "code",
   "execution_count": 88,
   "metadata": {},
   "outputs": [],
   "source": [
    "model_LinearRegression = LinearRegression()\n",
    "model_Lasso = LassoCV(max_iter=10000)\n",
    "model_Ridge = RidgeCV()\n",
    "model_RANSACRegressor = RANSACRegressor()"
   ]
  },
  {
   "cell_type": "code",
   "execution_count": null,
   "metadata": {},
   "outputs": [],
   "source": [
    "model_LinearRegression.fit(dataX_no_outliers, dataY_no_outliers)\n",
    "model_Lasso.fit(dataX_no_outliers, dataY_no_outliers)\n",
    "model_Ridge.fit(dataX_no_outliers, dataY_no_outliers)\n",
    "model_RANSACRegressor.fit(dataX, dataY)"
   ]
  },
  {
   "cell_type": "code",
   "execution_count": 90,
   "metadata": {},
   "outputs": [],
   "source": [
    "predY_LinearRegression = model_LinearRegression.predict(testX)\n",
    "predY_Lasso = model_Lasso.predict(testX)\n",
    "predY_Ridge = model_Ridge.predict(testX)\n",
    "predY_RANSACRegressor = model_RANSACRegressor.predict(testX)"
   ]
  },
  {
   "cell_type": "code",
   "execution_count": 91,
   "metadata": {},
   "outputs": [],
   "source": [
    "np.save('results_P1_1.npy', predY_Lasso)"
   ]
  },
  {
   "cell_type": "code",
   "execution_count": null,
   "metadata": {},
   "outputs": [],
   "source": [
    "for i in range(dataX_no_outliers.shape[1]):\n",
    "    plot = plt.figure(i)\n",
    "    plt.plot(dataX[:,i], dataY, 'o')\n",
    "    plt.plot(testX[:,i], predY_Lasso, 'o', markersize=2)\n",
    "    plt.xlabel(parameters[i])\n",
    "    plt.ylabel(\"Concentration of toxic algae\")\n",
    "    plt.legend([\"Test data\", \"Prediction data\"])"
   ]
  }
 ],
 "metadata": {
  "kernelspec": {
   "display_name": "Python 3",
   "language": "python",
   "name": "python3"
  },
  "language_info": {
   "codemirror_mode": {
    "name": "ipython",
    "version": 3
   },
   "file_extension": ".py",
   "mimetype": "text/x-python",
   "name": "python",
   "nbconvert_exporter": "python",
   "pygments_lexer": "ipython3",
   "version": "3.12.6"
  }
 },
 "nbformat": 4,
 "nbformat_minor": 2
}
