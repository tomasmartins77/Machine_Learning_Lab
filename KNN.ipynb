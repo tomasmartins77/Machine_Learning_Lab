{
  "nbformat": 4,
  "nbformat_minor": 0,
  "metadata": {
    "colab": {
      "provenance": [],
      "gpuType": "T4"
    },
    "kernelspec": {
      "name": "python3",
      "display_name": "Python 3"
    },
    "language_info": {
      "name": "python"
    },
    "accelerator": "GPU"
  },
  "cells": [
    {
      "cell_type": "code",
      "execution_count": null,
      "metadata": {
        "id": "dOFQWO3rcFel"
      },
      "outputs": [],
      "source": [
        "import numpy as np\n",
        "import matplotlib.pyplot as plt\n",
        "from tensorflow.keras import layers, models\n",
        "from sklearn.model_selection import train_test_split\n",
        "from sklearn.metrics import balanced_accuracy_score\n",
        "from tensorflow.keras.callbacks import EarlyStopping, ReduceLROnPlateau\n",
        "from tensorflow.keras.utils import to_categorical\n",
        "from sklearn.metrics import confusion_matrix, ConfusionMatrixDisplay\n",
        "from PIL import Image\n",
        "from sklearn.neighbors import KNeighborsClassifier"
      ]
    },
    {
      "cell_type": "code",
      "source": [
        "# Load dataset\n",
        "X_train = np.load('Xtrain2_a.npy', allow_pickle=True)\n",
        "y_train = np.load('Ytrain2_a.npy')  # segmentation masks\n",
        "\n",
        "# Normalizing the input data\n",
        "y_train = y_train / 255.0\n",
        "\n",
        "# Assuming y_train is a NumPy array\n",
        "unique, counts = np.unique(y_train, return_counts=True)\n",
        "\n",
        "# Print the counts for each unique value (0 and 1)\n",
        "for value, count in zip(unique, counts):\n",
        "    print(f\"Value {value}: Count {count}\")"
      ],
      "metadata": {
        "colab": {
          "base_uri": "https://localhost:8080/"
        },
        "id": "-I5WCee2cHSW",
        "outputId": "40a62486-f941-4313-a75b-512d0f1a7ade"
      },
      "execution_count": null,
      "outputs": [
        {
          "output_type": "stream",
          "name": "stdout",
          "text": [
            "Value 0.0: Count 649624\n",
            "Value 1.0: Count 315284\n"
          ]
        }
      ]
    },
    {
      "cell_type": "code",
      "source": [
        "# Splitting the data into training and validation sets\n",
        "X_train, X_val, y_train, y_val = train_test_split(X_train, y_train, test_size=0.2, random_state=42)\n",
        "print(X_train.shape, X_val.shape, y_train.shape, y_val.shape)"
      ],
      "metadata": {
        "id": "CNOjBz-ScKWX",
        "outputId": "8e2b7641-615b-4f23-fa99-5a97168c1bde",
        "colab": {
          "base_uri": "https://localhost:8080/"
        }
      },
      "execution_count": null,
      "outputs": [
        {
          "output_type": "stream",
          "name": "stdout",
          "text": [
            "(771926, 49) (192982, 49) (771926,) (192982,)\n"
          ]
        }
      ]
    },
    {
      "cell_type": "code",
      "source": [
        "# Create and train a KNN model\n",
        "knn_model = KNeighborsClassifier(n_neighbors=5)  # You can adjust the number of neighbors\n",
        "knn_model.fit(X_train, y_train)\n",
        "\n",
        "# Make predictions on the validation set\n",
        "y_pred_knn = knn_model.predict(X_val)\n",
        "\n",
        "# Calculate the balanced accuracy\n",
        "balanced_accuracy = balanced_accuracy_score(y_val, y_pred_knn)\n",
        "print(\"Balanced Accuracy (KNN):\", balanced_accuracy)"
      ],
      "metadata": {
        "id": "roifJHsicL25"
      },
      "execution_count": null,
      "outputs": []
    }
  ]
}