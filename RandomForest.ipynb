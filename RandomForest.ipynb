{
  "nbformat": 4,
  "nbformat_minor": 0,
  "metadata": {
    "colab": {
      "provenance": [],
      "gpuType": "T4"
    },
    "kernelspec": {
      "name": "python3",
      "display_name": "Python 3"
    },
    "language_info": {
      "name": "python"
    },
    "accelerator": "GPU"
  },
  "cells": [
    {
      "cell_type": "markdown",
      "source": [],
      "metadata": {
        "id": "M3gGQl9__Jju"
      }
    },
    {
      "cell_type": "code",
      "source": [
        "import numpy as np\n",
        "from sklearn.model_selection import train_test_split, GridSearchCV\n",
        "from sklearn.svm import SVC\n",
        "from sklearn.ensemble import RandomForestClassifier\n",
        "from sklearn.metrics import balanced_accuracy_score\n",
        "from sklearn.pipeline import Pipeline\n",
        "from sklearn.preprocessing import StandardScaler\n",
        "from tensorflow.keras.utils import to_categorical\n",
        "from keras.models import Sequential\n",
        "from keras.layers import Conv2D, Flatten, Dense, Input"
      ],
      "metadata": {
        "id": "bJh7ExQ4_Ntw"
      },
      "execution_count": null,
      "outputs": []
    },
    {
      "cell_type": "code",
      "source": [
        "X = np.load('Xtrain2_a.npy', allow_pickle=True)\n",
        "y = np.load('Ytrain2_a.npy')\n",
        "\n",
        "y = y/255.0\n",
        "\n",
        "X_train, X_test, y_train, y_test = train_test_split(X, y, test_size=0.2, random_state=42)\n",
        "\n",
        "X_train_CNN = X_train.reshape(X_train.shape[0], 7, 7, 1)\n",
        "X_test_CNN = X_test.reshape(X_test.shape[0], 7, 7, 1)\n",
        "# Categorize the labels\n",
        "y_train = to_categorical(y_train, num_classes=2)\n",
        "y_test = to_categorical(y_test, num_classes=2)"
      ],
      "metadata": {
        "id": "jd2Eq7eM_Rk7"
      },
      "execution_count": null,
      "outputs": []
    },
    {
      "cell_type": "code",
      "source": [
        "model = RandomForestClassifier(n_estimators=100, random_state=42)\n",
        "model.fit(X_train, y_train)\n",
        "y_pred = model.predict(X_test)"
      ],
      "metadata": {
        "id": "ndJPv74t_zSc"
      },
      "execution_count": null,
      "outputs": []
    },
    {
      "cell_type": "code",
      "source": [
        "balanced_acc = balanced_accuracy_score(y_test, y_pred)\n",
        "print(f\"Balanced Accuracy: {balanced_acc:.4f}\")"
      ],
      "metadata": {
        "colab": {
          "base_uri": "https://localhost:8080/"
        },
        "id": "PY6khNxY_6XY",
        "outputId": "fdeaba28-901e-4ab3-d18e-d5b05a99436e"
      },
      "execution_count": null,
      "outputs": [
        {
          "output_type": "stream",
          "name": "stdout",
          "text": [
            "Balanced Accuracy: 0.6765\n"
          ]
        }
      ]
    },
    {
      "cell_type": "code",
      "source": [
        "model_CNN = Sequential([\n",
        "    Input(shape=(7, 7, 1)),\n",
        "    Conv2D(32, kernel_size=(3, 3), activation='relu'),\n",
        "    Flatten(),\n",
        "    Dense(128, activation='relu'),\n",
        "    Dense(2, activation='softmax')  # Binary classification (crater or background)\n",
        "])\n",
        "\n",
        "model_CNN.compile(optimizer='adam', loss='categorical_crossentropy', metrics=['accuracy'])"
      ],
      "metadata": {
        "id": "GN0jdZTjE7o8"
      },
      "execution_count": null,
      "outputs": []
    },
    {
      "cell_type": "code",
      "source": [
        "model_CNN.fit(X_train_CNN, y_train, epochs=10, batch_size=32, validation_data=(X_test_CNN, y_test))\n"
      ],
      "metadata": {
        "colab": {
          "base_uri": "https://localhost:8080/"
        },
        "id": "MI1brHHEFPKu",
        "outputId": "43840b23-5718-4b12-f4fb-11ec5003c31d"
      },
      "execution_count": null,
      "outputs": [
        {
          "output_type": "stream",
          "name": "stdout",
          "text": [
            "Epoch 1/10\n",
            "\u001b[1m24123/24123\u001b[0m \u001b[32m━━━━━━━━━━━━━━━━━━━━\u001b[0m\u001b[37m\u001b[0m \u001b[1m57s\u001b[0m 2ms/step - accuracy: 0.7442 - loss: 0.5452 - val_accuracy: 0.7503 - val_loss: 0.5325\n",
            "Epoch 2/10\n",
            "\u001b[1m24123/24123\u001b[0m \u001b[32m━━━━━━━━━━━━━━━━━━━━\u001b[0m\u001b[37m\u001b[0m \u001b[1m83s\u001b[0m 2ms/step - accuracy: 0.7467 - loss: 0.5400 - val_accuracy: 0.7467 - val_loss: 0.5376\n",
            "Epoch 3/10\n",
            "\u001b[1m24123/24123\u001b[0m \u001b[32m━━━━━━━━━━━━━━━━━━━━\u001b[0m\u001b[37m\u001b[0m \u001b[1m55s\u001b[0m 2ms/step - accuracy: 0.7489 - loss: 0.5368 - val_accuracy: 0.7509 - val_loss: 0.5315\n",
            "Epoch 4/10\n",
            "\u001b[1m24123/24123\u001b[0m \u001b[32m━━━━━━━━━━━━━━━━━━━━\u001b[0m\u001b[37m\u001b[0m \u001b[1m56s\u001b[0m 2ms/step - accuracy: 0.7490 - loss: 0.5361 - val_accuracy: 0.7499 - val_loss: 0.5341\n",
            "Epoch 5/10\n",
            "\u001b[1m24123/24123\u001b[0m \u001b[32m━━━━━━━━━━━━━━━━━━━━\u001b[0m\u001b[37m\u001b[0m \u001b[1m58s\u001b[0m 2ms/step - accuracy: 0.7489 - loss: 0.5350 - val_accuracy: 0.7496 - val_loss: 0.5374\n",
            "Epoch 6/10\n",
            "\u001b[1m24123/24123\u001b[0m \u001b[32m━━━━━━━━━━━━━━━━━━━━\u001b[0m\u001b[37m\u001b[0m \u001b[1m60s\u001b[0m 2ms/step - accuracy: 0.7500 - loss: 0.5342 - val_accuracy: 0.7485 - val_loss: 0.5370\n",
            "Epoch 7/10\n",
            "\u001b[1m24123/24123\u001b[0m \u001b[32m━━━━━━━━━━━━━━━━━━━━\u001b[0m\u001b[37m\u001b[0m \u001b[1m56s\u001b[0m 2ms/step - accuracy: 0.7507 - loss: 0.5328 - val_accuracy: 0.7521 - val_loss: 0.5346\n",
            "Epoch 8/10\n",
            "\u001b[1m24123/24123\u001b[0m \u001b[32m━━━━━━━━━━━━━━━━━━━━\u001b[0m\u001b[37m\u001b[0m \u001b[1m82s\u001b[0m 2ms/step - accuracy: 0.7516 - loss: 0.5317 - val_accuracy: 0.7537 - val_loss: 0.5278\n",
            "Epoch 9/10\n",
            "\u001b[1m24123/24123\u001b[0m \u001b[32m━━━━━━━━━━━━━━━━━━━━\u001b[0m\u001b[37m\u001b[0m \u001b[1m57s\u001b[0m 2ms/step - accuracy: 0.7510 - loss: 0.5314 - val_accuracy: 0.7483 - val_loss: 0.5390\n",
            "Epoch 10/10\n",
            "\u001b[1m24123/24123\u001b[0m \u001b[32m━━━━━━━━━━━━━━━━━━━━\u001b[0m\u001b[37m\u001b[0m \u001b[1m82s\u001b[0m 2ms/step - accuracy: 0.7537 - loss: 0.5284 - val_accuracy: 0.7517 - val_loss: 0.5331\n"
          ]
        },
        {
          "output_type": "execute_result",
          "data": {
            "text/plain": [
              "<keras.src.callbacks.history.History at 0x79a5e754cca0>"
            ]
          },
          "metadata": {},
          "execution_count": 24
        }
      ]
    },
    {
      "cell_type": "code",
      "source": [
        "# prompt: now calculate the Bacc of the model\n",
        "\n",
        "from sklearn.metrics import confusion_matrix\n",
        "y_pred = model_CNN.predict(X_test_CNN)\n",
        "# Assuming y_pred is the predicted labels from your model\n",
        "y_pred_labels = np.argmax(y_pred, axis=1)\n",
        "y_true_labels = np.argmax(y_test, axis=1)\n",
        "\n",
        "# Calculate the confusion matrix\n",
        "cm = confusion_matrix(y_true_labels, y_pred_labels)\n",
        "\n",
        "# Extract true positives, true negatives, false positives, and false negatives\n",
        "tn, fp, fn, tp = cm.ravel()\n",
        "\n",
        "# Calculate sensitivity (recall) and specificity\n",
        "sensitivity = tp / (tp + fn) if (tp + fn) > 0 else 0\n",
        "specificity = tn / (tn + fp) if (tn + fp) > 0 else 0\n",
        "\n",
        "# Calculate balanced accuracy\n",
        "balanced_acc = (sensitivity + specificity) / 2\n",
        "\n",
        "print(f\"Sensitivity (Recall): {sensitivity:.4f}\")\n",
        "print(f\"Specificity: {specificity:.4f}\")\n",
        "print(f\"Balanced Accuracy: {balanced_acc:.4f}\")"
      ],
      "metadata": {
        "colab": {
          "base_uri": "https://localhost:8080/"
        },
        "id": "JyEIYGQfJOpf",
        "outputId": "77708d14-8b0e-4ae7-98b6-2c2c00f4cc0a"
      },
      "execution_count": null,
      "outputs": [
        {
          "output_type": "stream",
          "name": "stdout",
          "text": [
            "\u001b[1m6031/6031\u001b[0m \u001b[32m━━━━━━━━━━━━━━━━━━━━\u001b[0m\u001b[37m\u001b[0m \u001b[1m10s\u001b[0m 2ms/step\n",
            "Sensitivity (Recall): 0.4719\n",
            "Specificity: 0.8875\n",
            "Balanced Accuracy: 0.6797\n"
          ]
        }
      ]
    }
  ]
}