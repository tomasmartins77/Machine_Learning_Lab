{
  "cells": [
    {
      "cell_type": "markdown",
      "metadata": {
        "id": "QS0wd0fWFoUZ"
      },
      "source": [
        "# AAut lab question 2 part 1\n",
        "\n",
        "## Image classification"
      ]
    },
    {
      "cell_type": "markdown",
      "metadata": {
        "id": "bKIbE_tZFoUa"
      },
      "source": [
        "# Initial steps\n",
        "Import libraries"
      ]
    },
    {
      "cell_type": "code",
      "execution_count": 1,
      "metadata": {
        "id": "jEfiUCOdFoUa"
      },
      "outputs": [],
      "source": [
        "import numpy as np\n",
        "import matplotlib.pyplot as plt\n",
        "import tensorflow as tf\n",
        "from sklearn.model_selection import train_test_split\n",
        "from sklearn.metrics import f1_score, confusion_matrix\n",
        "from tensorflow.keras.models import Sequential\n",
        "from tensorflow.keras.layers import Conv2D, MaxPooling2D, Dense, Dropout, BatchNormalization, Input\n",
        "from tensorflow.keras.utils import to_categorical\n",
        "from tensorflow.keras.callbacks import EarlyStopping, ReduceLROnPlateau\n",
        "from tensorflow.keras.applications import VGG16, ResNet50\n",
        "from tensorflow.keras.layers import GlobalAveragePooling2D\n",
        "from tensorflow.keras.optimizers import Adam\n",
        "from imblearn.over_sampling import SMOTE\n",
        "from PIL import Image"
      ]
    },
    {
      "cell_type": "markdown",
      "metadata": {
        "id": "FRpcPCJIFoUb"
      },
      "source": [
        "Load data"
      ]
    },
    {
      "cell_type": "code",
      "execution_count": null,
      "metadata": {
        "colab": {
          "base_uri": "https://localhost:8080/"
        },
        "id": "aQ46CdCAFoUc",
        "outputId": "c485d09a-715e-46bf-fd25-4f697f4a5de5"
      },
      "outputs": [],
      "source": [
        "Xtest1 = np.load('Xtest1.npy')\n",
        "Xtrain1 = np.load('Xtrain1.npy')\n",
        "Xtrain1_extra = np.load('Xtrain1_extra.npy')\n",
        "Ytrain1 = np.load('Ytrain1.npy')\n",
        "Xtrain1_extra = Xtrain1_extra.reshape(-1, 48, 48, 1)\n",
        "print(Xtrain1.shape)"
      ]
    },
    {
      "cell_type": "code",
      "execution_count": 3,
      "metadata": {
        "id": "ttiiFm5fFoUc"
      },
      "outputs": [],
      "source": [
        "def augment_images(images, labels):\n",
        "    augmented_images = []\n",
        "    augmented_labels = []\n",
        "\n",
        "    # Reshape the images from (2783, 2304) to (2783, 48, 48)\n",
        "    reshaped_images = images.reshape(-1, 48, 48)\n",
        "\n",
        "    for img, label in zip(reshaped_images, labels):\n",
        "        pil_img = Image.fromarray(img)\n",
        "\n",
        "        # Original image\n",
        "        augmented_images.append(np.array(pil_img))\n",
        "        # Horizontal flip\n",
        "        augmented_images.append(np.array(pil_img.transpose(Image.FLIP_LEFT_RIGHT)))\n",
        "        # Vertical flip\n",
        "        augmented_images.append(np.array(pil_img.transpose(Image.FLIP_TOP_BOTTOM)))\n",
        "        # Rotate 90 degrees\n",
        "        augmented_images.append(np.array(pil_img.rotate(90)))\n",
        "        # Rotate 180 degrees\n",
        "        augmented_images.append(np.array(pil_img.rotate(180)))\n",
        "        # Rotate 270 degrees\n",
        "        augmented_images.append(np.array(pil_img.rotate(270)))\n",
        "        # Zoom in\n",
        "        zoom_img = pil_img.resize((int(48 * 1.2), int(48 * 1.2))).crop((int(48 * 0.1), int(48 * 0.1), int(48 * 1.1), int(48 * 1.1)))\n",
        "        augmented_images.append(np.array(zoom_img))\n",
        "\n",
        "        # Append the label for each augmented image\n",
        "        augmented_labels.extend([label] * 7)\n",
        "\n",
        "    # Convert the augmented images back to the (num_images, 2304) format\n",
        "    augmented_images = np.array(augmented_images).reshape(-1, 48 * 48)\n",
        "    return augmented_images, augmented_labels"
      ]
    },
    {
      "cell_type": "code",
      "execution_count": 4,
      "metadata": {
        "id": "GFqQXs1DFoUc"
      },
      "outputs": [],
      "source": [
        "# Function to plot images\n",
        "def plot_images(images, labels, num_images=20, extra=0):\n",
        "    plt.figure(figsize=(15, 5))\n",
        "    for i in range(num_images):\n",
        "        plt.subplot(2, num_images // 2, i + 1)\n",
        "        plt.imshow(images[i].reshape(48, 48), cmap='gray')\n",
        "        if extra:\n",
        "            plt.title(f\"Label: {labels[i]}\")\n",
        "        plt.axis('off')\n",
        "    plt.show()"
      ]
    },
    {
      "cell_type": "markdown",
      "metadata": {
        "id": "olh15EUhFoUd"
      },
      "source": [
        "Compute SMOTE (Synthetic Minority Over-sampling Technique) to deal with the low quantity of crater data"
      ]
    },
    {
      "cell_type": "code",
      "execution_count": null,
      "metadata": {
        "colab": {
          "base_uri": "https://localhost:8080/",
          "height": 384
        },
        "id": "W4wP8YQ3FoUd",
        "outputId": "e57dfbfe-b2cf-476e-9a79-46b90a456481"
      },
      "outputs": [],
      "source": [
        "smote = SMOTE()\n",
        "\n",
        "Xtrain_resampled, Ytrain_resampled = smote.fit_resample(Xtrain1, Ytrain1)\n",
        "\n",
        "Xtrain_resampled, Ytrain_resampled = augment_images(Xtrain_resampled, Ytrain_resampled)\n",
        "\n",
        "Xtrain_resampled = Xtrain_resampled.reshape(-1, 48, 48, 1)\n",
        "\n",
        "print(Xtrain_resampled.shape)\n",
        "plot_images(Xtrain_resampled, Ytrain_resampled, extra=1)"
      ]
    },
    {
      "cell_type": "markdown",
      "metadata": {
        "id": "VmnGTn_AFoUd"
      },
      "source": [
        "Split data into train and test"
      ]
    },
    {
      "cell_type": "code",
      "execution_count": 11,
      "metadata": {
        "id": "6jqqsHGiFoUd"
      },
      "outputs": [],
      "source": [
        "# Split into train and validation sets\n",
        "X_train, X_val, y_train, y_val = train_test_split(Xtrain_resampled, Ytrain_resampled, test_size=0.2, random_state=42)\n",
        "\n",
        "# Convert labels to categorical (binary classification)\n",
        "y_train_cat = to_categorical(y_train, 2)\n",
        "y_val_cat = to_categorical(y_val, 2)"
      ]
    },
    {
      "cell_type": "markdown",
      "metadata": {
        "id": "QyJoIz4jFoUd"
      },
      "source": [
        "## Build CNNs"
      ]
    },
    {
      "cell_type": "markdown",
      "metadata": {
        "id": "R_wUnhqkFoUd"
      },
      "source": [
        "### CNN"
      ]
    },
    {
      "cell_type": "code",
      "execution_count": 12,
      "metadata": {
        "id": "tbZc3iBwFoUe"
      },
      "outputs": [],
      "source": [
        "# Build a simple CNN model\n",
        "model_CNN = Sequential([\n",
        "    Input(shape=(48, 48, 1)),\n",
        "\n",
        "    Conv2D(32, (3, 3), activation='relu', padding='same'),\n",
        "    BatchNormalization(),\n",
        "    MaxPooling2D((2, 2)),\n",
        "    Dropout(0.2),\n",
        "\n",
        "    Conv2D(64, (3, 3), activation='relu', padding='same'),\n",
        "    BatchNormalization(),\n",
        "    MaxPooling2D((2, 2)),\n",
        "    Dropout(0.2),\n",
        "\n",
        "    Conv2D(128, (3, 3), activation='relu', padding='same'),\n",
        "    BatchNormalization(),\n",
        "    MaxPooling2D((2, 2)),\n",
        "    Dropout(0.2),\n",
        "\n",
        "    Conv2D(256, (3, 3), activation='relu', padding='same'),\n",
        "    BatchNormalization(),\n",
        "    MaxPooling2D((2, 2)),\n",
        "    Dropout(0.2),\n",
        "\n",
        "    GlobalAveragePooling2D(),\n",
        "    Dense(512, activation='relu'),\n",
        "    Dropout(0.5),\n",
        "    Dense(2, activation='softmax')\n",
        "])"
      ]
    },
    {
      "cell_type": "markdown",
      "metadata": {
        "id": "j8ckwJ-iFoUe"
      },
      "source": [
        "### VGG16"
      ]
    },
    {
      "cell_type": "code",
      "execution_count": 13,
      "metadata": {
        "colab": {
          "base_uri": "https://localhost:8080/"
        },
        "id": "PDPg1hfUFoUe",
        "outputId": "ad9b167d-fb3b-49bc-90d1-d83237c83f91"
      },
      "outputs": [],
      "source": [
        "# Load VGG16 model with pre-trained weights, excluding the top layers\n",
        "vgg16_base = VGG16(weights='imagenet', include_top=False, input_shape=(48, 48, 3))\n",
        "\n",
        "# Freeze the layers of VGG16\n",
        "for layer in vgg16_base.layers:\n",
        "    layer.trainable = False\n",
        "\n",
        "# Add custom layers on top of VGG16\n",
        "vgg16_model = Sequential([\n",
        "    Input(shape=(48, 48, 1)),\n",
        "    Conv2D(3, (1, 1), activation='relu'),  # Convert grayscale to RGB\n",
        "    vgg16_base,\n",
        "    GlobalAveragePooling2D(),\n",
        "    Dense(128, activation='relu'),\n",
        "    Dropout(0.5),\n",
        "    Dense(2, activation='softmax')\n",
        "])"
      ]
    },
    {
      "cell_type": "markdown",
      "metadata": {
        "id": "ZlSv_M-DFoUe"
      },
      "source": [
        "### ResNet50"
      ]
    },
    {
      "cell_type": "code",
      "execution_count": 14,
      "metadata": {
        "colab": {
          "base_uri": "https://localhost:8080/"
        },
        "id": "vTJRHFL0FoUe",
        "outputId": "72f61b1a-18c8-488a-91cf-f5cdc3c99374"
      },
      "outputs": [],
      "source": [
        "# Load ResNet50 model with pre-trained weights, excluding the top layers\n",
        "resnet_base = ResNet50(weights='imagenet', include_top=False, input_shape=(48, 48, 3))\n",
        "\n",
        "# Freeze the layers of ResNet50\n",
        "for layer in resnet_base.layers:\n",
        "    layer.trainable = False\n",
        "\n",
        "# Add custom layers on top of ResNet50\n",
        "resnet_model = Sequential([\n",
        "    Input(shape=(48, 48, 1)),\n",
        "    Conv2D(3, (1, 1), activation='relu'),  # Convert grayscale to RGB\n",
        "    resnet_base,\n",
        "    GlobalAveragePooling2D(),\n",
        "    Dense(128, activation='relu'),\n",
        "    Dropout(0.5),\n",
        "    Dense(2, activation='softmax')\n",
        "])"
      ]
    },
    {
      "cell_type": "markdown",
      "metadata": {
        "id": "7s1UEu4OFoUe"
      },
      "source": [
        "## Train the models"
      ]
    },
    {
      "cell_type": "markdown",
      "metadata": {
        "id": "JGAyroHwFoUe"
      },
      "source": [
        "Callbacks"
      ]
    },
    {
      "cell_type": "code",
      "execution_count": 15,
      "metadata": {
        "id": "Yaw_N5zOFoUf"
      },
      "outputs": [],
      "source": [
        "early_stopping = EarlyStopping(monitor='val_loss', patience=20, restore_best_weights=True)\n",
        "reduce_lr = ReduceLROnPlateau(monitor='val_loss', factor=0.1, patience=2, min_lr=1e-5)"
      ]
    },
    {
      "cell_type": "markdown",
      "metadata": {
        "id": "nYbJgMjnFoUf"
      },
      "source": [
        "### CNN"
      ]
    },
    {
      "cell_type": "code",
      "execution_count": null,
      "metadata": {
        "colab": {
          "base_uri": "https://localhost:8080/"
        },
        "id": "HIkc5xBXFoUf",
        "outputId": "8baba4e6-4e83-4778-811d-2652063b1ed8"
      },
      "outputs": [],
      "source": [
        "# Compile the model\n",
        "model_CNN.compile(optimizer=Adam(learning_rate=0.001), loss='categorical_crossentropy', metrics=['accuracy'])\n",
        "\n",
        "# Train the model\n",
        "history_CNN = model_CNN.fit(X_train, y_train_cat, validation_data=(X_train, y_train_cat), epochs=50, callbacks=[early_stopping, reduce_lr], batch_size=32)"
      ]
    },
    {
      "cell_type": "markdown",
      "metadata": {
        "id": "7T2CB211FoUf"
      },
      "source": [
        "### VGG16\n"
      ]
    },
    {
      "cell_type": "code",
      "execution_count": null,
      "metadata": {
        "colab": {
          "base_uri": "https://localhost:8080/",
          "height": 1000
        },
        "id": "MKiO77egFoUf",
        "outputId": "fd19630e-585c-4977-f0f5-e4c651421cb1"
      },
      "outputs": [],
      "source": [
        "vgg16_model.compile(optimizer='adam', loss='categorical_crossentropy', metrics=['accuracy'])\n",
        "\n",
        "# Train the VGG16 model with data augmentation\n",
        "history_vgg16 = vgg16_model.fit(X_train, y_train_cat,\n",
        "                                validation_data=(X_val, y_val_cat),\n",
        "                                epochs=50,\n",
        "                                callbacks=[early_stopping, reduce_lr], batch_size=32)"
      ]
    },
    {
      "cell_type": "markdown",
      "metadata": {
        "id": "Otr07DhuFoUf"
      },
      "source": [
        "### ResNet50"
      ]
    },
    {
      "cell_type": "code",
      "execution_count": null,
      "metadata": {
        "colab": {
          "base_uri": "https://localhost:8080/"
        },
        "id": "I1nP4e9fFoUf",
        "outputId": "9f46dbf7-c0e7-4c0f-8be2-d2a4ae9c05dc"
      },
      "outputs": [],
      "source": [
        "resnet_model.compile(optimizer='adam', loss='categorical_crossentropy', metrics=['accuracy'])\n",
        "\n",
        "# Train the ResNet50 model with data augmentation\n",
        "history_resnet = resnet_model.fit(X_train, y_train_cat,\n",
        "                                  validation_data=(X_val, y_val_cat),\n",
        "                                  epochs=50,\n",
        "                                  callbacks=[early_stopping, reduce_lr], batch_size=32)"
      ]
    },
    {
      "cell_type": "markdown",
      "metadata": {
        "id": "AMPuvm_ZFoUf"
      },
      "source": [
        "## Evaluation of the models"
      ]
    },
    {
      "cell_type": "markdown",
      "metadata": {
        "id": "scn-aDLZFoUf"
      },
      "source": [
        "### CNN"
      ]
    },
    {
      "cell_type": "code",
      "execution_count": null,
      "metadata": {
        "colab": {
          "base_uri": "https://localhost:8080/"
        },
        "id": "PvOSfl8uFoUg",
        "outputId": "4900a02f-fdcc-48ae-c7ac-8b85fdde905a"
      },
      "outputs": [],
      "source": [
        "# Evaluate the model on the validation set\n",
        "y_val_pred_CNN = model_CNN.predict(X_val)\n",
        "y_val_pred_classes_CNN = np.argmax(y_val_pred_CNN, axis=1)"
      ]
    },
    {
      "cell_type": "markdown",
      "metadata": {
        "id": "2ydK8eiZFoUg"
      },
      "source": [
        "### VGG16"
      ]
    },
    {
      "cell_type": "code",
      "execution_count": null,
      "metadata": {
        "colab": {
          "base_uri": "https://localhost:8080/"
        },
        "id": "lrX3ga5uFoUg",
        "outputId": "9482797e-2823-4881-baf1-55d1cbe94f69"
      },
      "outputs": [],
      "source": [
        "# Evaluate the VGG16 model on the validation set\n",
        "y_val_pred_vgg16 = vgg16_model.predict(X_val)\n",
        "y_val_pred_classes_vgg16 = np.argmax(y_val_pred_vgg16, axis=1)"
      ]
    },
    {
      "cell_type": "markdown",
      "metadata": {
        "id": "3rpMYd1bFoUg"
      },
      "source": [
        "### ResNet50"
      ]
    },
    {
      "cell_type": "code",
      "execution_count": null,
      "metadata": {
        "colab": {
          "base_uri": "https://localhost:8080/"
        },
        "id": "qdQhkuK-FoUg",
        "outputId": "cfb8ab54-12c8-42bd-e36f-ee66f42c9da0"
      },
      "outputs": [],
      "source": [
        "# Evaluate the ResNet50 model on the validation set\n",
        "y_val_pred_resnet = resnet_model.predict(X_val)\n",
        "y_val_pred_classes_resnet = np.argmax(y_val_pred_resnet, axis=1)"
      ]
    },
    {
      "cell_type": "code",
      "execution_count": null,
      "metadata": {
        "colab": {
          "base_uri": "https://localhost:8080/"
        },
        "id": "zMizLyKAFoUg",
        "outputId": "08918fe9-86a3-4a51-af80-f6e676eaddb1"
      },
      "outputs": [],
      "source": [
        "# Calculate F1 Score\n",
        "f1_CNN = f1_score(y_val, y_val_pred_classes_CNN)\n",
        "print(f\"Validation F1 Score: {f1_CNN} (CNN)\")\n",
        "f1_vgg16 = f1_score(y_val, y_val_pred_classes_vgg16)\n",
        "print(f\"Validation F1 Score: {f1_vgg16} (VGG16)\")\n",
        "f1_resnet = f1_score(y_val, y_val_pred_classes_resnet)\n",
        "print(f\"Validation F1 Score: {f1_resnet} (ResNet50)\")"
      ]
    },
    {
      "cell_type": "markdown",
      "metadata": {
        "id": "fUSRAlrQFoUg"
      },
      "source": [
        "Confusion matrix"
      ]
    },
    {
      "cell_type": "code",
      "execution_count": null,
      "metadata": {
        "id": "jTn-kN64FoUg",
        "outputId": "6034b228-cfe2-4a6f-80c8-615692770e6a"
      },
      "outputs": [],
      "source": [
        "# Compute confusion matrix for CNN\n",
        "cm_CNN = confusion_matrix(y_val, y_val_pred_classes_CNN)\n",
        "print(\"Confusion Matrix for CNN:\")\n",
        "print(cm_CNN)\n",
        "\n",
        "# Compute confusion matrix for VGG16\n",
        "cm_vgg16 = confusion_matrix(y_val, y_val_pred_classes_vgg16)\n",
        "print(\"Confusion Matrix for VGG16:\")\n",
        "print(cm_vgg16)\n",
        "\n",
        "# Compute confusion matrix for ResNet50\n",
        "cm_resnet = confusion_matrix(y_val, y_val_pred_classes_resnet)\n",
        "print(\"Confusion Matrix for ResNet50:\")\n",
        "print(cm_resnet)"
      ]
    },
    {
      "cell_type": "markdown",
      "metadata": {
        "id": "-9pCIrUnFoUh"
      },
      "source": [
        "### Final predictions"
      ]
    },
    {
      "cell_type": "code",
      "execution_count": null,
      "metadata": {
        "id": "kU-TsSMkFoUh"
      },
      "outputs": [],
      "source": [
        "Xtest1 = Xtest1.reshape(-1, 48, 48, 1)\n",
        "predY_final = model_CNN.predict(Xtest1)\n",
        "predY_classes_final = np.argmax(predY_final, axis=1)\n",
        "\n",
        "# Save the predictions with np\n",
        "np.save('predY_classes_final.npy', predY_classes_final)"
      ]
    }
  ],
  "metadata": {
    "accelerator": "GPU",
    "colab": {
      "gpuType": "T4",
      "provenance": []
    },
    "kernelspec": {
      "display_name": "Python 3",
      "name": "python3"
    },
    "language_info": {
      "codemirror_mode": {
        "name": "ipython",
        "version": 3
      },
      "file_extension": ".py",
      "mimetype": "text/x-python",
      "name": "python",
      "nbconvert_exporter": "python",
      "pygments_lexer": "ipython3",
      "version": "3.12.6"
    }
  },
  "nbformat": 4,
  "nbformat_minor": 0
}
