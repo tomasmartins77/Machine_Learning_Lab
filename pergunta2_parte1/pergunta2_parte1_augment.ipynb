{
  "cells": [
    {
      "cell_type": "markdown",
      "metadata": {
        "id": "QS0wd0fWFoUZ"
      },
      "source": [
        "# AAut lab question 2 part 1\n",
        "\n",
        "## Image classification"
      ]
    },
    {
      "cell_type": "markdown",
      "metadata": {
        "id": "bKIbE_tZFoUa"
      },
      "source": [
        "# Initial steps\n",
        "Import libraries"
      ]
    },
    {
      "cell_type": "code",
      "execution_count": 53,
      "metadata": {
        "id": "jEfiUCOdFoUa"
      },
      "outputs": [],
      "source": [
        "import numpy as np\n",
        "import matplotlib.pyplot as plt\n",
        "import tensorflow as tf\n",
        "from sklearn.metrics import f1_score\n",
        "from tensorflow.keras.models import Sequential, load_model\n",
        "from tensorflow.keras.layers import Conv2D, MaxPooling2D, Dense, Dropout, BatchNormalization, Input\n",
        "from tensorflow.keras.utils import to_categorical\n",
        "from tensorflow.keras.callbacks import EarlyStopping, ReduceLROnPlateau\n",
        "from sklearn.model_selection import train_test_split\n",
        "from tensorflow.keras.layers import GlobalAveragePooling2D\n",
        "from sklearn.metrics import confusion_matrix\n",
        "from PIL import Image, ImageEnhance\n",
        "from imblearn.over_sampling import SMOTE"
      ]
    },
    {
      "cell_type": "markdown",
      "metadata": {
        "id": "FRpcPCJIFoUb"
      },
      "source": [
        "Load data"
      ]
    },
    {
      "cell_type": "code",
      "execution_count": 2,
      "metadata": {
        "id": "aQ46CdCAFoUc"
      },
      "outputs": [],
      "source": [
        "Xtest1 = np.load('Xtest1.npy')\n",
        "Xtrain1 = np.load('Xtrain1.npy')\n",
        "Xtrain1_extra = np.load('Xtrain1_extra.npy')\n",
        "Ytrain1 = np.load('Ytrain1.npy')"
      ]
    },
    {
      "cell_type": "markdown",
      "metadata": {
        "id": "8_AQ63XwUs5E"
      },
      "source": [
        "Set fixed seed for consistent results"
      ]
    },
    {
      "cell_type": "code",
      "execution_count": 42,
      "metadata": {
        "id": "ugqgLq9jUWjL"
      },
      "outputs": [],
      "source": [
        "# Set the seed for numpy\n",
        "np.random.seed(42)\n",
        "\n",
        "# Set the seed for TensorFlow\n",
        "tf.random.set_seed(42)"
      ]
    },
    {
      "cell_type": "markdown",
      "metadata": {
        "id": "bitNxD_5Uxda"
      },
      "source": [
        "Augment imgages while balacing the dataset"
      ]
    },
    {
      "cell_type": "code",
      "execution_count": 4,
      "metadata": {
        "id": "azTyxeHJLKc1"
      },
      "outputs": [],
      "source": [
        "def augment_images(images, labels):\n",
        "    augmented_images = []\n",
        "    augmented_labels = []\n",
        "\n",
        "    # Reshape the images from (2783, 2304) to (2783, 48, 48)\n",
        "    reshaped_images = images.reshape(-1, 48, 48)\n",
        "\n",
        "    for img, label in zip(reshaped_images, labels):\n",
        "        pil_img = Image.fromarray(img)\n",
        "\n",
        "        # Original image\n",
        "        augmented_images.append(np.array(pil_img))\n",
        "        # Horizontal flip\n",
        "        augmented_images.append(np.array(pil_img.transpose(Image.FLIP_LEFT_RIGHT)))\n",
        "        # Vertical flip\n",
        "        augmented_images.append(np.array(pil_img.transpose(Image.FLIP_TOP_BOTTOM)))\n",
        "        # Rotate 90 degrees\n",
        "        augmented_images.append(np.array(pil_img.rotate(90)))\n",
        "\n",
        "        if label == 0:\n",
        "            # Rotate 180 degrees\n",
        "            augmented_images.append(np.array(pil_img.rotate(180)))\n",
        "            # Rotate 270 degrees\n",
        "            augmented_images.append(np.array(pil_img.rotate(270)))\n",
        "            # Increase the brightness\n",
        "            augmented_images.append(np.array(ImageEnhance.Brightness(pil_img).enhance(1.5)))\n",
        "            # Append the label for each augmented image\n",
        "            augmented_labels.extend([label] * 7)\n",
        "        else:\n",
        "            # Append the label for each augmented image\n",
        "            augmented_labels.extend([label] * 4)\n",
        "\n",
        "    # Convert the augmented images back to the (num_images, 2304) format\n",
        "    augmented_images = np.array(augmented_images).reshape(-1, 48 * 48)\n",
        "    return augmented_images, augmented_labels"
      ]
    },
    {
      "cell_type": "code",
      "execution_count": 54,
      "metadata": {
        "id": "6D5ZAISzko7s"
      },
      "outputs": [],
      "source": [
        "def augment_images_smote(images, labels):\n",
        "    augmented_images = []\n",
        "    augmented_labels = []\n",
        "\n",
        "    # Reshape the images from (2783, 2304) to (2783, 48, 48)\n",
        "    reshaped_images = images.reshape(-1, 48, 48)\n",
        "\n",
        "    for img, label in zip(reshaped_images, labels):\n",
        "        pil_img = Image.fromarray(img)\n",
        "\n",
        "        # Original image\n",
        "        augmented_images.append(np.array(pil_img))\n",
        "        # Horizontal flip\n",
        "        augmented_images.append(np.array(pil_img.transpose(Image.FLIP_LEFT_RIGHT)))\n",
        "        # Vertical flip\n",
        "        augmented_images.append(np.array(pil_img.transpose(Image.FLIP_TOP_BOTTOM)))\n",
        "        # Rotate 90 degrees\n",
        "        augmented_images.append(np.array(pil_img.rotate(90)))\n",
        "        # Rotate 180 degrees\n",
        "        augmented_images.append(np.array(pil_img.rotate(180)))\n",
        "        # Rotate 270 degrees\n",
        "        augmented_images.append(np.array(pil_img.rotate(270)))\n",
        "        # Increase the brightness\n",
        "        augmented_images.append(np.array(ImageEnhance.Brightness(pil_img).enhance(1.5)))\n",
        "        # Append the label for each augmented image\n",
        "        augmented_labels.extend([label] * 7)\n",
        "\n",
        "    # Convert the augmented images back to the (num_images, 2304) format\n",
        "    augmented_images = np.array(augmented_images).reshape(-1, 48 * 48)\n",
        "    return augmented_images, augmented_labels"
      ]
    },
    {
      "cell_type": "markdown",
      "metadata": {
        "id": "3N_7th85U4ae"
      },
      "source": [
        "Function to plot images"
      ]
    },
    {
      "cell_type": "code",
      "execution_count": 5,
      "metadata": {
        "id": "GFqQXs1DFoUc"
      },
      "outputs": [],
      "source": [
        "# Function to plot images\n",
        "def plot_images(images, labels, num_images=20, extra=0):\n",
        "    plt.figure(figsize=(15, 5))\n",
        "    for i in range(num_images):\n",
        "        plt.subplot(2, num_images // 2, i + 1)\n",
        "        plt.imshow(images[i].reshape(48, 48), cmap='gray')\n",
        "        if extra:\n",
        "            plt.title(f\"Label: {labels[i]}\")\n",
        "        plt.axis('off')\n",
        "    plt.show()"
      ]
    },
    {
      "cell_type": "markdown",
      "metadata": {
        "id": "olh15EUhFoUd"
      },
      "source": [
        "Augment data"
      ]
    },
    {
      "cell_type": "code",
      "execution_count": null,
      "metadata": {
        "colab": {
          "base_uri": "https://localhost:8080/",
          "height": 402
        },
        "id": "W4wP8YQ3FoUd",
        "outputId": "9ec9bc9f-4b66-474e-efb0-07e3229aad8a"
      },
      "outputs": [],
      "source": [
        "Xtrain_resampled, Ytrain_resampled = augment_images(Xtrain1, Ytrain1)\n",
        "\n",
        "Xtrain_resampled_CNN = Xtrain_resampled.reshape(-1, 48, 48, 1)\n",
        "\n",
        "# Shuffle the dataset\n",
        "indices = np.arange(Xtrain_resampled_CNN.shape[0])\n",
        "np.random.shuffle(indices)\n",
        "Xtrain_resampled_CNN = Xtrain_resampled_CNN[indices]\n",
        "Ytrain_resampled = np.array(Ytrain_resampled)[indices]\n",
        "\n",
        "print(Xtrain_resampled_CNN.shape)\n",
        "print(Ytrain1.shape)\n",
        "\n",
        "plot_images(Xtrain_resampled_CNN, Ytrain_resampled, extra=1)"
      ]
    },
    {
      "cell_type": "code",
      "execution_count": null,
      "metadata": {
        "colab": {
          "base_uri": "https://localhost:8080/",
          "height": 419
        },
        "id": "Pq2oQPMvkOJ_",
        "outputId": "23cecd81-327e-4be8-b113-0141eb9d4dd5"
      },
      "outputs": [],
      "source": [
        "smote = SMOTE()\n",
        "\n",
        "Xtrain_resampled_smote, Ytrain_resampled_smote = smote.fit_resample(Xtrain1, Ytrain1)\n",
        "print(Xtrain_resampled_smote.shape)\n",
        "\n",
        "Xtrain_resampled_smote, Ytrain_resampled_smote = augment_images_smote(Xtrain_resampled_smote, Ytrain_resampled_smote)\n",
        "\n",
        "Xtrain_resampled_smote = Xtrain_resampled_smote.reshape(-1, 48, 48, 1)\n",
        "\n",
        "# Shuffle the dataset\n",
        "indices = np.arange(Xtrain_resampled_smote.shape[0])\n",
        "np.random.shuffle(indices)\n",
        "Xtrain_resampled_smote = Xtrain_resampled_smote[indices]\n",
        "Ytrain_resampled_smote = np.array(Ytrain_resampled_smote)[indices]\n",
        "\n",
        "print(Xtrain_resampled_smote.shape)\n",
        "print(Ytrain1.shape)\n",
        "\n",
        "plot_images(Xtrain_resampled_smote, Ytrain_resampled_smote, extra=1)"
      ]
    },
    {
      "cell_type": "markdown",
      "metadata": {
        "id": "QyJoIz4jFoUd"
      },
      "source": [
        "## Build CNNs"
      ]
    },
    {
      "cell_type": "markdown",
      "metadata": {
        "id": "R_wUnhqkFoUd"
      },
      "source": [
        "### CNN"
      ]
    },
    {
      "cell_type": "code",
      "execution_count": 45,
      "metadata": {
        "id": "tbZc3iBwFoUe"
      },
      "outputs": [],
      "source": [
        "# Build a simple CNN model\n",
        "def build_model_CNN():\n",
        "    model_CNN = Sequential([\n",
        "        Input(shape=(48, 48, 1)),\n",
        "\n",
        "        Conv2D(64, (3, 3), activation='relu', padding='same'),\n",
        "        BatchNormalization(),\n",
        "        MaxPooling2D((2, 2)),\n",
        "\n",
        "        Conv2D(128, (3, 3), activation='relu', padding='same'),\n",
        "        BatchNormalization(),\n",
        "        MaxPooling2D((2, 2)),\n",
        "\n",
        "        Conv2D(256, (3, 3), activation='relu', padding='same'),\n",
        "        BatchNormalization(),\n",
        "        MaxPooling2D((2, 2)),\n",
        "\n",
        "        GlobalAveragePooling2D(),\n",
        "        Dense(256, activation='relu'),\n",
        "        Dropout(0.5), # model summary\n",
        "\n",
        "        Dense(2, activation='softmax')\n",
        "    ])\n",
        "    # Compile the model\n",
        "    model_CNN.compile(optimizer=\"Adam\", loss='categorical_crossentropy', metrics=['accuracy'])\n",
        "    return model_CNN"
      ]
    },
    {
      "cell_type": "markdown",
      "metadata": {
        "id": "fkrPbumyUWjN"
      },
      "source": [
        "MLP\n"
      ]
    },
    {
      "cell_type": "code",
      "execution_count": 8,
      "metadata": {
        "id": "R350SQT6QA2g"
      },
      "outputs": [],
      "source": [
        "def build_model_MLP():\n",
        "    model_MLP = Sequential([\n",
        "        Input(shape=(2304,)),  # Flatten the input images\n",
        "\n",
        "        Dense(512, activation='relu'),\n",
        "        BatchNormalization(),\n",
        "        Dropout(0.5),\n",
        "\n",
        "        Dense(256, activation='relu'),\n",
        "        BatchNormalization(),\n",
        "        Dropout(0.5),\n",
        "\n",
        "        Dense(128, activation='relu'),\n",
        "        BatchNormalization(),\n",
        "        Dropout(0.5),\n",
        "\n",
        "        Dense(2, activation='softmax')\n",
        "    ])\n",
        "    # Compile the model\n",
        "    model_MLP.compile(optimizer=\"Adam\", loss='categorical_crossentropy', metrics=['accuracy'])\n",
        "    return model_MLP"
      ]
    },
    {
      "cell_type": "markdown",
      "metadata": {
        "id": "7s1UEu4OFoUe"
      },
      "source": [
        "## Train the models"
      ]
    },
    {
      "cell_type": "markdown",
      "metadata": {
        "id": "JGAyroHwFoUe"
      },
      "source": [
        "Callbacks"
      ]
    },
    {
      "cell_type": "code",
      "execution_count": 46,
      "metadata": {
        "id": "Yaw_N5zOFoUf"
      },
      "outputs": [],
      "source": [
        "early_stopping = EarlyStopping(monitor='val_loss', patience=25, restore_best_weights=True)\n",
        "reduce_lr = ReduceLROnPlateau(monitor='val_loss', factor=0.1, patience=10, min_lr=1e-5)"
      ]
    },
    {
      "cell_type": "markdown",
      "metadata": {
        "id": "nYbJgMjnFoUf"
      },
      "source": [
        "### CNN"
      ]
    },
    {
      "cell_type": "code",
      "execution_count": 38,
      "metadata": {
        "id": "ASnz8Gr9UWjO"
      },
      "outputs": [],
      "source": [
        "# Split the data into training and validation sets\n",
        "X_train, X_val, y_train, y_val = train_test_split(Xtrain_resampled_CNN, Ytrain_resampled, test_size=0.2, random_state=42)\n",
        "\n",
        "# Convert labels to categorical\n",
        "y_train_cat = to_categorical(y_train, num_classes=2)\n",
        "y_val_cat = to_categorical(y_val, num_classes=2)"
      ]
    },
    {
      "cell_type": "code",
      "execution_count": null,
      "metadata": {
        "colab": {
          "base_uri": "https://localhost:8080/"
        },
        "collapsed": true,
        "id": "P84XjTLjUWjO",
        "outputId": "4e3e5af4-5788-42d8-d7a7-e2ae06c9f61a"
      },
      "outputs": [],
      "source": [
        "# Build the CNN model\n",
        "model_CNN = build_model_CNN()\n",
        "\n",
        "# Train the model\n",
        "history = model_CNN.fit(\n",
        "    X_train, y_train_cat,\n",
        "    validation_data=(X_val, y_val_cat),\n",
        "    epochs=100,\n",
        "    batch_size=32,\n",
        "    callbacks=[early_stopping, reduce_lr]\n",
        ")"
      ]
    },
    {
      "cell_type": "code",
      "execution_count": null,
      "metadata": {
        "colab": {
          "base_uri": "https://localhost:8080/",
          "height": 742
        },
        "id": "DA5iuUWvUWjP",
        "outputId": "4172f79e-8dc0-43b4-835a-63bce6a7edb1"
      },
      "outputs": [],
      "source": [
        "# Predict on the validation set\n",
        "y_val_pred = model_CNN.predict(X_val)\n",
        "y_val_pred_classes = np.argmax(y_val_pred, axis=1)\n",
        "\n",
        "# save the model\n",
        "model_CNN.save('model_CNN.keras')\n",
        "\n",
        "# Calculate the F1 score\n",
        "f1 = f1_score(y_val, y_val_pred_classes)\n",
        "print(f\"Validation F1 Score: {f1}\")\n",
        "\n",
        "# Compute the confusion matrix\n",
        "cm = confusion_matrix(y_val, y_val_pred_classes)\n",
        "\n",
        "# Plot the confusion matrix\n",
        "plt.figure(figsize=(10, 7))\n",
        "plt.imshow(cm, interpolation='nearest', cmap=plt.cm.Blues)\n",
        "plt.title('Confusion Matrix for CNN')\n",
        "plt.colorbar()\n",
        "tick_marks = np.arange(len(np.unique(y_val)))\n",
        "plt.xticks(tick_marks, np.unique(y_val))\n",
        "plt.yticks(tick_marks, np.unique(y_val))\n",
        "\n",
        "# Normalize the confusion matrix\n",
        "cm_normalized = cm.astype('float') / cm.sum(axis=1)[:, np.newaxis]\n",
        "\n",
        "# Print the numbers inside the matrix\n",
        "thresh = cm.max() / 2.\n",
        "for i, j in np.ndindex(cm.shape):\n",
        "    plt.text(j, i, f\"{cm[i, j]:d}\\n({cm_normalized[i, j]:.2f})\",\n",
        "             horizontalalignment=\"center\",\n",
        "             color=\"white\" if cm[i, j] > thresh else \"black\")\n",
        "\n",
        "plt.ylabel('True label')\n",
        "plt.xlabel('Predicted label')\n",
        "plt.tight_layout()\n",
        "plt.show()"
      ]
    },
    {
      "cell_type": "code",
      "execution_count": null,
      "metadata": {
        "colab": {
          "base_uri": "https://localhost:8080/"
        },
        "collapsed": true,
        "id": "h6sSZj5elhht",
        "outputId": "f5665b08-c5bf-4dc0-f0b0-4efde7a9e84e"
      },
      "outputs": [],
      "source": [
        "# Split the data into training and validation sets\n",
        "X_train, X_val, y_train, y_val = train_test_split(Xtrain_resampled_smote, Ytrain_resampled_smote, test_size=0.2, random_state=42)\n",
        "\n",
        "# Convert labels to categorical\n",
        "y_train_cat = to_categorical(y_train, num_classes=2)\n",
        "y_val_cat = to_categorical(y_val, num_classes=2)\n",
        "\n",
        "# Build the CNN model\n",
        "model_CNN_smote = build_model_CNN()\n",
        "\n",
        "# Train the model\n",
        "history = model_CNN_smote.fit(\n",
        "    X_train, y_train_cat,\n",
        "    validation_data=(X_val, y_val_cat),\n",
        "    epochs=100,\n",
        "    batch_size=32,\n",
        "    callbacks=[early_stopping, reduce_lr]\n",
        ")"
      ]
    },
    {
      "cell_type": "code",
      "execution_count": null,
      "metadata": {
        "colab": {
          "base_uri": "https://localhost:8080/",
          "height": 742
        },
        "id": "5ifmVZ7Pl2HZ",
        "outputId": "e7c40b0b-279e-4050-9a92-c29d90083141"
      },
      "outputs": [],
      "source": [
        "# Predict on the validation set\n",
        "y_val_pred = model_CNN_smote.predict(X_val)\n",
        "y_val_pred_classes = np.argmax(y_val_pred, axis=1)\n",
        "\n",
        "# Calculate the F1 score\n",
        "f1 = f1_score(y_val, y_val_pred_classes)\n",
        "print(f\"Validation F1 Score: {f1}\")\n",
        "\n",
        "# Compute the confusion matrix\n",
        "cm = confusion_matrix(y_val, y_val_pred_classes)\n",
        "\n",
        "# Plot the confusion matrix\n",
        "plt.figure(figsize=(10, 7))\n",
        "plt.imshow(cm, interpolation='nearest', cmap=plt.cm.Blues)\n",
        "plt.title('Confusion Matrix for CNN with smote')\n",
        "plt.colorbar()\n",
        "tick_marks = np.arange(len(np.unique(y_val)))\n",
        "plt.xticks(tick_marks, np.unique(y_val))\n",
        "plt.yticks(tick_marks, np.unique(y_val))\n",
        "\n",
        "# Normalize the confusion matrix\n",
        "cm_normalized = cm.astype('float') / cm.sum(axis=1)[:, np.newaxis]\n",
        "\n",
        "# Print the numbers inside the matrix\n",
        "thresh = cm.max() / 2.\n",
        "for i, j in np.ndindex(cm.shape):\n",
        "    plt.text(j, i, f\"{cm[i, j]:d}\\n({cm_normalized[i, j]:.2f})\",\n",
        "             horizontalalignment=\"center\",\n",
        "             color=\"white\" if cm[i, j] > thresh else \"black\")\n",
        "\n",
        "plt.ylabel('True label')\n",
        "plt.xlabel('Predicted label')\n",
        "plt.tight_layout()\n",
        "plt.show()"
      ]
    },
    {
      "cell_type": "markdown",
      "metadata": {
        "id": "O_dTQns4bi2F"
      },
      "source": [
        "MLP"
      ]
    },
    {
      "cell_type": "code",
      "execution_count": null,
      "metadata": {
        "colab": {
          "base_uri": "https://localhost:8080/"
        },
        "collapsed": true,
        "id": "iOfTEA7lbicb",
        "outputId": "c0ce7263-cd42-4495-ecaf-d96447f535b2"
      },
      "outputs": [],
      "source": [
        "# Split the data into training and validation sets\n",
        "X_train, X_val, y_train, y_val = train_test_split(Xtrain_resampled, Ytrain_resampled, test_size=0.2, random_state=42)\n",
        "\n",
        "# Convert labels to categorical\n",
        "y_train_cat = to_categorical(y_train, num_classes=2)\n",
        "y_val_cat = to_categorical(y_val, num_classes=2)\n",
        "\n",
        "model_MLP = build_model_MLP()\n",
        "history = model_MLP.fit(X_train, y_train_cat,\n",
        "    validation_data=(X_val, y_val_cat),\n",
        "    epochs=100,\n",
        "    batch_size=32,\n",
        "    callbacks=[early_stopping, reduce_lr])"
      ]
    },
    {
      "cell_type": "code",
      "execution_count": null,
      "metadata": {
        "colab": {
          "base_uri": "https://localhost:8080/",
          "height": 759
        },
        "id": "N5X5F4eSbx4M",
        "outputId": "f46421b6-2eb9-410b-f7d1-3ab720173c2f"
      },
      "outputs": [],
      "source": [
        "# Predict on the validation set\n",
        "y_val_pred = model_MLP.predict(X_val)\n",
        "y_val_pred_classes = np.argmax(y_val_pred, axis=1)\n",
        "\n",
        "# Calculate the F1 score\n",
        "f1 = f1_score(y_val, y_val_pred_classes)\n",
        "print(f\"Validation F1 Score: {f1}\")\n",
        "\n",
        "# Compute the confusion matrix\n",
        "cm = confusion_matrix(y_val, y_val_pred_classes)\n",
        "\n",
        "# Plot the confusion matrix\n",
        "plt.figure(figsize=(10, 7))\n",
        "plt.imshow(cm, interpolation='nearest', cmap=plt.cm.Blues)\n",
        "plt.title('Confusion Matrix for MLP')\n",
        "plt.colorbar()\n",
        "tick_marks = np.arange(len(np.unique(y_val)))\n",
        "plt.xticks(tick_marks, np.unique(y_val))\n",
        "plt.yticks(tick_marks, np.unique(y_val))\n",
        "\n",
        "# Normalize the confusion matrix\n",
        "cm_normalized = cm.astype('float') / cm.sum(axis=1)[:, np.newaxis]\n",
        "\n",
        "# Print the numbers inside the matrix\n",
        "thresh = cm.max() / 2.\n",
        "for i, j in np.ndindex(cm.shape):\n",
        "    plt.text(j, i, f\"{cm[i, j]:d}\\n({cm_normalized[i, j]:.2f})\",\n",
        "             horizontalalignment=\"center\",\n",
        "             color=\"white\" if cm[i, j] > thresh else \"black\")\n",
        "\n",
        "plt.ylabel('True label')\n",
        "plt.xlabel('Predicted label')\n",
        "plt.tight_layout()\n",
        "plt.show()"
      ]
    },
    {
      "cell_type": "markdown",
      "metadata": {
        "id": "8yHU_Nd6UWjP"
      },
      "source": [
        "KNN"
      ]
    },
    {
      "cell_type": "code",
      "execution_count": null,
      "metadata": {
        "colab": {
          "base_uri": "https://localhost:8080/"
        },
        "id": "cI8QVkzNTLJg",
        "outputId": "7b0f101d-2249-49ff-ce39-4492f15f6217"
      },
      "outputs": [],
      "source": [
        "from sklearn.neighbors import KNeighborsClassifier\n",
        "from sklearn.metrics import accuracy_score\n",
        "\n",
        "# Reshape the data for KNN\n",
        "Xtrain_knn = Xtrain_resampled.reshape(Xtrain_resampled.shape[0], -1)\n",
        "\n",
        "# Create and train the KNN model\n",
        "knn_model = KNeighborsClassifier(n_neighbors=5)\n",
        "\n",
        "# train test split\n",
        "Xtrain_knn, Xval_knn, Ytrain_resampled, Yval_resampled = train_test_split(Xtrain_knn, Ytrain_resampled, test_size=0.2, random_state=42)\n",
        "\n",
        "knn_model.fit(Xtrain_knn, Ytrain_resampled)\n",
        "\n",
        "# Predict on the validation set\n",
        "y_val_pred = knn_model.predict(Xval_knn)\n",
        "\n",
        "# Calculate the F1 score\n",
        "f1 = f1_score(Yval_resampled, y_val_pred)\n",
        "print(f\"Validation F1 Score: {f1}\")"
      ]
    },
    {
      "cell_type": "code",
      "execution_count": null,
      "metadata": {
        "colab": {
          "base_uri": "https://localhost:8080/",
          "height": 707
        },
        "id": "6o7gVm1noGgs",
        "outputId": "cb5c5dca-29e1-4e84-ff6b-1a7eaead3b2f"
      },
      "outputs": [],
      "source": [
        "# Compute the confusion matrix\n",
        "cm = confusion_matrix(Yval_resampled, y_val_pred)\n",
        "\n",
        "# Plot the confusion matrix\n",
        "plt.figure(figsize=(10, 7))\n",
        "plt.imshow(cm, interpolation='nearest', cmap=plt.cm.Blues)\n",
        "plt.title('Confusion Matrix for KNN')\n",
        "plt.colorbar()\n",
        "tick_marks = np.arange(len(np.unique(y_val)))\n",
        "plt.xticks(tick_marks, np.unique(y_val))\n",
        "plt.yticks(tick_marks, np.unique(y_val))\n",
        "\n",
        "# Normalize the confusion matrix\n",
        "cm_normalized = cm.astype('float') / cm.sum(axis=1)[:, np.newaxis]\n",
        "\n",
        "# Print the numbers inside the matrix\n",
        "thresh = cm.max() / 2.\n",
        "for i, j in np.ndindex(cm.shape):\n",
        "    plt.text(j, i, f\"{cm[i, j]:d}\\n({cm_normalized[i, j]:.2f})\",\n",
        "             horizontalalignment=\"center\",\n",
        "             color=\"white\" if cm[i, j] > thresh else \"black\")\n",
        "\n",
        "plt.ylabel('True label')\n",
        "plt.xlabel('Predicted label')\n",
        "plt.tight_layout()\n",
        "plt.show()"
      ]
    },
    {
      "cell_type": "markdown",
      "metadata": {
        "id": "AMPuvm_ZFoUf"
      },
      "source": [
        "## Evaluation of the models"
      ]
    },
    {
      "cell_type": "markdown",
      "metadata": {
        "id": "scn-aDLZFoUf"
      },
      "source": [
        "### Run the model"
      ]
    },
    {
      "cell_type": "markdown",
      "metadata": {
        "id": "jVbe_fUZUWjP"
      },
      "source": [
        "Retrain with extra data"
      ]
    },
    {
      "cell_type": "code",
      "execution_count": null,
      "metadata": {
        "colab": {
          "base_uri": "https://localhost:8080/"
        },
        "id": "Y5uV4W-TWwaM",
        "outputId": "ac0bbf22-2634-457a-850f-af7722151fd2"
      },
      "outputs": [],
      "source": [
        "Xtrain1_extra = Xtrain1_extra.reshape(-1, 48, 48, 1)\n",
        "predY = model_CNN.predict(Xtrain1_extra)\n",
        "predY_classes = np.argmax(predY, axis=1)\n",
        "\n",
        "Xtrain1_extra_resampled, Ytrain1_extra_resampled = augment_images(Xtrain1_extra, predY_classes)\n",
        "Xtrain1_extra_resampled = Xtrain1_extra_resampled.reshape(-1, 48, 48, 1)\n",
        "\n",
        "Xtrain_final = np.concatenate((Xtrain_resampled_CNN, Xtrain1_extra_resampled), axis=0)\n",
        "Ytrain_final = np.concatenate((Ytrain_resampled, Ytrain1_extra_resampled), axis=0)\n",
        "print(Xtrain_final.shape)\n",
        "print(Ytrain_final.shape)\n",
        "\n",
        "# Shuffle the dataset\n",
        "indices = np.arange(Xtrain_final.shape[0])\n",
        "np.random.shuffle(indices)\n",
        "Xtrain_final = Xtrain_final[indices]\n",
        "Ytrain_final = np.array(Ytrain_final)[indices]\n",
        "\n",
        "unique, counts = np.unique(Ytrain_final, return_counts=True)\n",
        "\n",
        "print(\"Quantity of 0s:\", counts[0])  # Assuming 0 is the first unique value\n",
        "print(\"Quantity of 1s:\", counts[1])  # Assuming 1 is the second unique value"
      ]
    },
    {
      "cell_type": "code",
      "execution_count": null,
      "metadata": {
        "colab": {
          "base_uri": "https://localhost:8080/"
        },
        "collapsed": true,
        "id": "SZjuLzgVYRSP",
        "outputId": "8b461767-321b-4228-c831-ababb98584b8"
      },
      "outputs": [],
      "source": [
        "trainX, valX, trainY, valY = train_test_split(Xtrain_final, Ytrain_final, test_size=0.2, random_state=42)\n",
        "\n",
        "# Convert the labels to one-hot encoded vectors\n",
        "trainY_cat = to_categorical(trainY)\n",
        "valY_cat = to_categorical(valY)\n",
        "\n",
        "# Build the model\n",
        "model = build_model_CNN()\n",
        "\n",
        "# Train the model\n",
        "history = model.fit(trainX, trainY_cat, validation_data=(valX, valY_cat), epochs=100, batch_size=32, callbacks=[early_stopping, reduce_lr])\n",
        "\n",
        "# Save the model\n",
        "model.save('final_model.keras')"
      ]
    },
    {
      "cell_type": "code",
      "execution_count": null,
      "metadata": {
        "colab": {
          "base_uri": "https://localhost:8080/",
          "height": 776
        },
        "id": "oLjDE3JHYQt3",
        "outputId": "d9dc1fbe-9ac8-47cc-a02f-dbd323df7970"
      },
      "outputs": [],
      "source": [
        "# Predict on the validation set\n",
        "y_val_pred = model.predict(valX)\n",
        "y_val_pred_classes = np.argmax(y_val_pred, axis=1)\n",
        "print(y_val_pred_classes)\n",
        "print(valY)\n",
        "# Calculate the F1 score\n",
        "f1 = f1_score(valY, y_val_pred_classes)\n",
        "print(f\"Validation F1 Score: {f1}\")\n",
        "\n",
        "# Compute the confusion matrix\n",
        "cm = confusion_matrix(valY, y_val_pred_classes)\n",
        "\n",
        "# Plot the confusion matrix\n",
        "plt.figure(figsize=(10, 7))\n",
        "plt.imshow(cm, interpolation='nearest', cmap=plt.cm.Blues)\n",
        "plt.title('Confusion Matrix for CNN with relearned extra data')\n",
        "plt.colorbar()\n",
        "tick_marks = np.arange(len(np.unique(y_val)))\n",
        "plt.xticks(tick_marks, np.unique(y_val))\n",
        "plt.yticks(tick_marks, np.unique(y_val))\n",
        "\n",
        "# Normalize the confusion matrix\n",
        "cm_normalized = cm.astype('float') / cm.sum(axis=1)[:, np.newaxis]\n",
        "\n",
        "# Print the numbers inside the matrix\n",
        "thresh = cm.max() / 2.\n",
        "for i, j in np.ndindex(cm.shape):\n",
        "    plt.text(j, i, f\"{cm[i, j]:d}\\n({cm_normalized[i, j]:.2f})\",\n",
        "             horizontalalignment=\"center\",\n",
        "             color=\"white\" if cm[i, j] > thresh else \"black\")\n",
        "\n",
        "plt.ylabel('True label')\n",
        "plt.xlabel('Predicted label')\n",
        "plt.tight_layout()\n",
        "plt.show()"
      ]
    },
    {
      "cell_type": "markdown",
      "metadata": {
        "id": "-9pCIrUnFoUh"
      },
      "source": [
        "### Final predictions"
      ]
    },
    {
      "cell_type": "code",
      "execution_count": null,
      "metadata": {
        "colab": {
          "base_uri": "https://localhost:8080/"
        },
        "id": "kU-TsSMkFoUh",
        "outputId": "e4adcc55-1a19-4ff7-fa14-8a4e90e6402c"
      },
      "outputs": [],
      "source": [
        "Xtest1 = Xtest1.reshape(-1, 48, 48, 1)\n",
        "predY_final = model_CNN.predict(Xtest1)\n",
        "predY_classes_final = np.argmax(predY_final, axis=1)\n",
        "print(predY_classes_final)\n",
        "# Save the predictions with np\n",
        "np.save('predY_classes_final.npy', predY_classes_final)"
      ]
    },
    {
      "cell_type": "code",
      "execution_count": null,
      "metadata": {
        "colab": {
          "base_uri": "https://localhost:8080/"
        },
        "id": "QQ6T96klq2at",
        "outputId": "1d0624fc-62de-4fff-c2eb-1839cd088b84"
      },
      "outputs": [],
      "source": [
        "predY_final_smote = model_CNN_smote.predict(Xtest1)\n",
        "predY_classes_final_smote = np.argmax(predY_final_smote, axis=1)\n",
        "print(predY_classes_final_smote)\n",
        "# Save the predictions with np\n",
        "np.save('predY_classes_final_smote.npy', predY_classes_final)"
      ]
    },
    {
      "cell_type": "code",
      "execution_count": null,
      "metadata": {},
      "outputs": [],
      "source": []
    }
  ],
  "metadata": {
    "accelerator": "GPU",
    "colab": {
      "gpuType": "T4",
      "provenance": []
    },
    "kernelspec": {
      "display_name": "Python 3",
      "name": "python3"
    },
    "language_info": {
      "codemirror_mode": {
        "name": "ipython",
        "version": 3
      },
      "file_extension": ".py",
      "mimetype": "text/x-python",
      "name": "python",
      "nbconvert_exporter": "python",
      "pygments_lexer": "ipython3",
      "version": "3.12.6"
    }
  },
  "nbformat": 4,
  "nbformat_minor": 0
}
