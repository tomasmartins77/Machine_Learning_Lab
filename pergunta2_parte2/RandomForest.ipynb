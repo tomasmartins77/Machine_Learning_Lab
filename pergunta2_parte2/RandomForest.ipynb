{
  "cells": [
    {
      "cell_type": "markdown",
      "metadata": {
        "id": "M3gGQl9__Jju"
      },
      "source": []
    },
    {
      "cell_type": "code",
      "execution_count": null,
      "metadata": {
        "id": "bJh7ExQ4_Ntw"
      },
      "outputs": [],
      "source": [
        "import numpy as np\n",
        "from sklearn.model_selection import train_test_split, GridSearchCV\n",
        "from sklearn.svm import SVC\n",
        "from sklearn.ensemble import RandomForestClassifier\n",
        "from sklearn.metrics import balanced_accuracy_score\n",
        "from sklearn.pipeline import Pipeline\n",
        "from sklearn.preprocessing import StandardScaler\n",
        "from tensorflow.keras.utils import to_categorical\n",
        "from keras.models import Sequential\n",
        "from keras.layers import Conv2D, Flatten, Dense, Input"
      ]
    },
    {
      "cell_type": "code",
      "execution_count": null,
      "metadata": {
        "id": "jd2Eq7eM_Rk7"
      },
      "outputs": [],
      "source": [
        "X = np.load('Xtrain2_a.npy', allow_pickle=True)\n",
        "y = np.load('Ytrain2_a.npy')\n",
        "\n",
        "y = y/255.0\n",
        "\n",
        "X_train, X_test, y_train, y_test = train_test_split(X, y, test_size=0.2, random_state=42)\n",
        "\n",
        "X_train_CNN = X_train.reshape(X_train.shape[0], 7, 7, 1)\n",
        "X_test_CNN = X_test.reshape(X_test.shape[0], 7, 7, 1)\n",
        "# Categorize the labels\n",
        "y_train = to_categorical(y_train, num_classes=2)\n",
        "y_test = to_categorical(y_test, num_classes=2)"
      ]
    },
    {
      "cell_type": "code",
      "execution_count": null,
      "metadata": {
        "id": "ndJPv74t_zSc"
      },
      "outputs": [],
      "source": [
        "model = RandomForestClassifier(n_estimators=100, random_state=42)\n",
        "model.fit(X_train, y_train)\n",
        "y_pred = model.predict(X_test)"
      ]
    },
    {
      "cell_type": "code",
      "execution_count": null,
      "metadata": {
        "colab": {
          "base_uri": "https://localhost:8080/"
        },
        "id": "PY6khNxY_6XY",
        "outputId": "fdeaba28-901e-4ab3-d18e-d5b05a99436e"
      },
      "outputs": [],
      "source": [
        "balanced_acc = balanced_accuracy_score(y_test, y_pred)\n",
        "print(f\"Balanced Accuracy: {balanced_acc:.4f}\")"
      ]
    },
    {
      "cell_type": "code",
      "execution_count": null,
      "metadata": {
        "id": "GN0jdZTjE7o8"
      },
      "outputs": [],
      "source": [
        "model_CNN = Sequential([\n",
        "    Input(shape=(7, 7, 1)),\n",
        "    Conv2D(32, kernel_size=(3, 3), activation='relu'),\n",
        "    Flatten(),\n",
        "    Dense(128, activation='relu'),\n",
        "    Dense(2, activation='softmax')  # Binary classification (crater or background)\n",
        "])\n",
        "\n",
        "model_CNN.compile(optimizer='adam', loss='categorical_crossentropy', metrics=['accuracy'])"
      ]
    },
    {
      "cell_type": "code",
      "execution_count": null,
      "metadata": {
        "colab": {
          "base_uri": "https://localhost:8080/"
        },
        "id": "MI1brHHEFPKu",
        "outputId": "43840b23-5718-4b12-f4fb-11ec5003c31d"
      },
      "outputs": [],
      "source": [
        "model_CNN.fit(X_train_CNN, y_train, epochs=10, batch_size=32, validation_data=(X_test_CNN, y_test))\n"
      ]
    },
    {
      "cell_type": "code",
      "execution_count": null,
      "metadata": {
        "colab": {
          "base_uri": "https://localhost:8080/"
        },
        "id": "JyEIYGQfJOpf",
        "outputId": "77708d14-8b0e-4ae7-98b6-2c2c00f4cc0a"
      },
      "outputs": [],
      "source": [
        "# prompt: now calculate the Bacc of the model\n",
        "\n",
        "from sklearn.metrics import confusion_matrix\n",
        "y_pred = model_CNN.predict(X_test_CNN)\n",
        "# Assuming y_pred is the predicted labels from your model\n",
        "y_pred_labels = np.argmax(y_pred, axis=1)\n",
        "y_true_labels = np.argmax(y_test, axis=1)\n",
        "\n",
        "# Calculate the confusion matrix\n",
        "cm = confusion_matrix(y_true_labels, y_pred_labels)\n",
        "\n",
        "# Extract true positives, true negatives, false positives, and false negatives\n",
        "tn, fp, fn, tp = cm.ravel()\n",
        "\n",
        "# Calculate sensitivity (recall) and specificity\n",
        "sensitivity = tp / (tp + fn) if (tp + fn) > 0 else 0\n",
        "specificity = tn / (tn + fp) if (tn + fp) > 0 else 0\n",
        "\n",
        "# Calculate balanced accuracy\n",
        "balanced_acc = (sensitivity + specificity) / 2\n",
        "\n",
        "print(f\"Sensitivity (Recall): {sensitivity:.4f}\")\n",
        "print(f\"Specificity: {specificity:.4f}\")\n",
        "print(f\"Balanced Accuracy: {balanced_acc:.4f}\")"
      ]
    }
  ],
  "metadata": {
    "accelerator": "GPU",
    "colab": {
      "gpuType": "T4",
      "provenance": []
    },
    "kernelspec": {
      "display_name": "Python 3",
      "name": "python3"
    },
    "language_info": {
      "name": "python"
    }
  },
  "nbformat": 4,
  "nbformat_minor": 0
}
