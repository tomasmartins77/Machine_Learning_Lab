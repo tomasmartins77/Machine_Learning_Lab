{
  "cells": [
    {
      "cell_type": "markdown",
      "metadata": {
        "colab_type": "text",
        "id": "view-in-github"
      },
      "source": [
        "<a href=\"https://colab.research.google.com/github/tomasmartins77/Machine_Learning_Lab/blob/main/pergunta2_parte2_CNN_augmentation.ipynb\" target=\"_parent\"><img src=\"https://colab.research.google.com/assets/colab-badge.svg\" alt=\"Open In Colab\"/></a>"
      ]
    },
    {
      "cell_type": "markdown",
      "metadata": {
        "id": "0HivOqhBM_Im"
      },
      "source": [
        "# AAut Second problem part 2\n",
        "## Image Segmentation"
      ]
    },
    {
      "cell_type": "markdown",
      "metadata": {
        "id": "WEn-Tm4AM_In"
      },
      "source": [
        "Import Libraries"
      ]
    },
    {
      "cell_type": "code",
      "execution_count": 30,
      "metadata": {
        "id": "p6ZC3X68M_Io"
      },
      "outputs": [],
      "source": [
        "import numpy as np\n",
        "import matplotlib.pyplot as plt\n",
        "from tensorflow.keras import layers, models\n",
        "from sklearn.model_selection import train_test_split\n",
        "from sklearn.metrics import balanced_accuracy_score\n",
        "from tensorflow.keras.callbacks import EarlyStopping, ReduceLROnPlateau\n",
        "from tensorflow.keras.utils import to_categorical\n",
        "from sklearn.metrics import confusion_matrix, ConfusionMatrixDisplay\n",
        "from PIL import Image"
      ]
    },
    {
      "cell_type": "markdown",
      "metadata": {
        "id": "y-tu_l4MM_Io"
      },
      "source": [
        "Load data, normalize it and create train test data sets"
      ]
    },
    {
      "cell_type": "code",
      "execution_count": 31,
      "metadata": {
        "id": "QiAnlAlrM_Io"
      },
      "outputs": [],
      "source": [
        "# Load dataset\n",
        "X_train = np.load('Xtrain2_b.npy')  # format b\n",
        "y_train = np.load('Ytrain2_b.npy')  # segmentation masks\n",
        "\n",
        "# Normalizing the input data\n",
        "y_train = y_train / 255.0\n",
        "\n",
        "# Reshaping the input data\n",
        "X_train = X_train.reshape(-1, 48, 48)\n",
        "y_train = y_train.reshape(-1, 48, 48)\n",
        "\n",
        "# Categorize the labels\n",
        "y_train = to_categorical(y_train, num_classes=2)\n"
      ]
    },
    {
      "cell_type": "code",
      "execution_count": 32,
      "metadata": {
        "id": "59BoygbeM_Ip"
      },
      "outputs": [],
      "source": [
        "def augment_image(image, mask):\n",
        "    augmented_images = []\n",
        "    augmented_masks = []\n",
        "\n",
        "    # Original image\n",
        "    augmented_images.append(image)\n",
        "    augmented_masks.append(mask)\n",
        "\n",
        "    # Horizontal flip\n",
        "    augmented_images.append(np.fliplr(image))\n",
        "    augmented_masks.append(np.fliplr(mask))\n",
        "\n",
        "    # Vertical flip\n",
        "    augmented_images.append(np.flipud(image))\n",
        "    augmented_masks.append(np.flipud(mask))\n",
        "\n",
        "    # Rotate 90 degrees\n",
        "    augmented_images.append(np.rot90(image, k=1))\n",
        "    augmented_masks.append(np.rot90(mask, k=1))\n",
        "\n",
        "    # Rotate 180 degrees\n",
        "    augmented_images.append(np.rot90(image, k=2))\n",
        "    augmented_masks.append(np.rot90(mask, k=2))\n",
        "\n",
        "    # Rotate 270 degrees\n",
        "    augmented_images.append(np.rot90(image, k=3))\n",
        "    augmented_masks.append(np.rot90(mask, k=3))\n",
        "\n",
        "    return augmented_images, augmented_masks"
      ]
    },
    {
      "cell_type": "code",
      "execution_count": 33,
      "metadata": {
        "id": "s5Q36lbqM_Ip"
      },
      "outputs": [],
      "source": [
        "# Apply augmentation functions\n",
        "augmented_X_train = []\n",
        "augmented_y_train = []\n",
        "\n",
        "for img, mask in zip(X_train, y_train):\n",
        "    imgs, masks = augment_image(img, mask)\n",
        "    augmented_X_train.extend(imgs)\n",
        "    augmented_y_train.extend(masks)\n",
        "\n",
        "# Convert lists to numpy arrays\n",
        "augmented_X_train = np.array(augmented_X_train)\n",
        "augmented_y_train = np.array(augmented_y_train)\n",
        "\n",
        "# Shuffle the data\n",
        "idx = np.random.permutation(len(augmented_X_train))\n",
        "augmented_X_train = augmented_X_train[idx]\n",
        "augmented_y_train = augmented_y_train[idx]"
      ]
    },
    {
      "cell_type": "code",
      "execution_count": null,
      "metadata": {
        "colab": {
          "base_uri": "https://localhost:8080/"
        },
        "id": "HepIlnX6M_Ip",
        "outputId": "1d6fc251-8254-4cf8-a3e2-3c75c4405e34"
      },
      "outputs": [],
      "source": [
        "# Splitting the data into training and validation sets\n",
        "X_train, X_val, y_train, y_val = train_test_split(X_train, y_train, test_size=0.2, random_state=42)\n",
        "print(X_train.shape, X_val.shape, y_train.shape, y_val.shape)"
      ]
    },
    {
      "cell_type": "markdown",
      "metadata": {
        "id": "EFO1D6gVM_Ip"
      },
      "source": [
        "CNN model creation"
      ]
    },
    {
      "cell_type": "code",
      "execution_count": 35,
      "metadata": {
        "id": "inY9WzSHM_Iq"
      },
      "outputs": [],
      "source": [
        "# Define a CNN model for segmentation\n",
        "def build_segmentation_model():\n",
        "    model = models.Sequential()\n",
        "    model.add(layers.Input(shape=(48, 48, 1)))\n",
        "\n",
        "    # Convolutional layer 1\n",
        "    model.add(layers.Conv2D(32, (3, 3), activation='relu', padding='same'))\n",
        "    model.add(layers.MaxPooling2D((2, 2)))\n",
        "\n",
        "    # Convolutional layer 2\n",
        "    model.add(layers.Conv2D(64, (3, 3), activation='relu', padding='same'))\n",
        "    model.add(layers.MaxPooling2D((2, 2)))\n",
        "\n",
        "    # Convolutional layer 3\n",
        "    model.add(layers.Conv2D(128, (3, 3), activation='relu', padding='same'))\n",
        "\n",
        "    # Upsampling and Reconstruction layers for segmentation\n",
        "    model.add(layers.Conv2DTranspose(64, (3, 3), strides=(2, 2), padding='same'))\n",
        "    model.add(layers.Conv2DTranspose(32, (3, 3), strides=(2, 2), padding='same'))\n",
        "\n",
        "    # Output layer (2 classes: crater or background)\n",
        "    model.add(layers.Conv2D(2, (1, 1), activation='softmax'))\n",
        "\n",
        "    model.compile(optimizer='adam', loss='categorical_crossentropy', metrics=['accuracy'])\n",
        "    return model"
      ]
    },
    {
      "cell_type": "code",
      "execution_count": 43,
      "metadata": {
        "id": "LJ4xPz3cX1Jx"
      },
      "outputs": [],
      "source": [
        "def build_mlp_segmentation_model():\n",
        "    model = models.Sequential()\n",
        "    model.add(layers.Input(shape=(48, 48, 1)))  # Input layer for 48x48 images\n",
        "    model.add(layers.Flatten())  # Flatten the input for MLP\n",
        "    model.add(layers.Dense(512, activation='relu'))  # First hidden layer\n",
        "    model.add(layers.Dense(256, activation='relu'))  # Second hidden layer\n",
        "    model.add(layers.Dense(48 * 48 * 2, activation='softmax'))  # Output layer\n",
        "    model.add(layers.Reshape((48, 48, 2)))  # Reshape output for segmentation\n",
        "    model.compile(optimizer='adam', loss='categorical_crossentropy', metrics=['accuracy'])\n",
        "    return model"
      ]
    },
    {
      "cell_type": "markdown",
      "metadata": {
        "id": "MnDgB-sxM_Iq"
      },
      "source": [
        "### Train the model"
      ]
    },
    {
      "cell_type": "markdown",
      "metadata": {
        "id": "ZVJ7aJ_YM_Iq"
      },
      "source": [
        "Callbacks"
      ]
    },
    {
      "cell_type": "code",
      "execution_count": 37,
      "metadata": {
        "id": "B5whNI4CM_Iq"
      },
      "outputs": [],
      "source": [
        "early_stopping = EarlyStopping(monitor='val_loss', patience=25, restore_best_weights=True)\n",
        "reduce_lr = ReduceLROnPlateau(monitor='val_loss', factor=0.1, patience=10, min_lr=1e-5)"
      ]
    },
    {
      "cell_type": "code",
      "execution_count": null,
      "metadata": {
        "colab": {
          "base_uri": "https://localhost:8080/"
        },
        "collapsed": true,
        "id": "_Lu1u51gM_Iq",
        "outputId": "5f141866-ec8c-4ff9-d2a9-37c21167fadd"
      },
      "outputs": [],
      "source": [
        "# Instantiate the model\n",
        "model = build_segmentation_model()\n",
        "\n",
        "# Train the model\n",
        "history = model.fit(X_train, y_train, epochs=100, batch_size=32, validation_data=(X_val, y_val), callbacks=[early_stopping, reduce_lr])"
      ]
    },
    {
      "cell_type": "code",
      "execution_count": null,
      "metadata": {
        "colab": {
          "base_uri": "https://localhost:8080/"
        },
        "id": "CrrAn0naX5D6",
        "outputId": "181e7701-c715-4092-b8e1-1e73c63dd331"
      },
      "outputs": [],
      "source": [
        "mlp_model = build_mlp_segmentation_model()\n",
        "\n",
        "history_mlp = mlp_model.fit(X_train, y_train, epochs=100, batch_size=32, validation_data=(X_val, y_val), callbacks=[early_stopping, reduce_lr])"
      ]
    },
    {
      "cell_type": "code",
      "execution_count": null,
      "metadata": {
        "id": "cF3E-ualM_Ir"
      },
      "outputs": [],
      "source": [
        "\n",
        "y_pred = model.predict(X_val)\n",
        "y_pred_final = np.argmax(y_pred, axis=-1)\n",
        "y_val_final = np.argmax(y_val, axis=-1)\n",
        "print(y_pred.shape, y_val.shape)\n",
        "\n",
        "print('Balanced accuracy:', balanced_accuracy_score(y_val_final.flatten(), y_pred_final.flatten()))\n",
        "\n",
        "# Confusion matrix\n",
        "cm = confusion_matrix(y_val_final.flatten(), y_pred_final.flatten())\n",
        "\n",
        "# Display confusion matrix\n",
        "disp = ConfusionMatrixDisplay(confusion_matrix=cm)\n",
        "disp.plot(cmap='Blues')\n",
        "plt.title('Confusion Matrix')\n",
        "plt.show()"
      ]
    }
  ],
  "metadata": {
    "accelerator": "GPU",
    "colab": {
      "gpuType": "T4",
      "include_colab_link": true,
      "provenance": []
    },
    "kernelspec": {
      "display_name": "Python 3",
      "name": "python3"
    },
    "language_info": {
      "codemirror_mode": {
        "name": "ipython",
        "version": 3
      },
      "file_extension": ".py",
      "mimetype": "text/x-python",
      "name": "python",
      "nbconvert_exporter": "python",
      "pygments_lexer": "ipython3",
      "version": "3.12.6"
    }
  },
  "nbformat": 4,
  "nbformat_minor": 0
}
