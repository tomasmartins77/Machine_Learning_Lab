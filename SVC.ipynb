{
  "nbformat": 4,
  "nbformat_minor": 0,
  "metadata": {
    "colab": {
      "provenance": []
    },
    "kernelspec": {
      "name": "python3",
      "display_name": "Python 3"
    },
    "language_info": {
      "name": "python"
    }
  },
  "cells": [
    {
      "cell_type": "code",
      "execution_count": null,
      "metadata": {
        "id": "1KvNrYG3Urqr"
      },
      "outputs": [],
      "source": [
        "import numpy as np\n",
        "from sklearn.svm import SVC\n",
        "from sklearn.model_selection import train_test_split, GridSearchCV\n",
        "from sklearn.preprocessing import StandardScaler\n",
        "from sklearn.pipeline import make_pipeline\n",
        "from tensorflow.keras.utils import to_categorical\n",
        "from sklearn.metrics import balanced_accuracy_score\n",
        "\n",
        "import matplotlib.pyplot as plt"
      ]
    },
    {
      "cell_type": "code",
      "source": [
        "X = np.load('Xtrain2_a.npy', allow_pickle=True)\n",
        "y = np.load('Ytrain2_a.npy')\n",
        "\n",
        "y = y/255.0\n",
        "\n",
        "X_train, X_test, y_train, y_test = train_test_split(X, y, test_size=0.2, random_state=42)\n"
      ],
      "metadata": {
        "id": "lMCd5aeLVSCd"
      },
      "execution_count": null,
      "outputs": []
    },
    {
      "cell_type": "code",
      "source": [
        "# Step 3: Create an SVM model with a pipeline (including StandardScaler for normalization)\n",
        "svm_model = make_pipeline(StandardScaler(), SVC(kernel='rbf', C=1.0, gamma='scale'))\n",
        "\n",
        "# Step 4: Train the SVM model\n",
        "svm_model.fit(X_train, y_train)"
      ],
      "metadata": {
        "id": "jQc8ft6ZVGhM"
      },
      "execution_count": null,
      "outputs": []
    },
    {
      "cell_type": "code",
      "source": [
        "y_pred = svm_model.predict(X_test)\n",
        "balanced_acc = balanced_accuracy_score(y_test, y_pred)\n",
        "print(f\"Balanced Accuracy: {balanced_acc:.4f}\")"
      ],
      "metadata": {
        "id": "cYgrJDPiWmMD"
      },
      "execution_count": null,
      "outputs": []
    }
  ]
}