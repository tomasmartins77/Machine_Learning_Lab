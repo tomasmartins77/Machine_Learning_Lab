{
  "cells": [
    {
      "cell_type": "markdown",
      "metadata": {
        "id": "view-in-github",
        "colab_type": "text"
      },
      "source": [
        "<a href=\"https://colab.research.google.com/github/tomasmartins77/Machine_Learning_Lab/blob/main/pergunta2_parte2_CNN_augmentation.ipynb\" target=\"_parent\"><img src=\"https://colab.research.google.com/assets/colab-badge.svg\" alt=\"Open In Colab\"/></a>"
      ]
    },
    {
      "cell_type": "markdown",
      "metadata": {
        "id": "0HivOqhBM_Im"
      },
      "source": [
        "# AAut Second problem part 2\n",
        "## Image Segmentation"
      ]
    },
    {
      "cell_type": "markdown",
      "metadata": {
        "id": "WEn-Tm4AM_In"
      },
      "source": [
        "Import Libraries"
      ]
    },
    {
      "cell_type": "code",
      "execution_count": 3,
      "metadata": {
        "id": "p6ZC3X68M_Io"
      },
      "outputs": [],
      "source": [
        "import numpy as np\n",
        "import matplotlib.pyplot as plt\n",
        "from tensorflow.keras import layers, models\n",
        "from sklearn.model_selection import train_test_split\n",
        "from sklearn.metrics import balanced_accuracy_score\n",
        "from tensorflow.keras.callbacks import EarlyStopping, ReduceLROnPlateau\n",
        "from tensorflow.keras.utils import to_categorical\n",
        "from sklearn.metrics import confusion_matrix, ConfusionMatrixDisplay\n",
        "from PIL import Image"
      ]
    },
    {
      "cell_type": "markdown",
      "metadata": {
        "id": "y-tu_l4MM_Io"
      },
      "source": [
        "Load data, normalize it and create train test data sets"
      ]
    },
    {
      "cell_type": "code",
      "execution_count": 4,
      "metadata": {
        "id": "QiAnlAlrM_Io"
      },
      "outputs": [],
      "source": [
        "# Load dataset\n",
        "X_train = np.load('Xtrain2_b.npy')  # format b\n",
        "y_train = np.load('Ytrain2_b.npy')  # segmentation masks\n",
        "\n",
        "# Normalizing the input data\n",
        "y_train = y_train / 255.0\n",
        "\n",
        "# Reshaping the input data\n",
        "X_train = X_train.reshape(-1, 48, 48)\n",
        "y_train = y_train.reshape(-1, 48, 48)\n",
        "\n",
        "# Categorize the labels\n",
        "y_train = to_categorical(y_train, num_classes=2)\n"
      ]
    },
    {
      "cell_type": "code",
      "execution_count": 5,
      "metadata": {
        "id": "59BoygbeM_Ip"
      },
      "outputs": [],
      "source": [
        "def augment_image(image, mask):\n",
        "    augmented_images = []\n",
        "    augmented_masks = []\n",
        "\n",
        "    # Original image\n",
        "    augmented_images.append(image)\n",
        "    augmented_masks.append(mask)\n",
        "\n",
        "    # Horizontal flip\n",
        "    augmented_images.append(np.fliplr(image))\n",
        "    augmented_masks.append(np.fliplr(mask))\n",
        "\n",
        "    # Vertical flip\n",
        "    augmented_images.append(np.flipud(image))\n",
        "    augmented_masks.append(np.flipud(mask))\n",
        "\n",
        "    # Rotate 90 degrees\n",
        "    augmented_images.append(np.rot90(image, k=1))\n",
        "    augmented_masks.append(np.rot90(mask, k=1))\n",
        "\n",
        "    # Rotate 180 degrees\n",
        "    augmented_images.append(np.rot90(image, k=2))\n",
        "    augmented_masks.append(np.rot90(mask, k=2))\n",
        "\n",
        "    # Rotate 270 degrees\n",
        "    augmented_images.append(np.rot90(image, k=3))\n",
        "    augmented_masks.append(np.rot90(mask, k=3))\n",
        "\n",
        "    return augmented_images, augmented_masks"
      ]
    },
    {
      "cell_type": "code",
      "execution_count": 6,
      "metadata": {
        "id": "s5Q36lbqM_Ip"
      },
      "outputs": [],
      "source": [
        "# Apply augmentation functions\n",
        "augmented_X_train = []\n",
        "augmented_y_train = []\n",
        "\n",
        "for img, mask in zip(X_train, y_train):\n",
        "    imgs, masks = augment_image(img, mask)\n",
        "    augmented_X_train.extend(imgs)\n",
        "    augmented_y_train.extend(masks)\n",
        "\n",
        "# Convert lists to numpy arrays\n",
        "augmented_X_train = np.array(augmented_X_train)\n",
        "augmented_y_train = np.array(augmented_y_train)\n",
        "\n",
        "# Shuffle the data\n",
        "idx = np.random.permutation(len(augmented_X_train))\n",
        "augmented_X_train = augmented_X_train[idx]\n",
        "augmented_y_train = augmented_y_train[idx]"
      ]
    },
    {
      "cell_type": "code",
      "execution_count": 7,
      "metadata": {
        "colab": {
          "base_uri": "https://localhost:8080/"
        },
        "id": "HepIlnX6M_Ip",
        "outputId": "dee2f867-7ddc-4b5c-9cdb-8c55bc2e96b7"
      },
      "outputs": [
        {
          "output_type": "stream",
          "name": "stdout",
          "text": [
            "(2625, 48, 48) (657, 48, 48) (2625, 48, 48, 2) (657, 48, 48, 2)\n"
          ]
        }
      ],
      "source": [
        "# Splitting the data into training and validation sets\n",
        "X_train, X_val, y_train, y_val = train_test_split(augmented_X_train, augmented_y_train, test_size=0.2, random_state=42)\n",
        "print(X_train.shape, X_val.shape, y_train.shape, y_val.shape)"
      ]
    },
    {
      "cell_type": "markdown",
      "metadata": {
        "id": "EFO1D6gVM_Ip"
      },
      "source": [
        "CNN model creation"
      ]
    },
    {
      "cell_type": "code",
      "execution_count": 8,
      "metadata": {
        "id": "inY9WzSHM_Iq"
      },
      "outputs": [],
      "source": [
        "# Define a CNN model for segmentation\n",
        "def build_segmentation_model():\n",
        "    model = models.Sequential()\n",
        "    model.add(layers.Input(shape=(48, 48, 1)))\n",
        "\n",
        "    # Convolutional layer 1\n",
        "    model.add(layers.Conv2D(32, (3, 3), activation='relu', padding='same'))\n",
        "    model.add(layers.MaxPooling2D((2, 2)))\n",
        "\n",
        "    # Convolutional layer 2\n",
        "    model.add(layers.Conv2D(64, (3, 3), activation='relu', padding='same'))\n",
        "    model.add(layers.MaxPooling2D((2, 2)))\n",
        "\n",
        "    # Convolutional layer 3\n",
        "    model.add(layers.Conv2D(128, (3, 3), activation='relu', padding='same'))\n",
        "\n",
        "    # Upsampling and Reconstruction layers for segmentation\n",
        "    model.add(layers.Conv2DTranspose(64, (3, 3), strides=(2, 2), padding='same'))\n",
        "    model.add(layers.Conv2DTranspose(32, (3, 3), strides=(2, 2), padding='same'))\n",
        "\n",
        "    # Output layer (2 classes: crater or background)\n",
        "    model.add(layers.Conv2D(2, (1, 1), activation='softmax'))\n",
        "\n",
        "    model.compile(optimizer='adam', loss='categorical_crossentropy', metrics=['accuracy'])\n",
        "    return model"
      ]
    },
    {
      "cell_type": "markdown",
      "metadata": {
        "id": "MnDgB-sxM_Iq"
      },
      "source": [
        "### Train the model"
      ]
    },
    {
      "cell_type": "markdown",
      "metadata": {
        "id": "ZVJ7aJ_YM_Iq"
      },
      "source": [
        "Callbacks"
      ]
    },
    {
      "cell_type": "code",
      "execution_count": 9,
      "metadata": {
        "id": "B5whNI4CM_Iq"
      },
      "outputs": [],
      "source": [
        "early_stopping = EarlyStopping(monitor='val_loss', patience=25, restore_best_weights=True)\n",
        "reduce_lr = ReduceLROnPlateau(monitor='val_loss', factor=0.1, patience=10, min_lr=1e-5)"
      ]
    },
    {
      "cell_type": "code",
      "execution_count": 10,
      "metadata": {
        "colab": {
          "base_uri": "https://localhost:8080/"
        },
        "id": "_Lu1u51gM_Iq",
        "outputId": "d02665d7-5586-477f-8c2e-f631e9a44f42"
      },
      "outputs": [
        {
          "output_type": "stream",
          "name": "stdout",
          "text": [
            "Epoch 1/100\n",
            "\u001b[1m83/83\u001b[0m \u001b[32m━━━━━━━━━━━━━━━━━━━━\u001b[0m\u001b[37m\u001b[0m \u001b[1m11s\u001b[0m 60ms/step - accuracy: 0.6711 - loss: 0.8104 - val_accuracy: 0.7409 - val_loss: 0.5335 - learning_rate: 0.0010\n",
            "Epoch 2/100\n",
            "\u001b[1m83/83\u001b[0m \u001b[32m━━━━━━━━━━━━━━━━━━━━\u001b[0m\u001b[37m\u001b[0m \u001b[1m1s\u001b[0m 7ms/step - accuracy: 0.7517 - loss: 0.5262 - val_accuracy: 0.7668 - val_loss: 0.5138 - learning_rate: 0.0010\n",
            "Epoch 3/100\n",
            "\u001b[1m83/83\u001b[0m \u001b[32m━━━━━━━━━━━━━━━━━━━━\u001b[0m\u001b[37m\u001b[0m \u001b[1m1s\u001b[0m 7ms/step - accuracy: 0.7688 - loss: 0.5034 - val_accuracy: 0.7357 - val_loss: 0.5401 - learning_rate: 0.0010\n",
            "Epoch 4/100\n",
            "\u001b[1m83/83\u001b[0m \u001b[32m━━━━━━━━━━━━━━━━━━━━\u001b[0m\u001b[37m\u001b[0m \u001b[1m1s\u001b[0m 7ms/step - accuracy: 0.7896 - loss: 0.4750 - val_accuracy: 0.7862 - val_loss: 0.4718 - learning_rate: 0.0010\n",
            "Epoch 5/100\n",
            "\u001b[1m83/83\u001b[0m \u001b[32m━━━━━━━━━━━━━━━━━━━━\u001b[0m\u001b[37m\u001b[0m \u001b[1m1s\u001b[0m 7ms/step - accuracy: 0.8038 - loss: 0.4494 - val_accuracy: 0.8098 - val_loss: 0.4401 - learning_rate: 0.0010\n",
            "Epoch 6/100\n",
            "\u001b[1m83/83\u001b[0m \u001b[32m━━━━━━━━━━━━━━━━━━━━\u001b[0m\u001b[37m\u001b[0m \u001b[1m1s\u001b[0m 7ms/step - accuracy: 0.8138 - loss: 0.4307 - val_accuracy: 0.7955 - val_loss: 0.4943 - learning_rate: 0.0010\n",
            "Epoch 7/100\n",
            "\u001b[1m83/83\u001b[0m \u001b[32m━━━━━━━━━━━━━━━━━━━━\u001b[0m\u001b[37m\u001b[0m \u001b[1m1s\u001b[0m 7ms/step - accuracy: 0.8216 - loss: 0.4201 - val_accuracy: 0.8103 - val_loss: 0.4370 - learning_rate: 0.0010\n",
            "Epoch 8/100\n",
            "\u001b[1m83/83\u001b[0m \u001b[32m━━━━━━━━━━━━━━━━━━━━\u001b[0m\u001b[37m\u001b[0m \u001b[1m1s\u001b[0m 7ms/step - accuracy: 0.8135 - loss: 0.4325 - val_accuracy: 0.8145 - val_loss: 0.4359 - learning_rate: 0.0010\n",
            "Epoch 9/100\n",
            "\u001b[1m83/83\u001b[0m \u001b[32m━━━━━━━━━━━━━━━━━━━━\u001b[0m\u001b[37m\u001b[0m \u001b[1m1s\u001b[0m 7ms/step - accuracy: 0.8274 - loss: 0.4075 - val_accuracy: 0.8122 - val_loss: 0.4448 - learning_rate: 0.0010\n",
            "Epoch 10/100\n",
            "\u001b[1m83/83\u001b[0m \u001b[32m━━━━━━━━━━━━━━━━━━━━\u001b[0m\u001b[37m\u001b[0m \u001b[1m1s\u001b[0m 7ms/step - accuracy: 0.8247 - loss: 0.4134 - val_accuracy: 0.8102 - val_loss: 0.4522 - learning_rate: 0.0010\n",
            "Epoch 11/100\n",
            "\u001b[1m83/83\u001b[0m \u001b[32m━━━━━━━━━━━━━━━━━━━━\u001b[0m\u001b[37m\u001b[0m \u001b[1m1s\u001b[0m 7ms/step - accuracy: 0.8166 - loss: 0.4317 - val_accuracy: 0.8164 - val_loss: 0.4287 - learning_rate: 0.0010\n",
            "Epoch 12/100\n",
            "\u001b[1m83/83\u001b[0m \u001b[32m━━━━━━━━━━━━━━━━━━━━\u001b[0m\u001b[37m\u001b[0m \u001b[1m1s\u001b[0m 8ms/step - accuracy: 0.8272 - loss: 0.4065 - val_accuracy: 0.8216 - val_loss: 0.4193 - learning_rate: 0.0010\n",
            "Epoch 13/100\n",
            "\u001b[1m83/83\u001b[0m \u001b[32m━━━━━━━━━━━━━━━━━━━━\u001b[0m\u001b[37m\u001b[0m \u001b[1m1s\u001b[0m 8ms/step - accuracy: 0.8326 - loss: 0.3970 - val_accuracy: 0.8117 - val_loss: 0.4457 - learning_rate: 0.0010\n",
            "Epoch 14/100\n",
            "\u001b[1m83/83\u001b[0m \u001b[32m━━━━━━━━━━━━━━━━━━━━\u001b[0m\u001b[37m\u001b[0m \u001b[1m1s\u001b[0m 7ms/step - accuracy: 0.8386 - loss: 0.3861 - val_accuracy: 0.8226 - val_loss: 0.4323 - learning_rate: 0.0010\n",
            "Epoch 15/100\n",
            "\u001b[1m83/83\u001b[0m \u001b[32m━━━━━━━━━━━━━━━━━━━━\u001b[0m\u001b[37m\u001b[0m \u001b[1m1s\u001b[0m 7ms/step - accuracy: 0.8393 - loss: 0.3838 - val_accuracy: 0.8244 - val_loss: 0.4185 - learning_rate: 0.0010\n",
            "Epoch 16/100\n",
            "\u001b[1m83/83\u001b[0m \u001b[32m━━━━━━━━━━━━━━━━━━━━\u001b[0m\u001b[37m\u001b[0m \u001b[1m1s\u001b[0m 9ms/step - accuracy: 0.8435 - loss: 0.3738 - val_accuracy: 0.8182 - val_loss: 0.4559 - learning_rate: 0.0010\n",
            "Epoch 17/100\n",
            "\u001b[1m83/83\u001b[0m \u001b[32m━━━━━━━━━━━━━━━━━━━━\u001b[0m\u001b[37m\u001b[0m \u001b[1m1s\u001b[0m 8ms/step - accuracy: 0.8401 - loss: 0.3812 - val_accuracy: 0.8222 - val_loss: 0.4241 - learning_rate: 0.0010\n",
            "Epoch 18/100\n",
            "\u001b[1m83/83\u001b[0m \u001b[32m━━━━━━━━━━━━━━━━━━━━\u001b[0m\u001b[37m\u001b[0m \u001b[1m1s\u001b[0m 9ms/step - accuracy: 0.8464 - loss: 0.3700 - val_accuracy: 0.8214 - val_loss: 0.4229 - learning_rate: 0.0010\n",
            "Epoch 19/100\n",
            "\u001b[1m83/83\u001b[0m \u001b[32m━━━━━━━━━━━━━━━━━━━━\u001b[0m\u001b[37m\u001b[0m \u001b[1m1s\u001b[0m 8ms/step - accuracy: 0.8511 - loss: 0.3592 - val_accuracy: 0.8248 - val_loss: 0.4289 - learning_rate: 0.0010\n",
            "Epoch 20/100\n",
            "\u001b[1m83/83\u001b[0m \u001b[32m━━━━━━━━━━━━━━━━━━━━\u001b[0m\u001b[37m\u001b[0m \u001b[1m1s\u001b[0m 7ms/step - accuracy: 0.8544 - loss: 0.3502 - val_accuracy: 0.8231 - val_loss: 0.4332 - learning_rate: 0.0010\n",
            "Epoch 21/100\n",
            "\u001b[1m83/83\u001b[0m \u001b[32m━━━━━━━━━━━━━━━━━━━━\u001b[0m\u001b[37m\u001b[0m \u001b[1m1s\u001b[0m 7ms/step - accuracy: 0.8527 - loss: 0.3552 - val_accuracy: 0.7999 - val_loss: 0.4619 - learning_rate: 0.0010\n",
            "Epoch 22/100\n",
            "\u001b[1m83/83\u001b[0m \u001b[32m━━━━━━━━━━━━━━━━━━━━\u001b[0m\u001b[37m\u001b[0m \u001b[1m1s\u001b[0m 7ms/step - accuracy: 0.8444 - loss: 0.3677 - val_accuracy: 0.8232 - val_loss: 0.4272 - learning_rate: 0.0010\n",
            "Epoch 23/100\n",
            "\u001b[1m83/83\u001b[0m \u001b[32m━━━━━━━━━━━━━━━━━━━━\u001b[0m\u001b[37m\u001b[0m \u001b[1m1s\u001b[0m 7ms/step - accuracy: 0.8555 - loss: 0.3470 - val_accuracy: 0.8202 - val_loss: 0.4436 - learning_rate: 0.0010\n",
            "Epoch 24/100\n",
            "\u001b[1m83/83\u001b[0m \u001b[32m━━━━━━━━━━━━━━━━━━━━\u001b[0m\u001b[37m\u001b[0m \u001b[1m1s\u001b[0m 7ms/step - accuracy: 0.8562 - loss: 0.3446 - val_accuracy: 0.8215 - val_loss: 0.4411 - learning_rate: 0.0010\n",
            "Epoch 25/100\n",
            "\u001b[1m83/83\u001b[0m \u001b[32m━━━━━━━━━━━━━━━━━━━━\u001b[0m\u001b[37m\u001b[0m \u001b[1m1s\u001b[0m 7ms/step - accuracy: 0.8613 - loss: 0.3343 - val_accuracy: 0.8157 - val_loss: 0.4979 - learning_rate: 0.0010\n",
            "Epoch 26/100\n",
            "\u001b[1m83/83\u001b[0m \u001b[32m━━━━━━━━━━━━━━━━━━━━\u001b[0m\u001b[37m\u001b[0m \u001b[1m1s\u001b[0m 7ms/step - accuracy: 0.8644 - loss: 0.3289 - val_accuracy: 0.8225 - val_loss: 0.4499 - learning_rate: 1.0000e-04\n",
            "Epoch 27/100\n",
            "\u001b[1m83/83\u001b[0m \u001b[32m━━━━━━━━━━━━━━━━━━━━\u001b[0m\u001b[37m\u001b[0m \u001b[1m1s\u001b[0m 7ms/step - accuracy: 0.8725 - loss: 0.3093 - val_accuracy: 0.8212 - val_loss: 0.4560 - learning_rate: 1.0000e-04\n",
            "Epoch 28/100\n",
            "\u001b[1m83/83\u001b[0m \u001b[32m━━━━━━━━━━━━━━━━━━━━\u001b[0m\u001b[37m\u001b[0m \u001b[1m1s\u001b[0m 7ms/step - accuracy: 0.8756 - loss: 0.3045 - val_accuracy: 0.8203 - val_loss: 0.4565 - learning_rate: 1.0000e-04\n",
            "Epoch 29/100\n",
            "\u001b[1m83/83\u001b[0m \u001b[32m━━━━━━━━━━━━━━━━━━━━\u001b[0m\u001b[37m\u001b[0m \u001b[1m1s\u001b[0m 7ms/step - accuracy: 0.8787 - loss: 0.2986 - val_accuracy: 0.8194 - val_loss: 0.4594 - learning_rate: 1.0000e-04\n",
            "Epoch 30/100\n",
            "\u001b[1m83/83\u001b[0m \u001b[32m━━━━━━━━━━━━━━━━━━━━\u001b[0m\u001b[37m\u001b[0m \u001b[1m1s\u001b[0m 8ms/step - accuracy: 0.8805 - loss: 0.2939 - val_accuracy: 0.8182 - val_loss: 0.4614 - learning_rate: 1.0000e-04\n",
            "Epoch 31/100\n",
            "\u001b[1m83/83\u001b[0m \u001b[32m━━━━━━━━━━━━━━━━━━━━\u001b[0m\u001b[37m\u001b[0m \u001b[1m1s\u001b[0m 8ms/step - accuracy: 0.8792 - loss: 0.2967 - val_accuracy: 0.8193 - val_loss: 0.4654 - learning_rate: 1.0000e-04\n",
            "Epoch 32/100\n",
            "\u001b[1m83/83\u001b[0m \u001b[32m━━━━━━━━━━━━━━━━━━━━\u001b[0m\u001b[37m\u001b[0m \u001b[1m1s\u001b[0m 8ms/step - accuracy: 0.8745 - loss: 0.3051 - val_accuracy: 0.8195 - val_loss: 0.4687 - learning_rate: 1.0000e-04\n",
            "Epoch 33/100\n",
            "\u001b[1m83/83\u001b[0m \u001b[32m━━━━━━━━━━━━━━━━━━━━\u001b[0m\u001b[37m\u001b[0m \u001b[1m1s\u001b[0m 7ms/step - accuracy: 0.8818 - loss: 0.2904 - val_accuracy: 0.8185 - val_loss: 0.4698 - learning_rate: 1.0000e-04\n",
            "Epoch 34/100\n",
            "\u001b[1m83/83\u001b[0m \u001b[32m━━━━━━━━━━━━━━━━━━━━\u001b[0m\u001b[37m\u001b[0m \u001b[1m1s\u001b[0m 8ms/step - accuracy: 0.8804 - loss: 0.2939 - val_accuracy: 0.8146 - val_loss: 0.4696 - learning_rate: 1.0000e-04\n",
            "Epoch 35/100\n",
            "\u001b[1m83/83\u001b[0m \u001b[32m━━━━━━━━━━━━━━━━━━━━\u001b[0m\u001b[37m\u001b[0m \u001b[1m1s\u001b[0m 7ms/step - accuracy: 0.8774 - loss: 0.2990 - val_accuracy: 0.8148 - val_loss: 0.4719 - learning_rate: 1.0000e-04\n",
            "Epoch 36/100\n",
            "\u001b[1m83/83\u001b[0m \u001b[32m━━━━━━━━━━━━━━━━━━━━\u001b[0m\u001b[37m\u001b[0m \u001b[1m1s\u001b[0m 9ms/step - accuracy: 0.8831 - loss: 0.2880 - val_accuracy: 0.8171 - val_loss: 0.4726 - learning_rate: 1.0000e-05\n",
            "Epoch 37/100\n",
            "\u001b[1m83/83\u001b[0m \u001b[32m━━━━━━━━━━━━━━━━━━━━\u001b[0m\u001b[37m\u001b[0m \u001b[1m1s\u001b[0m 9ms/step - accuracy: 0.8829 - loss: 0.2889 - val_accuracy: 0.8176 - val_loss: 0.4737 - learning_rate: 1.0000e-05\n",
            "Epoch 38/100\n",
            "\u001b[1m83/83\u001b[0m \u001b[32m━━━━━━━━━━━━━━━━━━━━\u001b[0m\u001b[37m\u001b[0m \u001b[1m1s\u001b[0m 7ms/step - accuracy: 0.8806 - loss: 0.2925 - val_accuracy: 0.8170 - val_loss: 0.4735 - learning_rate: 1.0000e-05\n",
            "Epoch 39/100\n",
            "\u001b[1m83/83\u001b[0m \u001b[32m━━━━━━━━━━━━━━━━━━━━\u001b[0m\u001b[37m\u001b[0m \u001b[1m1s\u001b[0m 7ms/step - accuracy: 0.8852 - loss: 0.2838 - val_accuracy: 0.8169 - val_loss: 0.4742 - learning_rate: 1.0000e-05\n",
            "Epoch 40/100\n",
            "\u001b[1m83/83\u001b[0m \u001b[32m━━━━━━━━━━━━━━━━━━━━\u001b[0m\u001b[37m\u001b[0m \u001b[1m1s\u001b[0m 7ms/step - accuracy: 0.8819 - loss: 0.2905 - val_accuracy: 0.8167 - val_loss: 0.4748 - learning_rate: 1.0000e-05\n"
          ]
        }
      ],
      "source": [
        "# Instantiate the model\n",
        "model = build_segmentation_model()\n",
        "\n",
        "# Train the model\n",
        "history = model.fit(X_train, y_train, epochs=100, batch_size=32, validation_data=(X_val, y_val), callbacks=[early_stopping, reduce_lr])"
      ]
    },
    {
      "cell_type": "code",
      "execution_count": 11,
      "metadata": {
        "colab": {
          "base_uri": "https://localhost:8080/",
          "height": 524
        },
        "id": "cF3E-ualM_Ir",
        "outputId": "f68b6299-8735-41aa-f8cc-4913a9724e23"
      },
      "outputs": [
        {
          "output_type": "stream",
          "name": "stdout",
          "text": [
            "\u001b[1m21/21\u001b[0m \u001b[32m━━━━━━━━━━━━━━━━━━━━\u001b[0m\u001b[37m\u001b[0m \u001b[1m1s\u001b[0m 15ms/step\n",
            "(657, 48, 48, 2) (657, 48, 48, 2)\n",
            "Balanced accuracy: 0.7320796631111266\n"
          ]
        },
        {
          "output_type": "display_data",
          "data": {
            "text/plain": [
              "<Figure size 640x480 with 2 Axes>"
            ],
            "image/png": "[encoded data removed]"
          },
          "metadata": {}
        }
      ],
      "source": [
        "\n",
        "y_pred = model.predict(X_val)\n",
        "y_pred_final = np.argmax(y_pred, axis=-1)\n",
        "y_val_final = np.argmax(y_val, axis=-1)\n",
        "print(y_pred.shape, y_val.shape)\n",
        "\n",
        "print('Balanced accuracy:', balanced_accuracy_score(y_val_final.flatten(), y_pred_final.flatten()))\n",
        "\n",
        "# Confusion matrix\n",
        "cm = confusion_matrix(y_val_final.flatten(), y_pred_final.flatten())\n",
        "\n",
        "# Display confusion matrix\n",
        "disp = ConfusionMatrixDisplay(confusion_matrix=cm)\n",
        "disp.plot(cmap='Blues')\n",
        "plt.title('Confusion Matrix')\n",
        "plt.show()"
      ]
    }
  ],
  "metadata": {
    "kernelspec": {
      "display_name": "Python 3",
      "name": "python3"
    },
    "language_info": {
      "codemirror_mode": {
        "name": "ipython",
        "version": 3
      },
      "file_extension": ".py",
      "mimetype": "text/x-python",
      "name": "python",
      "nbconvert_exporter": "python",
      "pygments_lexer": "ipython3",
      "version": "3.12.6"
    },
    "colab": {
      "provenance": [],
      "gpuType": "T4",
      "include_colab_link": true
    },
    "accelerator": "GPU"
  },
  "nbformat": 4,
  "nbformat_minor": 0
}