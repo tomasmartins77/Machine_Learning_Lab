{
  "cells": [
    {
      "cell_type": "markdown",
      "metadata": {
        "id": "view-in-github",
        "colab_type": "text"
      },
      "source": [
        "<a href=\"https://colab.research.google.com/github/tomasmartins77/Machine_Learning_Lab/blob/main/pergunta2_parte2_CNN_augmentation.ipynb\" target=\"_parent\"><img src=\"https://colab.research.google.com/assets/colab-badge.svg\" alt=\"Open In Colab\"/></a>"
      ]
    },
    {
      "cell_type": "markdown",
      "metadata": {
        "id": "0HivOqhBM_Im"
      },
      "source": [
        "# AAut Second problem part 2\n",
        "## Image Segmentation"
      ]
    },
    {
      "cell_type": "markdown",
      "metadata": {
        "id": "WEn-Tm4AM_In"
      },
      "source": [
        "Import Libraries"
      ]
    },
    {
      "cell_type": "code",
      "execution_count": 30,
      "metadata": {
        "id": "p6ZC3X68M_Io"
      },
      "outputs": [],
      "source": [
        "import numpy as np\n",
        "import matplotlib.pyplot as plt\n",
        "from tensorflow.keras import layers, models\n",
        "from sklearn.model_selection import train_test_split\n",
        "from sklearn.metrics import balanced_accuracy_score\n",
        "from tensorflow.keras.callbacks import EarlyStopping, ReduceLROnPlateau\n",
        "from tensorflow.keras.utils import to_categorical\n",
        "from sklearn.metrics import confusion_matrix, ConfusionMatrixDisplay\n",
        "from PIL import Image"
      ]
    },
    {
      "cell_type": "markdown",
      "metadata": {
        "id": "y-tu_l4MM_Io"
      },
      "source": [
        "Load data, normalize it and create train test data sets"
      ]
    },
    {
      "cell_type": "code",
      "execution_count": 31,
      "metadata": {
        "id": "QiAnlAlrM_Io"
      },
      "outputs": [],
      "source": [
        "# Load dataset\n",
        "X_train = np.load('Xtrain2_b.npy')  # format b\n",
        "y_train = np.load('Ytrain2_b.npy')  # segmentation masks\n",
        "\n",
        "# Normalizing the input data\n",
        "y_train = y_train / 255.0\n",
        "\n",
        "# Reshaping the input data\n",
        "X_train = X_train.reshape(-1, 48, 48)\n",
        "y_train = y_train.reshape(-1, 48, 48)\n",
        "\n",
        "# Categorize the labels\n",
        "y_train = to_categorical(y_train, num_classes=2)\n"
      ]
    },
    {
      "cell_type": "code",
      "execution_count": 32,
      "metadata": {
        "id": "59BoygbeM_Ip"
      },
      "outputs": [],
      "source": [
        "def augment_image(image, mask):\n",
        "    augmented_images = []\n",
        "    augmented_masks = []\n",
        "\n",
        "    # Original image\n",
        "    augmented_images.append(image)\n",
        "    augmented_masks.append(mask)\n",
        "\n",
        "    # Horizontal flip\n",
        "    augmented_images.append(np.fliplr(image))\n",
        "    augmented_masks.append(np.fliplr(mask))\n",
        "\n",
        "    # Vertical flip\n",
        "    augmented_images.append(np.flipud(image))\n",
        "    augmented_masks.append(np.flipud(mask))\n",
        "\n",
        "    # Rotate 90 degrees\n",
        "    augmented_images.append(np.rot90(image, k=1))\n",
        "    augmented_masks.append(np.rot90(mask, k=1))\n",
        "\n",
        "    # Rotate 180 degrees\n",
        "    augmented_images.append(np.rot90(image, k=2))\n",
        "    augmented_masks.append(np.rot90(mask, k=2))\n",
        "\n",
        "    # Rotate 270 degrees\n",
        "    augmented_images.append(np.rot90(image, k=3))\n",
        "    augmented_masks.append(np.rot90(mask, k=3))\n",
        "\n",
        "    return augmented_images, augmented_masks"
      ]
    },
    {
      "cell_type": "code",
      "execution_count": 33,
      "metadata": {
        "id": "s5Q36lbqM_Ip"
      },
      "outputs": [],
      "source": [
        "# Apply augmentation functions\n",
        "augmented_X_train = []\n",
        "augmented_y_train = []\n",
        "\n",
        "for img, mask in zip(X_train, y_train):\n",
        "    imgs, masks = augment_image(img, mask)\n",
        "    augmented_X_train.extend(imgs)\n",
        "    augmented_y_train.extend(masks)\n",
        "\n",
        "# Convert lists to numpy arrays\n",
        "augmented_X_train = np.array(augmented_X_train)\n",
        "augmented_y_train = np.array(augmented_y_train)\n",
        "\n",
        "# Shuffle the data\n",
        "idx = np.random.permutation(len(augmented_X_train))\n",
        "augmented_X_train = augmented_X_train[idx]\n",
        "augmented_y_train = augmented_y_train[idx]"
      ]
    },
    {
      "cell_type": "code",
      "execution_count": 34,
      "metadata": {
        "colab": {
          "base_uri": "https://localhost:8080/"
        },
        "id": "HepIlnX6M_Ip",
        "outputId": "1d6fc251-8254-4cf8-a3e2-3c75c4405e34"
      },
      "outputs": [
        {
          "output_type": "stream",
          "name": "stdout",
          "text": [
            "(437, 48, 48) (110, 48, 48) (437, 48, 48, 2) (110, 48, 48, 2)\n"
          ]
        }
      ],
      "source": [
        "# Splitting the data into training and validation sets\n",
        "X_train, X_val, y_train, y_val = train_test_split(X_train, y_train, test_size=0.2, random_state=42)\n",
        "print(X_train.shape, X_val.shape, y_train.shape, y_val.shape)"
      ]
    },
    {
      "cell_type": "markdown",
      "metadata": {
        "id": "EFO1D6gVM_Ip"
      },
      "source": [
        "CNN model creation"
      ]
    },
    {
      "cell_type": "code",
      "execution_count": 35,
      "metadata": {
        "id": "inY9WzSHM_Iq"
      },
      "outputs": [],
      "source": [
        "# Define a CNN model for segmentation\n",
        "def build_segmentation_model():\n",
        "    model = models.Sequential()\n",
        "    model.add(layers.Input(shape=(48, 48, 1)))\n",
        "\n",
        "    # Convolutional layer 1\n",
        "    model.add(layers.Conv2D(32, (3, 3), activation='relu', padding='same'))\n",
        "    model.add(layers.MaxPooling2D((2, 2)))\n",
        "\n",
        "    # Convolutional layer 2\n",
        "    model.add(layers.Conv2D(64, (3, 3), activation='relu', padding='same'))\n",
        "    model.add(layers.MaxPooling2D((2, 2)))\n",
        "\n",
        "    # Convolutional layer 3\n",
        "    model.add(layers.Conv2D(128, (3, 3), activation='relu', padding='same'))\n",
        "\n",
        "    # Upsampling and Reconstruction layers for segmentation\n",
        "    model.add(layers.Conv2DTranspose(64, (3, 3), strides=(2, 2), padding='same'))\n",
        "    model.add(layers.Conv2DTranspose(32, (3, 3), strides=(2, 2), padding='same'))\n",
        "\n",
        "    # Output layer (2 classes: crater or background)\n",
        "    model.add(layers.Conv2D(2, (1, 1), activation='softmax'))\n",
        "\n",
        "    model.compile(optimizer='adam', loss='categorical_crossentropy', metrics=['accuracy'])\n",
        "    return model"
      ]
    },
    {
      "cell_type": "code",
      "source": [
        "def build_mlp_segmentation_model():\n",
        "    model = models.Sequential()\n",
        "    model.add(layers.Input(shape=(48, 48, 1)))  # Input layer for 48x48 images\n",
        "    model.add(layers.Flatten())  # Flatten the input for MLP\n",
        "    model.add(layers.Dense(512, activation='relu'))  # First hidden layer\n",
        "    model.add(layers.Dense(256, activation='relu'))  # Second hidden layer\n",
        "    model.add(layers.Dense(48 * 48 * 2, activation='softmax'))  # Output layer\n",
        "    model.add(layers.Reshape((48, 48, 2)))  # Reshape output for segmentation\n",
        "    model.compile(optimizer='adam', loss='categorical_crossentropy', metrics=['accuracy'])\n",
        "    return model"
      ],
      "metadata": {
        "id": "LJ4xPz3cX1Jx"
      },
      "execution_count": 43,
      "outputs": []
    },
    {
      "cell_type": "markdown",
      "metadata": {
        "id": "MnDgB-sxM_Iq"
      },
      "source": [
        "### Train the model"
      ]
    },
    {
      "cell_type": "markdown",
      "metadata": {
        "id": "ZVJ7aJ_YM_Iq"
      },
      "source": [
        "Callbacks"
      ]
    },
    {
      "cell_type": "code",
      "execution_count": 37,
      "metadata": {
        "id": "B5whNI4CM_Iq"
      },
      "outputs": [],
      "source": [
        "early_stopping = EarlyStopping(monitor='val_loss', patience=25, restore_best_weights=True)\n",
        "reduce_lr = ReduceLROnPlateau(monitor='val_loss', factor=0.1, patience=10, min_lr=1e-5)"
      ]
    },
    {
      "cell_type": "code",
      "execution_count": 38,
      "metadata": {
        "colab": {
          "base_uri": "https://localhost:8080/"
        },
        "collapsed": true,
        "id": "_Lu1u51gM_Iq",
        "outputId": "5f141866-ec8c-4ff9-d2a9-37c21167fadd"
      },
      "outputs": [
        {
          "output_type": "stream",
          "name": "stdout",
          "text": [
            "Epoch 1/100\n",
            "\u001b[1m14/14\u001b[0m \u001b[32m━━━━━━━━━━━━━━━━━━━━\u001b[0m\u001b[37m\u001b[0m \u001b[1m6s\u001b[0m 255ms/step - accuracy: 0.6095 - loss: 1.0893 - val_accuracy: 0.7035 - val_loss: 0.6011 - learning_rate: 0.0010\n",
            "Epoch 2/100\n",
            "\u001b[1m14/14\u001b[0m \u001b[32m━━━━━━━━━━━━━━━━━━━━\u001b[0m\u001b[37m\u001b[0m \u001b[1m1s\u001b[0m 12ms/step - accuracy: 0.7235 - loss: 0.5719 - val_accuracy: 0.7105 - val_loss: 0.5775 - learning_rate: 0.0010\n",
            "Epoch 3/100\n",
            "\u001b[1m14/14\u001b[0m \u001b[32m━━━━━━━━━━━━━━━━━━━━\u001b[0m\u001b[37m\u001b[0m \u001b[1m0s\u001b[0m 11ms/step - accuracy: 0.7354 - loss: 0.5509 - val_accuracy: 0.7488 - val_loss: 0.5395 - learning_rate: 0.0010\n",
            "Epoch 4/100\n",
            "\u001b[1m14/14\u001b[0m \u001b[32m━━━━━━━━━━━━━━━━━━━━\u001b[0m\u001b[37m\u001b[0m \u001b[1m0s\u001b[0m 10ms/step - accuracy: 0.7673 - loss: 0.5072 - val_accuracy: 0.7579 - val_loss: 0.5343 - learning_rate: 0.0010\n",
            "Epoch 5/100\n",
            "\u001b[1m14/14\u001b[0m \u001b[32m━━━━━━━━━━━━━━━━━━━━\u001b[0m\u001b[37m\u001b[0m \u001b[1m0s\u001b[0m 10ms/step - accuracy: 0.7694 - loss: 0.5086 - val_accuracy: 0.7551 - val_loss: 0.5253 - learning_rate: 0.0010\n",
            "Epoch 6/100\n",
            "\u001b[1m14/14\u001b[0m \u001b[32m━━━━━━━━━━━━━━━━━━━━\u001b[0m\u001b[37m\u001b[0m \u001b[1m0s\u001b[0m 10ms/step - accuracy: 0.7861 - loss: 0.4838 - val_accuracy: 0.7730 - val_loss: 0.5162 - learning_rate: 0.0010\n",
            "Epoch 7/100\n",
            "\u001b[1m14/14\u001b[0m \u001b[32m━━━━━━━━━━━━━━━━━━━━\u001b[0m\u001b[37m\u001b[0m \u001b[1m0s\u001b[0m 10ms/step - accuracy: 0.7915 - loss: 0.4727 - val_accuracy: 0.7790 - val_loss: 0.4961 - learning_rate: 0.0010\n",
            "Epoch 8/100\n",
            "\u001b[1m14/14\u001b[0m \u001b[32m━━━━━━━━━━━━━━━━━━━━\u001b[0m\u001b[37m\u001b[0m \u001b[1m0s\u001b[0m 9ms/step - accuracy: 0.7962 - loss: 0.4620 - val_accuracy: 0.7710 - val_loss: 0.5402 - learning_rate: 0.0010\n",
            "Epoch 9/100\n",
            "\u001b[1m14/14\u001b[0m \u001b[32m━━━━━━━━━━━━━━━━━━━━\u001b[0m\u001b[37m\u001b[0m \u001b[1m0s\u001b[0m 9ms/step - accuracy: 0.7901 - loss: 0.4778 - val_accuracy: 0.7811 - val_loss: 0.5030 - learning_rate: 0.0010\n",
            "Epoch 10/100\n",
            "\u001b[1m14/14\u001b[0m \u001b[32m━━━━━━━━━━━━━━━━━━━━\u001b[0m\u001b[37m\u001b[0m \u001b[1m0s\u001b[0m 9ms/step - accuracy: 0.8048 - loss: 0.4467 - val_accuracy: 0.7816 - val_loss: 0.4966 - learning_rate: 0.0010\n",
            "Epoch 11/100\n",
            "\u001b[1m14/14\u001b[0m \u001b[32m━━━━━━━━━━━━━━━━━━━━\u001b[0m\u001b[37m\u001b[0m \u001b[1m0s\u001b[0m 9ms/step - accuracy: 0.7904 - loss: 0.4772 - val_accuracy: 0.7848 - val_loss: 0.4923 - learning_rate: 0.0010\n",
            "Epoch 12/100\n",
            "\u001b[1m14/14\u001b[0m \u001b[32m━━━━━━━━━━━━━━━━━━━━\u001b[0m\u001b[37m\u001b[0m \u001b[1m0s\u001b[0m 9ms/step - accuracy: 0.8065 - loss: 0.4473 - val_accuracy: 0.7891 - val_loss: 0.4828 - learning_rate: 0.0010\n",
            "Epoch 13/100\n",
            "\u001b[1m14/14\u001b[0m \u001b[32m━━━━━━━━━━━━━━━━━━━━\u001b[0m\u001b[37m\u001b[0m \u001b[1m0s\u001b[0m 9ms/step - accuracy: 0.8133 - loss: 0.4365 - val_accuracy: 0.7886 - val_loss: 0.4776 - learning_rate: 0.0010\n",
            "Epoch 14/100\n",
            "\u001b[1m14/14\u001b[0m \u001b[32m━━━━━━━━━━━━━━━━━━━━\u001b[0m\u001b[37m\u001b[0m \u001b[1m0s\u001b[0m 9ms/step - accuracy: 0.8246 - loss: 0.4132 - val_accuracy: 0.7982 - val_loss: 0.4662 - learning_rate: 0.0010\n",
            "Epoch 15/100\n",
            "\u001b[1m14/14\u001b[0m \u001b[32m━━━━━━━━━━━━━━━━━━━━\u001b[0m\u001b[37m\u001b[0m \u001b[1m0s\u001b[0m 9ms/step - accuracy: 0.8177 - loss: 0.4237 - val_accuracy: 0.7990 - val_loss: 0.4657 - learning_rate: 0.0010\n",
            "Epoch 16/100\n",
            "\u001b[1m14/14\u001b[0m \u001b[32m━━━━━━━━━━━━━━━━━━━━\u001b[0m\u001b[37m\u001b[0m \u001b[1m0s\u001b[0m 9ms/step - accuracy: 0.8127 - loss: 0.4358 - val_accuracy: 0.7919 - val_loss: 0.4905 - learning_rate: 0.0010\n",
            "Epoch 17/100\n",
            "\u001b[1m14/14\u001b[0m \u001b[32m━━━━━━━━━━━━━━━━━━━━\u001b[0m\u001b[37m\u001b[0m \u001b[1m0s\u001b[0m 8ms/step - accuracy: 0.8186 - loss: 0.4254 - val_accuracy: 0.8001 - val_loss: 0.4683 - learning_rate: 0.0010\n",
            "Epoch 18/100\n",
            "\u001b[1m14/14\u001b[0m \u001b[32m━━━━━━━━━━━━━━━━━━━━\u001b[0m\u001b[37m\u001b[0m \u001b[1m0s\u001b[0m 9ms/step - accuracy: 0.8365 - loss: 0.3904 - val_accuracy: 0.8025 - val_loss: 0.4586 - learning_rate: 0.0010\n",
            "Epoch 19/100\n",
            "\u001b[1m14/14\u001b[0m \u001b[32m━━━━━━━━━━━━━━━━━━━━\u001b[0m\u001b[37m\u001b[0m \u001b[1m0s\u001b[0m 9ms/step - accuracy: 0.8372 - loss: 0.3897 - val_accuracy: 0.8040 - val_loss: 0.4528 - learning_rate: 0.0010\n",
            "Epoch 20/100\n",
            "\u001b[1m14/14\u001b[0m \u001b[32m━━━━━━━━━━━━━━━━━━━━\u001b[0m\u001b[37m\u001b[0m \u001b[1m0s\u001b[0m 9ms/step - accuracy: 0.8338 - loss: 0.3953 - val_accuracy: 0.8034 - val_loss: 0.4690 - learning_rate: 0.0010\n",
            "Epoch 21/100\n",
            "\u001b[1m14/14\u001b[0m \u001b[32m━━━━━━━━━━━━━━━━━━━━\u001b[0m\u001b[37m\u001b[0m \u001b[1m0s\u001b[0m 9ms/step - accuracy: 0.8289 - loss: 0.4032 - val_accuracy: 0.8004 - val_loss: 0.4655 - learning_rate: 0.0010\n",
            "Epoch 22/100\n",
            "\u001b[1m14/14\u001b[0m \u001b[32m━━━━━━━━━━━━━━━━━━━━\u001b[0m\u001b[37m\u001b[0m \u001b[1m0s\u001b[0m 8ms/step - accuracy: 0.8323 - loss: 0.3920 - val_accuracy: 0.8031 - val_loss: 0.4874 - learning_rate: 0.0010\n",
            "Epoch 23/100\n",
            "\u001b[1m14/14\u001b[0m \u001b[32m━━━━━━━━━━━━━━━━━━━━\u001b[0m\u001b[37m\u001b[0m \u001b[1m0s\u001b[0m 8ms/step - accuracy: 0.8360 - loss: 0.3883 - val_accuracy: 0.8106 - val_loss: 0.4599 - learning_rate: 0.0010\n",
            "Epoch 24/100\n",
            "\u001b[1m14/14\u001b[0m \u001b[32m━━━━━━━━━━━━━━━━━━━━\u001b[0m\u001b[37m\u001b[0m \u001b[1m0s\u001b[0m 8ms/step - accuracy: 0.8392 - loss: 0.3867 - val_accuracy: 0.8087 - val_loss: 0.4696 - learning_rate: 0.0010\n",
            "Epoch 25/100\n",
            "\u001b[1m14/14\u001b[0m \u001b[32m━━━━━━━━━━━━━━━━━━━━\u001b[0m\u001b[37m\u001b[0m \u001b[1m0s\u001b[0m 8ms/step - accuracy: 0.8447 - loss: 0.3743 - val_accuracy: 0.8091 - val_loss: 0.4587 - learning_rate: 0.0010\n",
            "Epoch 26/100\n",
            "\u001b[1m14/14\u001b[0m \u001b[32m━━━━━━━━━━━━━━━━━━━━\u001b[0m\u001b[37m\u001b[0m \u001b[1m0s\u001b[0m 9ms/step - accuracy: 0.8398 - loss: 0.3813 - val_accuracy: 0.8122 - val_loss: 0.4506 - learning_rate: 0.0010\n",
            "Epoch 27/100\n",
            "\u001b[1m14/14\u001b[0m \u001b[32m━━━━━━━━━━━━━━━━━━━━\u001b[0m\u001b[37m\u001b[0m \u001b[1m0s\u001b[0m 9ms/step - accuracy: 0.8487 - loss: 0.3602 - val_accuracy: 0.7913 - val_loss: 0.4742 - learning_rate: 0.0010\n",
            "Epoch 28/100\n",
            "\u001b[1m14/14\u001b[0m \u001b[32m━━━━━━━━━━━━━━━━━━━━\u001b[0m\u001b[37m\u001b[0m \u001b[1m0s\u001b[0m 27ms/step - accuracy: 0.8505 - loss: 0.3594 - val_accuracy: 0.8119 - val_loss: 0.4655 - learning_rate: 0.0010\n",
            "Epoch 29/100\n",
            "\u001b[1m14/14\u001b[0m \u001b[32m━━━━━━━━━━━━━━━━━━━━\u001b[0m\u001b[37m\u001b[0m \u001b[1m0s\u001b[0m 10ms/step - accuracy: 0.8575 - loss: 0.3455 - val_accuracy: 0.8133 - val_loss: 0.4638 - learning_rate: 0.0010\n",
            "Epoch 30/100\n",
            "\u001b[1m14/14\u001b[0m \u001b[32m━━━━━━━━━━━━━━━━━━━━\u001b[0m\u001b[37m\u001b[0m \u001b[1m0s\u001b[0m 8ms/step - accuracy: 0.8570 - loss: 0.3460 - val_accuracy: 0.8112 - val_loss: 0.4670 - learning_rate: 0.0010\n",
            "Epoch 31/100\n",
            "\u001b[1m14/14\u001b[0m \u001b[32m━━━━━━━━━━━━━━━━━━━━\u001b[0m\u001b[37m\u001b[0m \u001b[1m1s\u001b[0m 26ms/step - accuracy: 0.8609 - loss: 0.3376 - val_accuracy: 0.8152 - val_loss: 0.4591 - learning_rate: 0.0010\n",
            "Epoch 32/100\n",
            "\u001b[1m14/14\u001b[0m \u001b[32m━━━━━━━━━━━━━━━━━━━━\u001b[0m\u001b[37m\u001b[0m \u001b[1m0s\u001b[0m 10ms/step - accuracy: 0.8574 - loss: 0.3436 - val_accuracy: 0.8061 - val_loss: 0.4731 - learning_rate: 0.0010\n",
            "Epoch 33/100\n",
            "\u001b[1m14/14\u001b[0m \u001b[32m━━━━━━━━━━━━━━━━━━━━\u001b[0m\u001b[37m\u001b[0m \u001b[1m0s\u001b[0m 9ms/step - accuracy: 0.8672 - loss: 0.3254 - val_accuracy: 0.8112 - val_loss: 0.4704 - learning_rate: 0.0010\n",
            "Epoch 34/100\n",
            "\u001b[1m14/14\u001b[0m \u001b[32m━━━━━━━━━━━━━━━━━━━━\u001b[0m\u001b[37m\u001b[0m \u001b[1m0s\u001b[0m 8ms/step - accuracy: 0.8653 - loss: 0.3308 - val_accuracy: 0.8001 - val_loss: 0.4858 - learning_rate: 0.0010\n",
            "Epoch 35/100\n",
            "\u001b[1m14/14\u001b[0m \u001b[32m━━━━━━━━━━━━━━━━━━━━\u001b[0m\u001b[37m\u001b[0m \u001b[1m0s\u001b[0m 9ms/step - accuracy: 0.8601 - loss: 0.3360 - val_accuracy: 0.8144 - val_loss: 0.4881 - learning_rate: 0.0010\n",
            "Epoch 36/100\n",
            "\u001b[1m14/14\u001b[0m \u001b[32m━━━━━━━━━━━━━━━━━━━━\u001b[0m\u001b[37m\u001b[0m \u001b[1m0s\u001b[0m 8ms/step - accuracy: 0.8700 - loss: 0.3196 - val_accuracy: 0.8022 - val_loss: 0.4892 - learning_rate: 0.0010\n",
            "Epoch 37/100\n",
            "\u001b[1m14/14\u001b[0m \u001b[32m━━━━━━━━━━━━━━━━━━━━\u001b[0m\u001b[37m\u001b[0m \u001b[1m0s\u001b[0m 9ms/step - accuracy: 0.8715 - loss: 0.3128 - val_accuracy: 0.8148 - val_loss: 0.4833 - learning_rate: 1.0000e-04\n",
            "Epoch 38/100\n",
            "\u001b[1m14/14\u001b[0m \u001b[32m━━━━━━━━━━━━━━━━━━━━\u001b[0m\u001b[37m\u001b[0m \u001b[1m0s\u001b[0m 9ms/step - accuracy: 0.8871 - loss: 0.2848 - val_accuracy: 0.8109 - val_loss: 0.4841 - learning_rate: 1.0000e-04\n",
            "Epoch 39/100\n",
            "\u001b[1m14/14\u001b[0m \u001b[32m━━━━━━━━━━━━━━━━━━━━\u001b[0m\u001b[37m\u001b[0m \u001b[1m0s\u001b[0m 8ms/step - accuracy: 0.8786 - loss: 0.2976 - val_accuracy: 0.8126 - val_loss: 0.4872 - learning_rate: 1.0000e-04\n",
            "Epoch 40/100\n",
            "\u001b[1m14/14\u001b[0m \u001b[32m━━━━━━━━━━━━━━━━━━━━\u001b[0m\u001b[37m\u001b[0m \u001b[1m0s\u001b[0m 8ms/step - accuracy: 0.8835 - loss: 0.2867 - val_accuracy: 0.8090 - val_loss: 0.4895 - learning_rate: 1.0000e-04\n",
            "Epoch 41/100\n",
            "\u001b[1m14/14\u001b[0m \u001b[32m━━━━━━━━━━━━━━━━━━━━\u001b[0m\u001b[37m\u001b[0m \u001b[1m0s\u001b[0m 9ms/step - accuracy: 0.8812 - loss: 0.2917 - val_accuracy: 0.8110 - val_loss: 0.4913 - learning_rate: 1.0000e-04\n",
            "Epoch 42/100\n",
            "\u001b[1m14/14\u001b[0m \u001b[32m━━━━━━━━━━━━━━━━━━━━\u001b[0m\u001b[37m\u001b[0m \u001b[1m0s\u001b[0m 9ms/step - accuracy: 0.8878 - loss: 0.2800 - val_accuracy: 0.8121 - val_loss: 0.4948 - learning_rate: 1.0000e-04\n",
            "Epoch 43/100\n",
            "\u001b[1m14/14\u001b[0m \u001b[32m━━━━━━━━━━━━━━━━━━━━\u001b[0m\u001b[37m\u001b[0m \u001b[1m0s\u001b[0m 8ms/step - accuracy: 0.8864 - loss: 0.2833 - val_accuracy: 0.8119 - val_loss: 0.4948 - learning_rate: 1.0000e-04\n",
            "Epoch 44/100\n",
            "\u001b[1m14/14\u001b[0m \u001b[32m━━━━━━━━━━━━━━━━━━━━\u001b[0m\u001b[37m\u001b[0m \u001b[1m0s\u001b[0m 8ms/step - accuracy: 0.8887 - loss: 0.2754 - val_accuracy: 0.8081 - val_loss: 0.4969 - learning_rate: 1.0000e-04\n",
            "Epoch 45/100\n",
            "\u001b[1m14/14\u001b[0m \u001b[32m━━━━━━━━━━━━━━━━━━━━\u001b[0m\u001b[37m\u001b[0m \u001b[1m0s\u001b[0m 9ms/step - accuracy: 0.8859 - loss: 0.2831 - val_accuracy: 0.8069 - val_loss: 0.4977 - learning_rate: 1.0000e-04\n",
            "Epoch 46/100\n",
            "\u001b[1m14/14\u001b[0m \u001b[32m━━━━━━━━━━━━━━━━━━━━\u001b[0m\u001b[37m\u001b[0m \u001b[1m0s\u001b[0m 10ms/step - accuracy: 0.8855 - loss: 0.2840 - val_accuracy: 0.8116 - val_loss: 0.4991 - learning_rate: 1.0000e-04\n",
            "Epoch 47/100\n",
            "\u001b[1m14/14\u001b[0m \u001b[32m━━━━━━━━━━━━━━━━━━━━\u001b[0m\u001b[37m\u001b[0m \u001b[1m0s\u001b[0m 10ms/step - accuracy: 0.8934 - loss: 0.2702 - val_accuracy: 0.8108 - val_loss: 0.4985 - learning_rate: 1.0000e-05\n",
            "Epoch 48/100\n",
            "\u001b[1m14/14\u001b[0m \u001b[32m━━━━━━━━━━━━━━━━━━━━\u001b[0m\u001b[37m\u001b[0m \u001b[1m0s\u001b[0m 10ms/step - accuracy: 0.8902 - loss: 0.2745 - val_accuracy: 0.8107 - val_loss: 0.4987 - learning_rate: 1.0000e-05\n",
            "Epoch 49/100\n",
            "\u001b[1m14/14\u001b[0m \u001b[32m━━━━━━━━━━━━━━━━━━━━\u001b[0m\u001b[37m\u001b[0m \u001b[1m0s\u001b[0m 9ms/step - accuracy: 0.8868 - loss: 0.2799 - val_accuracy: 0.8110 - val_loss: 0.4992 - learning_rate: 1.0000e-05\n",
            "Epoch 50/100\n",
            "\u001b[1m14/14\u001b[0m \u001b[32m━━━━━━━━━━━━━━━━━━━━\u001b[0m\u001b[37m\u001b[0m \u001b[1m0s\u001b[0m 11ms/step - accuracy: 0.8791 - loss: 0.2931 - val_accuracy: 0.8103 - val_loss: 0.4991 - learning_rate: 1.0000e-05\n",
            "Epoch 51/100\n",
            "\u001b[1m14/14\u001b[0m \u001b[32m━━━━━━━━━━━━━━━━━━━━\u001b[0m\u001b[37m\u001b[0m \u001b[1m0s\u001b[0m 12ms/step - accuracy: 0.8905 - loss: 0.2736 - val_accuracy: 0.8116 - val_loss: 0.4998 - learning_rate: 1.0000e-05\n"
          ]
        }
      ],
      "source": [
        "# Instantiate the model\n",
        "model = build_segmentation_model()\n",
        "\n",
        "# Train the model\n",
        "history = model.fit(X_train, y_train, epochs=100, batch_size=32, validation_data=(X_val, y_val), callbacks=[early_stopping, reduce_lr])"
      ]
    },
    {
      "cell_type": "code",
      "source": [
        "mlp_model = build_mlp_segmentation_model()\n",
        "\n",
        "history_mlp = mlp_model.fit(X_train, y_train, epochs=100, batch_size=32, validation_data=(X_val, y_val), callbacks=[early_stopping, reduce_lr])"
      ],
      "metadata": {
        "colab": {
          "base_uri": "https://localhost:8080/"
        },
        "id": "CrrAn0naX5D6",
        "outputId": "181e7701-c715-4092-b8e1-1e73c63dd331"
      },
      "execution_count": 45,
      "outputs": [
        {
          "output_type": "stream",
          "name": "stdout",
          "text": [
            "Epoch 1/100\n",
            "\u001b[1m14/14\u001b[0m \u001b[32m━━━━━━━━━━━━━━━━━━━━\u001b[0m\u001b[37m\u001b[0m \u001b[1m8s\u001b[0m 353ms/step - accuracy: 0.3569 - loss: nan - val_accuracy: 0.2940 - val_loss: nan - learning_rate: 0.0010\n",
            "Epoch 2/100\n",
            "\u001b[1m14/14\u001b[0m \u001b[32m━━━━━━━━━━━━━━━━━━━━\u001b[0m\u001b[37m\u001b[0m \u001b[1m4s\u001b[0m 6ms/step - accuracy: 0.2900 - loss: nan - val_accuracy: 0.2940 - val_loss: nan - learning_rate: 0.0010\n",
            "Epoch 3/100\n",
            "\u001b[1m14/14\u001b[0m \u001b[32m━━━━━━━━━━━━━━━━━━━━\u001b[0m\u001b[37m\u001b[0m \u001b[1m0s\u001b[0m 6ms/step - accuracy: 0.2902 - loss: nan - val_accuracy: 0.2940 - val_loss: nan - learning_rate: 0.0010\n",
            "Epoch 4/100\n",
            "\u001b[1m14/14\u001b[0m \u001b[32m━━━━━━━━━━━━━━━━━━━━\u001b[0m\u001b[37m\u001b[0m \u001b[1m0s\u001b[0m 5ms/step - accuracy: 0.2892 - loss: nan - val_accuracy: 0.2940 - val_loss: nan - learning_rate: 0.0010\n",
            "Epoch 5/100\n",
            "\u001b[1m14/14\u001b[0m \u001b[32m━━━━━━━━━━━━━━━━━━━━\u001b[0m\u001b[37m\u001b[0m \u001b[1m0s\u001b[0m 5ms/step - accuracy: 0.2949 - loss: nan - val_accuracy: 0.2940 - val_loss: nan - learning_rate: 0.0010\n",
            "Epoch 6/100\n",
            "\u001b[1m14/14\u001b[0m \u001b[32m━━━━━━━━━━━━━━━━━━━━\u001b[0m\u001b[37m\u001b[0m \u001b[1m0s\u001b[0m 6ms/step - accuracy: 0.2947 - loss: nan - val_accuracy: 0.2940 - val_loss: nan - learning_rate: 0.0010\n",
            "Epoch 7/100\n",
            "\u001b[1m14/14\u001b[0m \u001b[32m━━━━━━━━━━━━━━━━━━━━\u001b[0m\u001b[37m\u001b[0m \u001b[1m0s\u001b[0m 6ms/step - accuracy: 0.2923 - loss: nan - val_accuracy: 0.2940 - val_loss: nan - learning_rate: 0.0010\n",
            "Epoch 8/100\n",
            "\u001b[1m14/14\u001b[0m \u001b[32m━━━━━━━━━━━━━━━━━━━━\u001b[0m\u001b[37m\u001b[0m \u001b[1m0s\u001b[0m 5ms/step - accuracy: 0.2846 - loss: nan - val_accuracy: 0.2940 - val_loss: nan - learning_rate: 0.0010\n",
            "Epoch 9/100\n",
            "\u001b[1m14/14\u001b[0m \u001b[32m━━━━━━━━━━━━━━━━━━━━\u001b[0m\u001b[37m\u001b[0m \u001b[1m0s\u001b[0m 5ms/step - accuracy: 0.2891 - loss: nan - val_accuracy: 0.2940 - val_loss: nan - learning_rate: 0.0010\n",
            "Epoch 10/100\n",
            "\u001b[1m14/14\u001b[0m \u001b[32m━━━━━━━━━━━━━━━━━━━━\u001b[0m\u001b[37m\u001b[0m \u001b[1m0s\u001b[0m 5ms/step - accuracy: 0.2826 - loss: nan - val_accuracy: 0.2940 - val_loss: nan - learning_rate: 0.0010\n",
            "Epoch 11/100\n",
            "\u001b[1m14/14\u001b[0m \u001b[32m━━━━━━━━━━━━━━━━━━━━\u001b[0m\u001b[37m\u001b[0m \u001b[1m0s\u001b[0m 5ms/step - accuracy: 0.2904 - loss: nan - val_accuracy: 0.2940 - val_loss: nan - learning_rate: 1.0000e-04\n",
            "Epoch 12/100\n",
            "\u001b[1m14/14\u001b[0m \u001b[32m━━━━━━━━━━━━━━━━━━━━\u001b[0m\u001b[37m\u001b[0m \u001b[1m0s\u001b[0m 6ms/step - accuracy: 0.2853 - loss: nan - val_accuracy: 0.2940 - val_loss: nan - learning_rate: 1.0000e-04\n",
            "Epoch 13/100\n",
            "\u001b[1m14/14\u001b[0m \u001b[32m━━━━━━━━━━━━━━━━━━━━\u001b[0m\u001b[37m\u001b[0m \u001b[1m0s\u001b[0m 5ms/step - accuracy: 0.2880 - loss: nan - val_accuracy: 0.2940 - val_loss: nan - learning_rate: 1.0000e-04\n",
            "Epoch 14/100\n",
            "\u001b[1m14/14\u001b[0m \u001b[32m━━━━━━━━━━━━━━━━━━━━\u001b[0m\u001b[37m\u001b[0m \u001b[1m0s\u001b[0m 4ms/step - accuracy: 0.2835 - loss: nan - val_accuracy: 0.2940 - val_loss: nan - learning_rate: 1.0000e-04\n",
            "Epoch 15/100\n",
            "\u001b[1m14/14\u001b[0m \u001b[32m━━━━━━━━━━━━━━━━━━━━\u001b[0m\u001b[37m\u001b[0m \u001b[1m0s\u001b[0m 5ms/step - accuracy: 0.2891 - loss: nan - val_accuracy: 0.2940 - val_loss: nan - learning_rate: 1.0000e-04\n",
            "Epoch 16/100\n",
            "\u001b[1m14/14\u001b[0m \u001b[32m━━━━━━━━━━━━━━━━━━━━\u001b[0m\u001b[37m\u001b[0m \u001b[1m0s\u001b[0m 5ms/step - accuracy: 0.2892 - loss: nan - val_accuracy: 0.2940 - val_loss: nan - learning_rate: 1.0000e-04\n",
            "Epoch 17/100\n",
            "\u001b[1m14/14\u001b[0m \u001b[32m━━━━━━━━━━━━━━━━━━━━\u001b[0m\u001b[37m\u001b[0m \u001b[1m0s\u001b[0m 5ms/step - accuracy: 0.2835 - loss: nan - val_accuracy: 0.2940 - val_loss: nan - learning_rate: 1.0000e-04\n",
            "Epoch 18/100\n",
            "\u001b[1m14/14\u001b[0m \u001b[32m━━━━━━━━━━━━━━━━━━━━\u001b[0m\u001b[37m\u001b[0m \u001b[1m0s\u001b[0m 6ms/step - accuracy: 0.2853 - loss: nan - val_accuracy: 0.2940 - val_loss: nan - learning_rate: 1.0000e-04\n",
            "Epoch 19/100\n",
            "\u001b[1m14/14\u001b[0m \u001b[32m━━━━━━━━━━━━━━━━━━━━\u001b[0m\u001b[37m\u001b[0m \u001b[1m0s\u001b[0m 4ms/step - accuracy: 0.2983 - loss: nan - val_accuracy: 0.2940 - val_loss: nan - learning_rate: 1.0000e-04\n",
            "Epoch 20/100\n",
            "\u001b[1m14/14\u001b[0m \u001b[32m━━━━━━━━━━━━━━━━━━━━\u001b[0m\u001b[37m\u001b[0m \u001b[1m0s\u001b[0m 5ms/step - accuracy: 0.2741 - loss: nan - val_accuracy: 0.2940 - val_loss: nan - learning_rate: 1.0000e-04\n",
            "Epoch 21/100\n",
            "\u001b[1m14/14\u001b[0m \u001b[32m━━━━━━━━━━━━━━━━━━━━\u001b[0m\u001b[37m\u001b[0m \u001b[1m0s\u001b[0m 6ms/step - accuracy: 0.2842 - loss: nan - val_accuracy: 0.2940 - val_loss: nan - learning_rate: 1.0000e-05\n",
            "Epoch 22/100\n",
            "\u001b[1m14/14\u001b[0m \u001b[32m━━━━━━━━━━━━━━━━━━━━\u001b[0m\u001b[37m\u001b[0m \u001b[1m0s\u001b[0m 4ms/step - accuracy: 0.2865 - loss: nan - val_accuracy: 0.2940 - val_loss: nan - learning_rate: 1.0000e-05\n",
            "Epoch 23/100\n",
            "\u001b[1m14/14\u001b[0m \u001b[32m━━━━━━━━━━━━━━━━━━━━\u001b[0m\u001b[37m\u001b[0m \u001b[1m0s\u001b[0m 5ms/step - accuracy: 0.2882 - loss: nan - val_accuracy: 0.2940 - val_loss: nan - learning_rate: 1.0000e-05\n",
            "Epoch 24/100\n",
            "\u001b[1m14/14\u001b[0m \u001b[32m━━━━━━━━━━━━━━━━━━━━\u001b[0m\u001b[37m\u001b[0m \u001b[1m0s\u001b[0m 6ms/step - accuracy: 0.2882 - loss: nan - val_accuracy: 0.2940 - val_loss: nan - learning_rate: 1.0000e-05\n",
            "Epoch 25/100\n",
            "\u001b[1m14/14\u001b[0m \u001b[32m━━━━━━━━━━━━━━━━━━━━\u001b[0m\u001b[37m\u001b[0m \u001b[1m0s\u001b[0m 5ms/step - accuracy: 0.2911 - loss: nan - val_accuracy: 0.2940 - val_loss: nan - learning_rate: 1.0000e-05\n"
          ]
        }
      ]
    },
    {
      "cell_type": "code",
      "execution_count": null,
      "metadata": {
        "id": "cF3E-ualM_Ir"
      },
      "outputs": [],
      "source": [
        "\n",
        "y_pred = model.predict(X_val)\n",
        "y_pred_final = np.argmax(y_pred, axis=-1)\n",
        "y_val_final = np.argmax(y_val, axis=-1)\n",
        "print(y_pred.shape, y_val.shape)\n",
        "\n",
        "print('Balanced accuracy:', balanced_accuracy_score(y_val_final.flatten(), y_pred_final.flatten()))\n",
        "\n",
        "# Confusion matrix\n",
        "cm = confusion_matrix(y_val_final.flatten(), y_pred_final.flatten())\n",
        "\n",
        "# Display confusion matrix\n",
        "disp = ConfusionMatrixDisplay(confusion_matrix=cm)\n",
        "disp.plot(cmap='Blues')\n",
        "plt.title('Confusion Matrix')\n",
        "plt.show()"
      ]
    }
  ],
  "metadata": {
    "kernelspec": {
      "display_name": "Python 3",
      "name": "python3"
    },
    "language_info": {
      "codemirror_mode": {
        "name": "ipython",
        "version": 3
      },
      "file_extension": ".py",
      "mimetype": "text/x-python",
      "name": "python",
      "nbconvert_exporter": "python",
      "pygments_lexer": "ipython3",
      "version": "3.12.6"
    },
    "colab": {
      "provenance": [],
      "gpuType": "T4",
      "include_colab_link": true
    },
    "accelerator": "GPU"
  },
  "nbformat": 4,
  "nbformat_minor": 0
}